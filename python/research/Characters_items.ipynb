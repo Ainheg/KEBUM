{
 "cells": [
  {
   "cell_type": "code",
   "execution_count": 14,
   "id": "4e4a6665",
   "metadata": {},
   "outputs": [],
   "source": [
    "# PROCEDURALLY GENERATED ITEMS\n",
    "class Item:  \n",
    "    RARITIES_VARIANTS = {\n",
    "        \"Common\" : [ (1, 0) ],\n",
    "        \"Rare\" : [ (2, 0), (1, 1) ],\n",
    "        \"Epic\" : [ (2, 1), (1, 2) ],\n",
    "        \"Legendary\" : [ (2, 2), (3, 1), (1, 3) ]       \n",
    "    }\n",
    "    \n",
    "    TYPES = {\n",
    "        \"Headgear\" : {\n",
    "            \"stats+\" : [\"DEF\", \"CST\"],\n",
    "            \"stats-\" : [\"STR\", \"PER\"],\n",
    "            \"bonuses+\" : [\"%_ARMOR\", \"ARMOR\", \"%HP\", \"HP\"],\n",
    "            \"bonuses-\" : [\"%_ATK_PWR\", \"ATK_PWR\", \"CRIT_DMG\", \"CRIT_CHANCE\"]            \n",
    "        },\n",
    "        \"Armor\" : {\n",
    "            \"stats+\" : [\"DEF\", \"CST\"],\n",
    "            \"stats-\" : [\"STR\", \"PER\"],\n",
    "            \"bonuses+\" : [\"%_ARMOR\", \"ARMOR\", \"%HP\", \"HP\"],\n",
    "            \"bonuses-\" : [\"%_ATK_PWR\", \"ATK_PWR\", \"CRIT_DMG\", \"CRIT_CHANCE\"]            \n",
    "        },\n",
    "        \"Weapon\" : {\n",
    "            \"stats+\" : [\"STR\", \"AGI\"],\n",
    "            \"stats-\" : [\"DEF\", \"CST\"],\n",
    "            \"bonuses+\" : [\"%_ATK_PWR\", \"ATK_PWR\", \"CRIT_DMG\", \"CRIT_CHANCE\"],\n",
    "            \"bonuses-\" : [\"%_ARMOR\", \"ARMOR\", \"%HP\", \"HP\"]\n",
    "        },\n",
    "        \"Charm\" : {\n",
    "            \"stats+\" : [\"LCK\", \"PER\"],\n",
    "            \"stats-\" : [\"AGI\", \"CST\"],\n",
    "            \"bonuses+\" : [\"%_ATK_PWR\", \"ATK_PWR\", \"CRIT_DMG\", \"CRIT_CHANCE\"],\n",
    "            \"bonuses-\" : [\"%_ARMOR\", \"ARMOR\", \"%HP\", \"HP\"]            \n",
    "        }\n",
    "    }\n",
    "       \n",
    "    def __init__(self, luck : int, level : int, seed : int = None, item_type : str = None):\n",
    "        \n",
    "        import numpy.random as rnd\n",
    "        import numpy as np\n",
    "        from scipy.special import softmax\n",
    " \n",
    "        self.stats = {\n",
    "            \"STR\" : 0,\n",
    "            \"AGI\" : 0,\n",
    "            \"PER\" : 0,\n",
    "            \"DEF\" : 0,\n",
    "            \"LCK\" : 0,\n",
    "            \"CST\" : 0\n",
    "        }\n",
    "        \n",
    "        # TODO: POSORTOWAĆ ŻEBY % BYŁY NA KOŃCU\n",
    "        self.bonuses = {\n",
    "            \"%_ATK_PWR\" : 1.0,\n",
    "            \"%_ARMOR\" : 1.0,\n",
    "            \"%_HP\" : 1.0,\n",
    "            \"ATK_PWR\" : 0,\n",
    "            \"ARMOR\" : 0,\n",
    "            \"HP\" : 0,\n",
    "            \"CRIT_DMG\" : 0,\n",
    "            \"CRIT_CHANCE\" : 0,\n",
    "            \"EVA_CHANCE\" : 0\n",
    "            # TODO: dopisać wiemcej :-DDD\n",
    "        }\n",
    "\n",
    "        self.rarity = None\n",
    "        self.item_type = None\n",
    "\n",
    "        if seed:\n",
    "            rnd.seed(seed)\n",
    "            \n",
    "        # Get item_type:\n",
    "        if not item_type:\n",
    "            self.item_type = rnd.choice(list(self.TYPES.keys()))\n",
    "        else:\n",
    "            self.item_type = item_type\n",
    "        # Get rarity:\n",
    "        legendary_chance = 0.05 + luck / 100\n",
    "        epic_chance = 0.10 + luck / 100\n",
    "        rare_chance = 0.25 + luck / 100\n",
    "        common_chance = max(0.0, 1.0 - legendary_chance - epic_chance - rare_chance)\n",
    "        rarity_chances = np.array([common_chance, rare_chance, epic_chance, legendary_chance])\n",
    "        rarity_chances /= rarity_chances.sum()\n",
    "        self.rarity = rnd.choice(\n",
    "            [\"Common\", \"Rare\", \"Epic\", \"Legendary\"],\n",
    "            p=rarity_chances,\n",
    "            size = 1\n",
    "        )[0]\n",
    "        \n",
    "        # Get variant of item according to rarity:\n",
    "        variant = self.RARITIES_VARIANTS[self.rarity][rnd.choice(len(self.RARITIES_VARIANTS[self.rarity]))]\n",
    "        stats_to_gen, bonuses_to_gen = variant\n",
    "        \n",
    "        # Generate stats according to variant\n",
    "        stats_chances = []\n",
    "        base_chance = 1/len(self.stats)\n",
    "        for key in self.stats:\n",
    "            if key in self.TYPES[self.item_type][\"stats+\"]:\n",
    "                stats_chances.append(base_chance * 1.5)\n",
    "                continue\n",
    "            if key in self.TYPES[self.item_type][\"stats-\"]:\n",
    "                stats_chances.append(base_chance * 0.67)\n",
    "                continue\n",
    "            stats_chances.append(base_chance)\n",
    "        \n",
    "        stats_chances = np.array(stats_chances)\n",
    "        stats_chances /= stats_chances.sum()\n",
    "        \n",
    "        stats_to_gen = list(rnd.choice(list(self.stats.keys()), size = stats_to_gen, replace = False, p = stats_chances))\n",
    "        \n",
    "        for stat in stats_to_gen:\n",
    "            self.stats[stat] += max(1, round(rnd.normal(loc = level * 3 / 10, scale = 2.2)))\n",
    "            \n",
    "        # Generate bonuses according to variant\n",
    "        if bonuses_to_gen:\n",
    "            bonuses_chances = []\n",
    "            base_chance = 1/len(self.bonuses)\n",
    "            for key in self.bonuses:\n",
    "                if key in self.TYPES[self.item_type][\"bonuses+\"]:\n",
    "                    bonuses_chances.append(base_chance * 1.5)\n",
    "                    continue\n",
    "                if key in self.TYPES[self.item_type][\"bonuses-\"]:\n",
    "                    bonuses_chances.append(base_chance * 0.67)\n",
    "                    continue\n",
    "                bonuses_chances.append(base_chance)\n",
    "        \n",
    "            bonuses_chances = np.array(bonuses_chances)\n",
    "            bonuses_chances /= bonuses_chances.sum()\n",
    "            \n",
    "            bonuses_to_gen = list(rnd.choice(list(self.bonuses.keys()), size = bonuses_to_gen, replace = False, p = bonuses_chances))\n",
    "        \n",
    "            for bonus in bonuses_to_gen:\n",
    "                if \"%\" in bonus:\n",
    "                    self.bonuses[bonus] += max(10, round(rnd.normal(loc = level*3, scale = level/3)))/100\n",
    "                    continue\n",
    "                self.bonuses[bonus] += max(10, round(rnd.normal(loc = level, scale = 5)))\n",
    "            \n",
    "    def to_dict(self):\n",
    "        return {\n",
    "            \"item_type\" : self.item_type,\n",
    "            \"rarity\" : self.rarity,\n",
    "            \"stats\" : { k:v for k, v in self.stats.items() if v != 0},\n",
    "            \"bonuses\" : { k:v for k, v in self.bonuses.items() if (\"%\" in k and v != 1.0) or (not \"%\" in k and v != 0) }\n",
    "        }"
   ]
  },
  {
   "cell_type": "code",
   "execution_count": 20,
   "id": "e6d2857c",
   "metadata": {},
   "outputs": [],
   "source": [
    "EXP_FOR_LEVEL = { 100 + 20}\n",
    "\n",
    "class Character:\n",
    "\n",
    "    def __init__(self):\n",
    "        \n",
    "        self.level = 1\n",
    "        self.xp = 0\n",
    "\n",
    "        # MACRO STATS\n",
    "        self.strength = 0\n",
    "        self.agility = 0\n",
    "        self.perception = 0\n",
    "        self.defense = 0\n",
    "        self.luck = 0\n",
    "        self.constitution = 0\n",
    "        \n",
    "        # DERIVED STATS\n",
    "        self.attack_power = 20.0\n",
    "        self.armor = 10.0\n",
    "        self.health = 50.0\n",
    "        self.crit_dmg = 1.3\n",
    "        self.crit_chance = 0.05\n",
    "        self.eva_chance = 0.03\n",
    "        self.accuracy = 0.9\n",
    "        self.rev_chance = 0.01\n",
    "        self.lifesteal = 0.0\n",
    "\n",
    "        self.items = {\n",
    "            \"Headgear\" : None,\n",
    "            \"Armor\" : None,\n",
    "            \"Weapon\" : None,\n",
    "            \"Charm\" : None\n",
    "        }\n",
    "        \n",
    "    def generate_basic_enemy(self, level):\n",
    "        pass\n",
    "\n",
    "    def increase_stats(self, strength=0, agility=0, perception=0, defense=0, luck=0, constitution=0):\n",
    "        self.strength += strength\n",
    "        self.agility += agility\n",
    "        self.perception += perception\n",
    "        self.defense += defense\n",
    "        self.luck += luck\n",
    "        self.constitution += constitution\n",
    "        \n",
    "    def get_stats(self):\n",
    "        return {\n",
    "            \"STR\" : self.strength,\n",
    "            \"AGI\" : self.agility,\n",
    "            \"PER\" : self.perception,\n",
    "            \"DEF\" : self.defense,\n",
    "            \"LCK\" : self.luck,\n",
    "            \"CST\" : self.constitution\n",
    "        }\n",
    "    \n",
    "    def get_stats_with_items(self):\n",
    "        cur_stats = self.get_stats()\n",
    "        \n",
    "        # Add stats from items\n",
    "        for item in self.items.values():\n",
    "            if item == None:\n",
    "                continue\n",
    "            for stat, value in item.stats.items():\n",
    "                cur_stats[stat] += value\n",
    "        return cur_stats\n",
    "    \n",
    "    def get_derived_stats(self):\n",
    "        cur_stats = self.get_stats_with_items()\n",
    "        derived_stats = {\n",
    "            \"ATK_PWR\" : self.attack_power + 10.0 * cur_stats[\"STR\"],\n",
    "            \"ARMOR\" : self.armor + 5.0 * cur_stats[\"DEF\"],\n",
    "            \"HP\" : self.health + 25.0 * cur_stats[\"CST\"],\n",
    "            \"CRIT_DMG\" : self.crit_dmg + 0.05 * cur_stats[\"STR\"],\n",
    "            \"CRIT_CHANCE\" : self.crit_chance + 0.025 * cur_stats[\"LCK\"],\n",
    "            \"EVA_CHANCE\" : self.eva_chance + 0.015 * cur_stats[\"AGI\"],\n",
    "            \"ACCURACY\" : self.accuracy + 0.01 * cur_stats[\"AGI\"],\n",
    "            \"REV_CHANCE\" : self.rev_chance + 0.1 * cur_stats[\"PER\"],\n",
    "            \"LIFESTEAL\" : self.lifesteal + 0.025 * cur_stats[\"CST\"]\n",
    "        }\n",
    "        \n",
    "        percentage_bonuses = {}\n",
    "        for item in self.items.values():\n",
    "            if item == None:\n",
    "                continue\n",
    "            for bonus, value in item.bonuses.items():\n",
    "                if \"%\" in bonus:\n",
    "                    bonus_name = bonus[2:]\n",
    "                    if bonus_name in percentage_bonuses:\n",
    "                        percentage_bonuses[bonus_name] *= value\n",
    "                    else:\n",
    "                        percentage_bonuses[bonus_name] = value\n",
    "                    continue\n",
    "                derived_stats[bonus] += value\n",
    "            for bonus, value in percentage_bonuses.items():\n",
    "                derived_stats[bonus] *= value\n",
    "        \n",
    "        return derived_stats\n",
    "                \n",
    "    def _add_random_items(self):\n",
    "        for key in self.items:\n",
    "            self.items[key] = Item(self.luck, self.level, item_type=key)"
   ]
  },
  {
   "cell_type": "code",
   "execution_count": 21,
   "id": "c49db67e",
   "metadata": {},
   "outputs": [],
   "source": [
    "player = Character()"
   ]
  },
  {
   "cell_type": "code",
   "execution_count": 22,
   "id": "d8170a98",
   "metadata": {},
   "outputs": [
    {
     "data": {
      "text/plain": [
       "{'STR': 0, 'AGI': 0, 'PER': 0, 'DEF': 0, 'LCK': 0, 'CST': 0}"
      ]
     },
     "execution_count": 22,
     "metadata": {},
     "output_type": "execute_result"
    }
   ],
   "source": [
    "player.get_stats()"
   ]
  },
  {
   "cell_type": "code",
   "execution_count": 23,
   "id": "77b05db5",
   "metadata": {},
   "outputs": [
    {
     "data": {
      "text/plain": [
       "{'ATK_PWR': 20.0,\n",
       " 'ARMOR': 10.0,\n",
       " 'HP': 50.0,\n",
       " 'CRIT_DMG': 1.3,\n",
       " 'CRIT_CHANCE': 0.05,\n",
       " 'EVA_CHANCE': 0.03,\n",
       " 'ACCURACY': 0.9,\n",
       " 'REV_CHANCE': 0.01,\n",
       " 'LIFESTEAL': 0.0}"
      ]
     },
     "execution_count": 23,
     "metadata": {},
     "output_type": "execute_result"
    }
   ],
   "source": [
    "player.get_derived_stats()"
   ]
  },
  {
   "cell_type": "code",
   "execution_count": 24,
   "id": "eb7999a4",
   "metadata": {},
   "outputs": [],
   "source": [
    "player._add_random_items()"
   ]
  },
  {
   "cell_type": "code",
   "execution_count": 25,
   "id": "34359381",
   "metadata": {},
   "outputs": [
    {
     "data": {
      "text/plain": [
       "{'ATK_PWR': 50.0,\n",
       " 'ARMOR': 25.0,\n",
       " 'HP': 90.75000000000001,\n",
       " 'CRIT_DMG': 1.4500000000000002,\n",
       " 'CRIT_CHANCE': 0.07500000000000001,\n",
       " 'EVA_CHANCE': 0.03,\n",
       " 'ACCURACY': 0.9,\n",
       " 'REV_CHANCE': 0.01,\n",
       " 'LIFESTEAL': 0.025}"
      ]
     },
     "execution_count": 25,
     "metadata": {},
     "output_type": "execute_result"
    }
   ],
   "source": [
    "player.get_derived_stats()"
   ]
  },
  {
   "cell_type": "code",
   "execution_count": 155,
   "id": "e58252d9",
   "metadata": {},
   "outputs": [
    {
     "data": {
      "text/plain": [
       "{'item_type': 'Armor',\n",
       " 'rarity': 'Epic',\n",
       " 'stats': {'STR': 5, 'AGI': 3},\n",
       " 'bonuses': {'%_ARMOR': 1.27}}"
      ]
     },
     "execution_count": 155,
     "metadata": {},
     "output_type": "execute_result"
    }
   ],
   "source": [
    "Item(luck=10, level=10).to_dict()"
   ]
  },
  {
   "cell_type": "code",
   "execution_count": 156,
   "id": "3d024bf3",
   "metadata": {},
   "outputs": [
    {
     "data": {
      "text/plain": [
       "['%', 'A']"
      ]
     },
     "execution_count": 156,
     "metadata": {},
     "output_type": "execute_result"
    }
   ],
   "source": [
    "sorted([\"%\", \"A\"])"
   ]
  },
  {
   "cell_type": "code",
   "execution_count": null,
   "id": "f9837c2a",
   "metadata": {},
   "outputs": [],
   "source": [
    "from enum import Enum\n"
   ]
  }
 ],
 "metadata": {
  "kernelspec": {
   "display_name": "Python 3",
   "language": "python",
   "name": "python3"
  },
  "language_info": {
   "codemirror_mode": {
    "name": "ipython",
    "version": 3
   },
   "file_extension": ".py",
   "mimetype": "text/x-python",
   "name": "python",
   "nbconvert_exporter": "python",
   "pygments_lexer": "ipython3",
   "version": "3.8.6"
  }
 },
 "nbformat": 4,
 "nbformat_minor": 5
}
