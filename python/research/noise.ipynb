{
 "cells": [
  {
   "cell_type": "code",
   "execution_count": 79,
   "id": "fdb70fc6",
   "metadata": {},
   "outputs": [],
   "source": [
    "import numpy as np\n",
    "import numpy.random as rnd\n",
    "import seaborn as sns\n",
    "\n",
    "MAP_HEIGHT = 40\n",
    "MAP_WIDTH = 40\n",
    "\n",
    "def interpolant(t):\n",
    "    return t*t*t*(t*(t*6 - 15) + 10)\n",
    "\n",
    "\n",
    "def generate_perlin_noise_2d(\n",
    "        shape, res, seed, tileable=(False, False), interpolant=interpolant\n",
    "):\n",
    "    \"\"\"Generate a 2D numpy array of perlin noise.\n",
    "    Args:\n",
    "        shape: The shape of the generated array (tuple of two ints).\n",
    "            This must be a multple of res.\n",
    "        res: The number of periods of noise to generate along each\n",
    "            axis (tuple of two ints). Note shape must be a multiple of\n",
    "            res.\n",
    "        tileable: If the noise should be tileable along each axis\n",
    "            (tuple of two bools). Defaults to (False, False).\n",
    "        interpolant: The interpolation function, defaults to\n",
    "            t*t*t*(t*(t*6 - 15) + 10).\n",
    "    Returns:\n",
    "        A numpy array of shape shape with the generated noise.\n",
    "    Raises:\n",
    "        ValueError: If shape is not a multiple of res.\n",
    "    \"\"\"\n",
    "    delta = (res[0] / shape[0], res[1] / shape[1])\n",
    "    d = (shape[0] // res[0], shape[1] // res[1])\n",
    "    grid = np.mgrid[0:res[0]:delta[0], 0:res[1]:delta[1]]\\\n",
    "            .transpose(1, 2, 0) % 1\n",
    "    # Gradients\n",
    "    rnd.seed(seed)\n",
    "    angles = 2*np.pi*rnd.rand(res[0]+1, res[1]+1)\n",
    "    gradients = np.dstack((np.cos(angles), np.sin(angles)))\n",
    "    if tileable[0]:\n",
    "        gradients[-1,:] = gradients[0,:]\n",
    "    if tileable[1]:\n",
    "        gradients[:,-1] = gradients[:,0]\n",
    "    gradients = gradients.repeat(d[0], 0).repeat(d[1], 1)\n",
    "    g00 = gradients[    :-d[0],    :-d[1]]\n",
    "    g10 = gradients[d[0]:     ,    :-d[1]]\n",
    "    g01 = gradients[    :-d[0],d[1]:     ]\n",
    "    g11 = gradients[d[0]:     ,d[1]:     ]\n",
    "    print(gradients)\n",
    "    print(g00)\n",
    "    print(g11)\n",
    "    # Ramps\n",
    "    n00 = np.sum(np.dstack((grid[:,:,0]  , grid[:,:,1]  )) * g00, 2)\n",
    "    n10 = np.sum(np.dstack((grid[:,:,0]-1, grid[:,:,1]  )) * g10, 2)\n",
    "    n01 = np.sum(np.dstack((grid[:,:,0]  , grid[:,:,1]-1)) * g01, 2)\n",
    "    n11 = np.sum(np.dstack((grid[:,:,0]-1, grid[:,:,1]-1)) * g11, 2)\n",
    "    # Interpolation\n",
    "    t = interpolant(grid)\n",
    "    n0 = n00*(1-t[:,:,0]) + t[:,:,0]*n10\n",
    "    n1 = n01*(1-t[:,:,0]) + t[:,:,0]*n11\n",
    "    return np.sqrt(2)*((1-t[:,:,1])*n0 + t[:,:,1]*n1)"
   ]
  },
  {
   "cell_type": "code",
   "execution_count": 81,
   "id": "16c1a991",
   "metadata": {
    "scrolled": false
   },
   "outputs": [
    {
     "name": "stdout",
     "output_type": "stream",
     "text": [
      "[[[-0.16964762 -0.98550479]\n",
      "  [-0.16964762 -0.98550479]\n",
      "  [-0.16964762 -0.98550479]\n",
      "  ...\n",
      "  [ 0.85729579  0.51482417]\n",
      "  [ 0.85729579  0.51482417]\n",
      "  [ 0.85729579  0.51482417]]\n",
      "\n",
      " [[-0.16964762 -0.98550479]\n",
      "  [-0.16964762 -0.98550479]\n",
      "  [-0.16964762 -0.98550479]\n",
      "  ...\n",
      "  [ 0.85729579  0.51482417]\n",
      "  [ 0.85729579  0.51482417]\n",
      "  [ 0.85729579  0.51482417]]\n",
      "\n",
      " [[-0.16964762 -0.98550479]\n",
      "  [-0.16964762 -0.98550479]\n",
      "  [-0.16964762 -0.98550479]\n",
      "  ...\n",
      "  [ 0.85729579  0.51482417]\n",
      "  [ 0.85729579  0.51482417]\n",
      "  [ 0.85729579  0.51482417]]\n",
      "\n",
      " ...\n",
      "\n",
      " [[-0.84159026  0.5401165 ]\n",
      "  [-0.84159026  0.5401165 ]\n",
      "  [-0.84159026  0.5401165 ]\n",
      "  ...\n",
      "  [ 0.99816836 -0.06049737]\n",
      "  [ 0.99816836 -0.06049737]\n",
      "  [ 0.99816836 -0.06049737]]\n",
      "\n",
      " [[-0.84159026  0.5401165 ]\n",
      "  [-0.84159026  0.5401165 ]\n",
      "  [-0.84159026  0.5401165 ]\n",
      "  ...\n",
      "  [ 0.99816836 -0.06049737]\n",
      "  [ 0.99816836 -0.06049737]\n",
      "  [ 0.99816836 -0.06049737]]\n",
      "\n",
      " [[-0.84159026  0.5401165 ]\n",
      "  [-0.84159026  0.5401165 ]\n",
      "  [-0.84159026  0.5401165 ]\n",
      "  ...\n",
      "  [ 0.99816836 -0.06049737]\n",
      "  [ 0.99816836 -0.06049737]\n",
      "  [ 0.99816836 -0.06049737]]]\n",
      "[[[-0.16964762 -0.98550479]\n",
      "  [-0.16964762 -0.98550479]\n",
      "  [-0.16964762 -0.98550479]\n",
      "  ...\n",
      "  [ 0.76527288  0.64370601]\n",
      "  [ 0.76527288  0.64370601]\n",
      "  [ 0.76527288  0.64370601]]\n",
      "\n",
      " [[-0.16964762 -0.98550479]\n",
      "  [-0.16964762 -0.98550479]\n",
      "  [-0.16964762 -0.98550479]\n",
      "  ...\n",
      "  [ 0.76527288  0.64370601]\n",
      "  [ 0.76527288  0.64370601]\n",
      "  [ 0.76527288  0.64370601]]\n",
      "\n",
      " [[-0.16964762 -0.98550479]\n",
      "  [-0.16964762 -0.98550479]\n",
      "  [-0.16964762 -0.98550479]\n",
      "  ...\n",
      "  [ 0.76527288  0.64370601]\n",
      "  [ 0.76527288  0.64370601]\n",
      "  [ 0.76527288  0.64370601]]\n",
      "\n",
      " ...\n",
      "\n",
      " [[-0.73275435  0.68049324]\n",
      "  [-0.73275435  0.68049324]\n",
      "  [-0.73275435  0.68049324]\n",
      "  ...\n",
      "  [ 0.96822322 -0.25008758]\n",
      "  [ 0.96822322 -0.25008758]\n",
      "  [ 0.96822322 -0.25008758]]\n",
      "\n",
      " [[-0.73275435  0.68049324]\n",
      "  [-0.73275435  0.68049324]\n",
      "  [-0.73275435  0.68049324]\n",
      "  ...\n",
      "  [ 0.96822322 -0.25008758]\n",
      "  [ 0.96822322 -0.25008758]\n",
      "  [ 0.96822322 -0.25008758]]\n",
      "\n",
      " [[-0.73275435  0.68049324]\n",
      "  [-0.73275435  0.68049324]\n",
      "  [-0.73275435  0.68049324]\n",
      "  ...\n",
      "  [ 0.96822322 -0.25008758]\n",
      "  [ 0.96822322 -0.25008758]\n",
      "  [ 0.96822322 -0.25008758]]]\n",
      "[[[ 0.46708374  0.88421308]\n",
      "  [ 0.46708374  0.88421308]\n",
      "  [ 0.46708374  0.88421308]\n",
      "  ...\n",
      "  [ 0.95101997  0.30912944]\n",
      "  [ 0.95101997  0.30912944]\n",
      "  [ 0.95101997  0.30912944]]\n",
      "\n",
      " [[ 0.46708374  0.88421308]\n",
      "  [ 0.46708374  0.88421308]\n",
      "  [ 0.46708374  0.88421308]\n",
      "  ...\n",
      "  [ 0.95101997  0.30912944]\n",
      "  [ 0.95101997  0.30912944]\n",
      "  [ 0.95101997  0.30912944]]\n",
      "\n",
      " [[ 0.46708374  0.88421308]\n",
      "  [ 0.46708374  0.88421308]\n",
      "  [ 0.46708374  0.88421308]\n",
      "  ...\n",
      "  [ 0.95101997  0.30912944]\n",
      "  [ 0.95101997  0.30912944]\n",
      "  [ 0.95101997  0.30912944]]\n",
      "\n",
      " ...\n",
      "\n",
      " [[ 0.09565869 -0.99541419]\n",
      "  [ 0.09565869 -0.99541419]\n",
      "  [ 0.09565869 -0.99541419]\n",
      "  ...\n",
      "  [ 0.99816836 -0.06049737]\n",
      "  [ 0.99816836 -0.06049737]\n",
      "  [ 0.99816836 -0.06049737]]\n",
      "\n",
      " [[ 0.09565869 -0.99541419]\n",
      "  [ 0.09565869 -0.99541419]\n",
      "  [ 0.09565869 -0.99541419]\n",
      "  ...\n",
      "  [ 0.99816836 -0.06049737]\n",
      "  [ 0.99816836 -0.06049737]\n",
      "  [ 0.99816836 -0.06049737]]\n",
      "\n",
      " [[ 0.09565869 -0.99541419]\n",
      "  [ 0.09565869 -0.99541419]\n",
      "  [ 0.09565869 -0.99541419]\n",
      "  ...\n",
      "  [ 0.99816836 -0.06049737]\n",
      "  [ 0.99816836 -0.06049737]\n",
      "  [ 0.99816836 -0.06049737]]]\n"
     ]
    }
   ],
   "source": [
    "grid = generate_perlin_noise_2d((40, 80), (4, 4), 13345, (False, False))"
   ]
  },
  {
   "cell_type": "code",
   "execution_count": 82,
   "id": "d249fc2e",
   "metadata": {},
   "outputs": [
    {
     "data": {
      "text/plain": [
       "<AxesSubplot:>"
      ]
     },
     "execution_count": 82,
     "metadata": {},
     "output_type": "execute_result"
    },
    {
     "data": {
      "image/png": "[encoded data removed]",
      "text/plain": [
       "<Figure size 432x288 with 2 Axes>"
      ]
     },
     "metadata": {
      "needs_background": "light"
     },
     "output_type": "display_data"
    }
   ],
   "source": [
    "sns.heatmap(grid)"
   ]
  },
  {
   "cell_type": "code",
   "execution_count": 83,
   "id": "c6d00c15",
   "metadata": {},
   "outputs": [],
   "source": [
    "interpgrid = np.interp(grid, [grid.min(), grid.max()], [0, 4])"
   ]
  },
  {
   "cell_type": "code",
   "execution_count": 84,
   "id": "fcc9563a",
   "metadata": {},
   "outputs": [
    {
     "data": {
      "text/plain": [
       "<AxesSubplot:>"
      ]
     },
     "execution_count": 84,
     "metadata": {},
     "output_type": "execute_result"
    },
    {
     "data": {
      "image/png": "[encoded data removed]",
      "text/plain": [
       "<Figure size 432x288 with 2 Axes>"
      ]
     },
     "metadata": {
      "needs_background": "light"
     },
     "output_type": "display_data"
    }
   ],
   "source": [
    "sns.heatmap(interpgrid)"
   ]
  },
  {
   "cell_type": "code",
   "execution_count": 85,
   "id": "9fad31a2",
   "metadata": {},
   "outputs": [],
   "source": [
    "interpgrid = np.round(interpgrid).astype(int)"
   ]
  },
  {
   "cell_type": "code",
   "execution_count": 86,
   "id": "e44efcc5",
   "metadata": {},
   "outputs": [
    {
     "data": {
      "text/plain": [
       "<AxesSubplot:>"
      ]
     },
     "execution_count": 86,
     "metadata": {},
     "output_type": "execute_result"
    },
    {
     "data": {
      "image/png": "[encoded data removed]",
      "text/plain": [
       "<Figure size 432x288 with 2 Axes>"
      ]
     },
     "metadata": {
      "needs_background": "light"
     },
     "output_type": "display_data"
    }
   ],
   "source": [
    "sns.heatmap(interpgrid)"
   ]
  },
  {
   "cell_type": "code",
   "execution_count": 70,
   "id": "5a9357aa",
   "metadata": {},
   "outputs": [
    {
     "data": {
      "text/plain": [
       "array([[3, 2, 2, ..., 3, 3, 3],\n",
       "       [3, 3, 2, ..., 3, 3, 3],\n",
       "       [3, 3, 2, ..., 3, 3, 3],\n",
       "       ...,\n",
       "       [2, 2, 2, ..., 2, 2, 2],\n",
       "       [2, 2, 2, ..., 2, 2, 2],\n",
       "       [3, 2, 2, ..., 2, 2, 2]])"
      ]
     },
     "execution_count": 70,
     "metadata": {},
     "output_type": "execute_result"
    }
   ],
   "source": [
    "interpgrid"
   ]
  },
  {
   "cell_type": "code",
   "execution_count": null,
   "id": "da6d3656",
   "metadata": {},
   "outputs": [],
   "source": []
  },
  {
   "cell_type": "code",
   "execution_count": null,
   "id": "9e6f86f0",
   "metadata": {},
   "outputs": [],
   "source": []
  }
 ],
 "metadata": {
  "kernelspec": {
   "display_name": "Python 3",
   "language": "python",
   "name": "python3"
  },
  "language_info": {
   "codemirror_mode": {
    "name": "ipython",
    "version": 3
   },
   "file_extension": ".py",
   "mimetype": "text/x-python",
   "name": "python",
   "nbconvert_exporter": "python",
   "pygments_lexer": "ipython3",
   "version": "3.8.6"
  }
 },
 "nbformat": 4,
 "nbformat_minor": 5
}
