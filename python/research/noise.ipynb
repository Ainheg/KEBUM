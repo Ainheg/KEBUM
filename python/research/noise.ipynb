{
 "cells": [
  {
   "cell_type": "code",
   "execution_count": null,
   "id": "fdb70fc6",
   "metadata": {},
   "outputs": [],
   "source": [
    "MAP_HEIGHT = 40\n",
    "MAP_WIDTH = 40\n",
    "\n",
    "def interpolant(t):\n",
    "    return t*t*t*(t*(t*6 - 15) + 10)\n",
    "\n",
    "\n",
    "def generate_perlin_noise_2d(\n",
    "        shape, res, tileable=(False, False), interpolant=interpolant\n",
    "):\n",
    "    \"\"\"Generate a 2D numpy array of perlin noise.\n",
    "    Args:\n",
    "        shape: The shape of the generated array (tuple of two ints).\n",
    "            This must be a multple of res.\n",
    "        res: The number of periods of noise to generate along each\n",
    "            axis (tuple of two ints). Note shape must be a multiple of\n",
    "            res.\n",
    "        tileable: If the noise should be tileable along each axis\n",
    "            (tuple of two bools). Defaults to (False, False).\n",
    "        interpolant: The interpolation function, defaults to\n",
    "            t*t*t*(t*(t*6 - 15) + 10).\n",
    "    Returns:\n",
    "        A numpy array of shape shape with the generated noise.\n",
    "    Raises:\n",
    "        ValueError: If shape is not a multiple of res.\n",
    "    \"\"\"\n",
    "    delta = (res[0] / shape[0], res[1] / shape[1])\n",
    "    d = (shape[0] // res[0], shape[1] // res[1])\n",
    "    grid = np.mgrid[0:res[0]:delta[0], 0:res[1]:delta[1]]\\\n",
    "             .transpose(1, 2, 0) % 1\n",
    "    # Gradients\n",
    "    angles = 2*np.pi*np.random.rand(res[0]+1, res[1]+1)\n",
    "    gradients = np.dstack((np.cos(angles), np.sin(angles)))\n",
    "    if tileable[0]:\n",
    "        gradients[-1,:] = gradients[0,:]\n",
    "    if tileable[1]:\n",
    "        gradients[:,-1] = gradients[:,0]\n",
    "    gradients = gradients.repeat(d[0], 0).repeat(d[1], 1)\n",
    "    g00 = gradients[    :-d[0],    :-d[1]]\n",
    "    g10 = gradients[d[0]:     ,    :-d[1]]\n",
    "    g01 = gradients[    :-d[0],d[1]:     ]\n",
    "    g11 = gradients[d[0]:     ,d[1]:     ]\n",
    "    # Ramps\n",
    "    n00 = np.sum(np.dstack((grid[:,:,0]  , grid[:,:,1]  )) * g00, 2)\n",
    "    n10 = np.sum(np.dstack((grid[:,:,0]-1, grid[:,:,1]  )) * g10, 2)\n",
    "    n01 = np.sum(np.dstack((grid[:,:,0]  , grid[:,:,1]-1)) * g01, 2)\n",
    "    n11 = np.sum(np.dstack((grid[:,:,0]-1, grid[:,:,1]-1)) * g11, 2)\n",
    "    # Interpolation\n",
    "    t = interpolant(grid)\n",
    "    n0 = n00*(1-t[:,:,0]) + t[:,:,0]*n10\n",
    "    n1 = n01*(1-t[:,:,0]) + t[:,:,0]*n11\n",
    "    return np.sqrt(2)*((1-t[:,:,1])*n0 + t[:,:,1]*n1)"
   ]
  }
 ],
 "metadata": {
  "kernelspec": {
   "display_name": "Python 3",
   "language": "python",
   "name": "python3"
  },
  "language_info": {
   "codemirror_mode": {
    "name": "ipython",
    "version": 3
   },
   "file_extension": ".py",
   "mimetype": "text/x-python",
   "name": "python",
   "nbconvert_exporter": "python",
   "pygments_lexer": "ipython3",
   "version": "3.8.6"
  }
 },
 "nbformat": 4,
 "nbformat_minor": 5
}
