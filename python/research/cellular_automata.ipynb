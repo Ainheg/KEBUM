{
 "cells": [
  {
   "cell_type": "code",
   "execution_count": 1,
   "id": "1dbd8b75",
   "metadata": {},
   "outputs": [],
   "source": [
    "from tqdm.notebook import tqdm"
   ]
  },
  {
   "cell_type": "code",
   "execution_count": 15,
   "id": "8ac026f8",
   "metadata": {},
   "outputs": [],
   "source": [
    "MAP_HEIGHT = 40\n",
    "MAP_WIDTH = 40\n",
    "WEIGHT_0 = 0.55\n",
    "WEIGHTS = [WEIGHT_0, 1 - WEIGHT_0]\n",
    "OPTIONS = [0, 1]\n",
    "ITERATIONS = 5\n",
    "# 0/▢ - floor, 1/▨ - wall, 2/▩ - map border, 3/◈ - treasure, 4/◎ - spawn point\n",
    "CHARS = {\n",
    "    0 : '\\u25A2',\n",
    "    1 : '\\u25A8',\n",
    "    2 : '\\u25A9',\n",
    "    3 : '\\u25C8',\n",
    "    4 : '\\u25CE', \n",
    "}\n",
    "\n",
    "STARVATION = 4\n",
    "BIRTH = 3"
   ]
  },
  {
   "cell_type": "code",
   "execution_count": 3,
   "id": "48de871e",
   "metadata": {},
   "outputs": [],
   "source": [
    "def print_map(grid, file=None):\n",
    "    print(file=file)\n",
    "    for row in grid:\n",
    "        row_str = \"\"\n",
    "        for c in row:\n",
    "            row_str += CHARS[c]\n",
    "        print(row_str, file=file)"
   ]
  },
  {
   "cell_type": "code",
   "execution_count": 67,
   "id": "7ef707a5",
   "metadata": {},
   "outputs": [],
   "source": [
    "import random\n",
    "from numpy import array, zeros_like, sum, mean\n",
    "def initialize_grid():\n",
    "    grid = []\n",
    "    for _ in range(MAP_WIDTH):\n",
    "        row = [random.choices(OPTIONS, WEIGHTS)[0] for _ in range(MAP_HEIGHT)]\n",
    "        grid.append(row)\n",
    "    return array(grid)"
   ]
  },
  {
   "cell_type": "code",
   "execution_count": 5,
   "id": "caafbe0d",
   "metadata": {},
   "outputs": [
    {
     "name": "stdout",
     "output_type": "stream",
     "text": [
      "\n",
      "▨▨▢▢▨▨▢▨▢▢▢▢▨▢▢▨▢▢▨▢▢▢▨▢▢▨▨▢▢▨▢▨▨▨▢▢▨▢▨▢\n",
      "▢▨▢▨▨▢▢▨▢▨▨▨▢▨▢▨▢▨▨▢▨▢▢▢▢▨▨▢▢▨▢▨▢▢▨▢▨▢▨▨\n",
      "▢▨▨▢▨▨▨▨▢▢▨▢▢▢▢▨▨▢▢▨▨▨▢▨▢▨▨▨▢▢▢▨▨▨▢▨▨▨▨▨\n",
      "▨▨▢▢▢▨▨▢▨▢▨▨▨▢▢▢▢▢▢▢▢▢▢▢▨▢▨▢▨▨▢▢▨▨▢▨▨▨▢▢\n",
      "▨▨▢▨▢▢▢▨▨▢▨▢▢▨▨▨▢▨▨▢▢▨▢▨▢▢▢▢▢▢▢▨▢▢▢▨▢▢▨▢\n",
      "▢▨▨▨▢▢▢▨▢▨▢▢▢▨▨▢▢▢▨▢▢▨▨▢▢▨▨▨▨▨▨▨▢▨▨▢▨▨▨▢\n",
      "▨▢▨▨▨▢▢▨▨▢▨▢▢▢▢▢▨▢▢▢▢▢▢▨▢▢▢▨▢▨▢▢▨▨▨▨▢▨▢▢\n",
      "▨▨▢▨▢▢▢▢▢▨▢▢▨▨▨▢▢▢▢▢▢▢▢▢▨▨▢▢▢▨▨▨▢▨▨▢▨▨▨▨\n",
      "▨▨▢▨▨▢▢▢▨▢▢▨▨▨▨▢▢▢▢▢▨▢▨▨▢▨▨▢▢▢▢▢▨▨▨▢▢▢▨▨\n",
      "▢▨▢▢▨▢▢▨▨▨▨▨▨▨▨▢▨▨▢▢▨▢▢▨▨▨▢▢▢▢▨▢▨▨▨▨▢▢▢▢\n",
      "▨▨▢▨▢▢▢▢▢▢▢▨▢▨▢▢▨▢▢▢▨▨▢▢▢▢▢▨▨▢▨▨▢▢▢▢▨▢▢▢\n",
      "▨▢▢▢▢▢▢▨▢▨▢▢▨▨▨▨▨▢▢▢▨▨▨▨▢▨▢▢▨▨▢▢▨▨▨▢▢▨▢▢\n",
      "▨▢▨▨▨▨▢▢▨▢▨▢▢▨▢▨▢▨▨▢▢▢▢▨▨▨▢▨▢▨▢▨▨▢▢▨▨▨▨▨\n",
      "▢▨▢▢▢▨▢▢▢▨▨▢▢▨▨▢▢▢▢▨▢▢▢▨▢▨▨▨▢▨▢▨▢▢▨▨▢▢▢▢\n",
      "▢▨▨▨▢▢▨▢▨▢▨▨▨▢▨▢▨▨▨▢▢▢▢▢▨▨▨▢▨▢▢▢▢▢▨▢▢▨▢▢\n",
      "▢▢▢▨▨▨▢▢▢▢▢▢▢▨▨▨▢▨▨▢▢▨▢▢▨▨▢▨▢▨▢▨▢▨▢▨▢▢▢▢\n",
      "▨▨▨▢▢▢▨▢▢▢▢▨▢▢▨▢▨▨▨▨▢▢▢▨▢▨▨▨▨▨▨▢▢▢▢▢▢▢▨▢\n",
      "▢▢▨▢▨▢▢▨▨▢▢▢▢▨▢▨▨▢▢▢▢▨▨▢▢▢▨▢▨▨▢▢▢▨▢▢▢▢▢▨\n",
      "▢▨▨▢▢▨▨▢▨▢▢▨▨▨▢▢▢▨▨▢▨▢▨▨▢▢▢▨▨▨▨▢▢▢▢▨▨▨▨▨\n",
      "▢▢▢▢▨▢▢▢▨▨▢▢▢▢▢▨▢▨▢▨▢▢▢▨▨▨▨▢▨▢▢▨▨▢▨▢▢▢▢▢\n",
      "▨▢▢▨▢▢▢▢▨▨▢▨▢▢▢▢▢▨▢▨▨▢▨▨▨▨▢▨▢▨▢▨▨▨▢▨▨▢▨▢\n",
      "▨▨▨▢▨▢▨▢▨▨▨▢▢▢▢▢▢▢▨▢▨▢▨▨▨▢▢▢▢▨▢▨▨▨▢▢▢▨▨▨\n",
      "▨▢▢▢▨▢▢▢▨▢▨▨▢▨▢▢▨▢▢▢▨▨▢▢▨▢▢▨▢▨▨▢▢▨▢▨▨▨▨▢\n",
      "▢▢▨▨▢▢▢▨▨▨▨▨▨▨▨▨▢▢▨▨▢▢▢▨▨▨▢▨▢▨▨▨▨▨▢▨▨▢▨▢\n",
      "▨▢▨▢▢▨▢▨▨▨▨▢▢▨▢▢▨▨▢▢▨▢▨▢▨▢▢▢▨▢▨▢▢▢▢▢▢▨▢▨\n",
      "▨▢▨▢▢▢▨▨▢▨▢▢▢▨▢▨▨▨▢▨▢▢▨▨▨▢▢▨▨▨▨▨▨▨▨▢▨▨▢▨\n",
      "▨▢▢▨▨▢▨▨▢▢▨▢▢▨▨▨▨▢▨▨▢▢▢▢▢▨▢▨▢▨▨▢▢▢▢▨▢▢▨▢\n",
      "▨▢▢▨▢▢▨▢▢▨▢▢▢▢▢▢▨▢▢▢▢▢▢▨▢▢▢▨▨▨▨▢▢▨▢▢▨▢▢▨\n",
      "▢▨▨▨▨▨▢▢▨▨▨▢▨▨▢▨▨▨▢▨▢▨▨▨▢▨▨▢▢▢▢▢▨▢▨▢▢▢▨▢\n",
      "▨▨▢▢▢▢▨▢▢▢▢▢▢▢▨▨▢▨▨▢▨▢▨▢▢▢▨▨▨▢▢▨▢▨▢▢▢▢▢▢\n",
      "▨▢▢▢▢▢▨▢▢▢▨▢▨▨▨▢▨▢▢▨▢▢▢▢▨▨▢▢▢▢▢▢▨▨▨▢▨▢▨▨\n",
      "▨▢▢▢▢▢▢▨▨▢▨▨▨▢▨▢▢▢▢▢▢▨▢▢▢▢▨▢▢▨▨▢▢▢▨▢▨▢▢▢\n",
      "▢▢▨▨▨▨▢▢▨▨▨▢▨▨▨▨▢▨▨▢▨▢▨▨▨▢▢▢▢▨▢▢▨▢▢▨▢▨▨▢\n",
      "▢▢▢▢▢▨▨▢▢▨▨▨▢▨▢▨▢▢▢▨▨▢▨▨▢▨▨▢▢▢▨▢▨▨▢▨▨▢▨▨\n",
      "▨▨▢▨▨▢▨▨▢▢▨▨▢▢▢▢▨▢▢▨▨▢▨▨▨▨▢▢▢▢▢▨▨▢▢▢▨▢▢▨\n",
      "▢▨▢▢▢▨▨▢▢▨▨▨▢▢▢▨▢▨▨▢▢▢▢▢▢▨▢▨▨▢▨▨▨▢▨▢▢▢▨▢\n",
      "▨▢▨▨▨▢▨▢▢▢▨▢▢▢▢▨▢▢▢▨▢▢▢▨▨▨▢▢▨▢▢▢▨▨▨▨▨▢▢▢\n",
      "▢▢▢▨▢▢▢▨▢▨▢▨▨▢▨▢▢▢▨▢▨▨▨▨▨▨▢▢▨▨▨▢▢▢▨▨▢▨▢▢\n",
      "▢▢▨▢▢▨▢▨▢▨▨▨▢▨▢▢▢▨▢▨▨▢▨▢▢▨▨▢▢▢▨▨▨▨▨▨▢▢▢▢\n",
      "▢▢▢▢▢▢▢▢▢▢▨▨▨▢▢▨▨▨▨▨▢▨▨▨▢▢▢▢▢▢▢▨▨▢▢▢▢▨▢▢\n"
     ]
    }
   ],
   "source": [
    "grid = initialize_grid()\n",
    "print_map(grid)"
   ]
  },
  {
   "cell_type": "code",
   "execution_count": 6,
   "id": "cef3f3bd",
   "metadata": {},
   "outputs": [],
   "source": [
    "def count_alive_neighbors(board, x, y, n):\n",
    "    \"\"\"Sums the value of a 2D array's slice n-steps in every direction from P(x,y)\"\"\"\n",
    "    try:\n",
    "        value = board[y][x]\n",
    "    except IndexError:\n",
    "        return None\n",
    "    board_width = len(board[0])\n",
    "    board_height = len(board)\n",
    "    board_slice = [row[max(x-n, 0):min(x+n+1, board_width)] for row in board[max(0, y-n):min(y+n+1, board_height)]]\n",
    "    return sum(board_slice) - value"
   ]
  },
  {
   "cell_type": "code",
   "execution_count": 50,
   "id": "cfc84be7",
   "metadata": {},
   "outputs": [],
   "source": [
    "def calculate_new_state(old_value, alive_neighbors_1, alive_neighbors_2):\n",
    "    if old_value:\n",
    "        if alive_neighbors_1 <= STARVATION:\n",
    "            return 0\n",
    "        else:\n",
    "            return 1\n",
    "    else:\n",
    "        if alive_neighbors_2 <= BIRTH:\n",
    "            return 1\n",
    "        else:\n",
    "            return 0\n",
    "\n",
    "def do_step(board):\n",
    "    new_board = zeros_like(board)\n",
    "    for y, row in enumerate(new_board):\n",
    "        for x, _ in enumerate(row):\n",
    "            old_element = board[y][x]\n",
    "            alive_neighbors_1 = count_alive_neighbors(board, x, y, 1)\n",
    "            alive_neighbors_2 = count_alive_neighbors(board, x, y, 2)\n",
    "            new_board[y][x] = calculate_new_state(old_element, alive_neighbors_1, alive_neighbors_2)    \n",
    "    return new_board\n",
    "\n",
    "def add_border(board):\n",
    "    for y, row in enumerate(board):\n",
    "        for x, _ in enumerate(row):\n",
    "            # I'd like the boundary of the map to stay as walls :D\n",
    "            if x == 0 or x == MAP_WIDTH-1 or y == 0 or y == MAP_HEIGHT -1:\n",
    "                board[y][x] = 2"
   ]
  },
  {
   "cell_type": "markdown",
   "id": "140e445f",
   "metadata": {},
   "source": [
    "### Trying to find the best values for BIRTH, STARVATION and ITERATIONS from between 0 and 8\n",
    "- 0 is going to be wrong for iterations of course\n",
    "- I'll be looking for results that offer the least variance and where walls cover up around half of the map"
   ]
  },
  {
   "cell_type": "code",
   "execution_count": 8,
   "id": "ebc3e9b1",
   "metadata": {},
   "outputs": [],
   "source": [
    "def get_coverage(grid):\n",
    "    \"\"\"Calculates how much of the real estate in the middle of the map is taken by walls in relation to 0.5,\n",
    "       eg. 0 is 50% coverage, 1 is only walls, -1 is only floor tiles\"\"\"\n",
    "    border = 2*MAP_WIDTH + 2*MAP_HEIGHT - 4\n",
    "    full = MAP_WIDTH * MAP_HEIGHT - border\n",
    "    walls = sum(grid) - border\n",
    "    return (walls/full - 0.5) * 2"
   ]
  },
  {
   "cell_type": "code",
   "execution_count": 9,
   "id": "b24798dd",
   "metadata": {},
   "outputs": [
    {
     "data": {
      "application/vnd.jupyter.widget-view+json": {
       "model_id": "8d5d75770be74a338016844e5b99ab87",
       "version_major": 2,
       "version_minor": 0
      },
      "text/plain": [
       "HBox(children=(HTML(value=''), FloatProgress(value=0.0, max=9.0), HTML(value='')))"
      ]
     },
     "metadata": {},
     "output_type": "display_data"
    },
    {
     "data": {
      "application/vnd.jupyter.widget-view+json": {
       "model_id": "298632a905d34d02b1eb948078c10d6f",
       "version_major": 2,
       "version_minor": 0
      },
      "text/plain": [
       "HBox(children=(HTML(value=''), FloatProgress(value=0.0, max=9.0), HTML(value='')))"
      ]
     },
     "metadata": {},
     "output_type": "display_data"
    },
    {
     "data": {
      "application/vnd.jupyter.widget-view+json": {
       "model_id": "2939442842d74c13be39602f6d09f6df",
       "version_major": 2,
       "version_minor": 0
      },
      "text/plain": [
       "HBox(children=(HTML(value=''), FloatProgress(value=0.0, max=9.0), HTML(value='')))"
      ]
     },
     "metadata": {},
     "output_type": "display_data"
    },
    {
     "data": {
      "application/vnd.jupyter.widget-view+json": {
       "model_id": "0123868ba7b844109c1a3e793bc21363",
       "version_major": 2,
       "version_minor": 0
      },
      "text/plain": [
       "HBox(children=(HTML(value=''), FloatProgress(value=0.0, max=20.0), HTML(value='')))"
      ]
     },
     "metadata": {},
     "output_type": "display_data"
    },
    {
     "name": "stdout",
     "output_type": "stream",
     "text": [
      "\n"
     ]
    },
    {
     "data": {
      "application/vnd.jupyter.widget-view+json": {
       "model_id": "b1643254e1d34c26a9acae5d22dbaa28",
       "version_major": 2,
       "version_minor": 0
      },
      "text/plain": [
       "HBox(children=(HTML(value=''), FloatProgress(value=0.0, max=20.0), HTML(value='')))"
      ]
     },
     "metadata": {},
     "output_type": "display_data"
    },
    {
     "name": "stdout",
     "output_type": "stream",
     "text": [
      "\n"
     ]
    },
    {
     "data": {
      "application/vnd.jupyter.widget-view+json": {
       "model_id": "8568717a7a1748c3b51de15ea399caeb",
       "version_major": 2,
       "version_minor": 0
      },
      "text/plain": [
       "HBox(children=(HTML(value=''), FloatProgress(value=0.0, max=20.0), HTML(value='')))"
      ]
     },
     "metadata": {},
     "output_type": "display_data"
    },
    {
     "name": "stdout",
     "output_type": "stream",
     "text": [
      "\n"
     ]
    },
    {
     "data": {
      "application/vnd.jupyter.widget-view+json": {
       "model_id": "023efebb0c274400b9a68e10c0afee1b",
       "version_major": 2,
       "version_minor": 0
      },
      "text/plain": [
       "HBox(children=(HTML(value=''), FloatProgress(value=0.0, max=20.0), HTML(value='')))"
      ]
     },
     "metadata": {},
     "output_type": "display_data"
    },
    {
     "name": "stdout",
     "output_type": "stream",
     "text": [
      "\n"
     ]
    },
    {
     "data": {
      "application/vnd.jupyter.widget-view+json": {
       "model_id": "6325f222f06b48fba79ae7dbb6d987fe",
       "version_major": 2,
       "version_minor": 0
      },
      "text/plain": [
       "HBox(children=(HTML(value=''), FloatProgress(value=0.0, max=20.0), HTML(value='')))"
      ]
     },
     "metadata": {},
     "output_type": "display_data"
    },
    {
     "name": "stdout",
     "output_type": "stream",
     "text": [
      "\n"
     ]
    },
    {
     "data": {
      "application/vnd.jupyter.widget-view+json": {
       "model_id": "6b78ad7191e84c91989d251eace4d2e4",
       "version_major": 2,
       "version_minor": 0
      },
      "text/plain": [
       "HBox(children=(HTML(value=''), FloatProgress(value=0.0, max=20.0), HTML(value='')))"
      ]
     },
     "metadata": {},
     "output_type": "display_data"
    },
    {
     "name": "stdout",
     "output_type": "stream",
     "text": [
      "\n"
     ]
    },
    {
     "data": {
      "application/vnd.jupyter.widget-view+json": {
       "model_id": "b50571bfdc674af7a035234c2f19e4fd",
       "version_major": 2,
       "version_minor": 0
      },
      "text/plain": [
       "HBox(children=(HTML(value=''), FloatProgress(value=0.0, max=20.0), HTML(value='')))"
      ]
     },
     "metadata": {},
     "output_type": "display_data"
    },
    {
     "name": "stdout",
     "output_type": "stream",
     "text": [
      "\n"
     ]
    },
    {
     "data": {
      "application/vnd.jupyter.widget-view+json": {
       "model_id": "fb0b721a6ed24c74935bf7b59809ab8a",
       "version_major": 2,
       "version_minor": 0
      },
      "text/plain": [
       "HBox(children=(HTML(value=''), FloatProgress(value=0.0, max=20.0), HTML(value='')))"
      ]
     },
     "metadata": {},
     "output_type": "display_data"
    },
    {
     "name": "stdout",
     "output_type": "stream",
     "text": [
      "\n",
      "\n"
     ]
    },
    {
     "data": {
      "application/vnd.jupyter.widget-view+json": {
       "model_id": "fd8180dd681947dd9407eac587d3d299",
       "version_major": 2,
       "version_minor": 0
      },
      "text/plain": [
       "HBox(children=(HTML(value=''), FloatProgress(value=0.0, max=9.0), HTML(value='')))"
      ]
     },
     "metadata": {},
     "output_type": "display_data"
    },
    {
     "data": {
      "application/vnd.jupyter.widget-view+json": {
       "model_id": "e3f8ff004dbb4c26aa875ee5a030721f",
       "version_major": 2,
       "version_minor": 0
      },
      "text/plain": [
       "HBox(children=(HTML(value=''), FloatProgress(value=0.0, max=20.0), HTML(value='')))"
      ]
     },
     "metadata": {},
     "output_type": "display_data"
    },
    {
     "name": "stdout",
     "output_type": "stream",
     "text": [
      "\n"
     ]
    },
    {
     "data": {
      "application/vnd.jupyter.widget-view+json": {
       "model_id": "f7aa5b04cf2d401da0345d8c95d9e6da",
       "version_major": 2,
       "version_minor": 0
      },
      "text/plain": [
       "HBox(children=(HTML(value=''), FloatProgress(value=0.0, max=20.0), HTML(value='')))"
      ]
     },
     "metadata": {},
     "output_type": "display_data"
    },
    {
     "name": "stdout",
     "output_type": "stream",
     "text": [
      "\n"
     ]
    },
    {
     "data": {
      "application/vnd.jupyter.widget-view+json": {
       "model_id": "6774de09833649b3adb64003dea57f06",
       "version_major": 2,
       "version_minor": 0
      },
      "text/plain": [
       "HBox(children=(HTML(value=''), FloatProgress(value=0.0, max=20.0), HTML(value='')))"
      ]
     },
     "metadata": {},
     "output_type": "display_data"
    },
    {
     "name": "stdout",
     "output_type": "stream",
     "text": [
      "\n"
     ]
    },
    {
     "data": {
      "application/vnd.jupyter.widget-view+json": {
       "model_id": "b2f8f1189eca49dea7ddd857432bb045",
       "version_major": 2,
       "version_minor": 0
      },
      "text/plain": [
       "HBox(children=(HTML(value=''), FloatProgress(value=0.0, max=20.0), HTML(value='')))"
      ]
     },
     "metadata": {},
     "output_type": "display_data"
    },
    {
     "name": "stdout",
     "output_type": "stream",
     "text": [
      "\n"
     ]
    },
    {
     "data": {
      "application/vnd.jupyter.widget-view+json": {
       "model_id": "780ae8dfb6124064b0163d1945a39afd",
       "version_major": 2,
       "version_minor": 0
      },
      "text/plain": [
       "HBox(children=(HTML(value=''), FloatProgress(value=0.0, max=20.0), HTML(value='')))"
      ]
     },
     "metadata": {},
     "output_type": "display_data"
    },
    {
     "name": "stdout",
     "output_type": "stream",
     "text": [
      "\n"
     ]
    },
    {
     "data": {
      "application/vnd.jupyter.widget-view+json": {
       "model_id": "da97d5a07b81443ea10a7b452eeb1d9e",
       "version_major": 2,
       "version_minor": 0
      },
      "text/plain": [
       "HBox(children=(HTML(value=''), FloatProgress(value=0.0, max=20.0), HTML(value='')))"
      ]
     },
     "metadata": {},
     "output_type": "display_data"
    },
    {
     "name": "stdout",
     "output_type": "stream",
     "text": [
      "\n"
     ]
    },
    {
     "data": {
      "application/vnd.jupyter.widget-view+json": {
       "model_id": "90f7839976b24a768e6d0909f7c48a50",
       "version_major": 2,
       "version_minor": 0
      },
      "text/plain": [
       "HBox(children=(HTML(value=''), FloatProgress(value=0.0, max=20.0), HTML(value='')))"
      ]
     },
     "metadata": {},
     "output_type": "display_data"
    },
    {
     "name": "stdout",
     "output_type": "stream",
     "text": [
      "\n"
     ]
    },
    {
     "data": {
      "application/vnd.jupyter.widget-view+json": {
       "model_id": "5a24fac08f58471092d39dd7e1e47783",
       "version_major": 2,
       "version_minor": 0
      },
      "text/plain": [
       "HBox(children=(HTML(value=''), FloatProgress(value=0.0, max=20.0), HTML(value='')))"
      ]
     },
     "metadata": {},
     "output_type": "display_data"
    },
    {
     "name": "stdout",
     "output_type": "stream",
     "text": [
      "\n",
      "\n"
     ]
    },
    {
     "data": {
      "application/vnd.jupyter.widget-view+json": {
       "model_id": "2ffdef3c7a7d4822bd2722947d290f19",
       "version_major": 2,
       "version_minor": 0
      },
      "text/plain": [
       "HBox(children=(HTML(value=''), FloatProgress(value=0.0, max=9.0), HTML(value='')))"
      ]
     },
     "metadata": {},
     "output_type": "display_data"
    },
    {
     "data": {
      "application/vnd.jupyter.widget-view+json": {
       "model_id": "0495269a146746879c227ef3a7e3e717",
       "version_major": 2,
       "version_minor": 0
      },
      "text/plain": [
       "HBox(children=(HTML(value=''), FloatProgress(value=0.0, max=20.0), HTML(value='')))"
      ]
     },
     "metadata": {},
     "output_type": "display_data"
    },
    {
     "name": "stdout",
     "output_type": "stream",
     "text": [
      "\n"
     ]
    },
    {
     "data": {
      "application/vnd.jupyter.widget-view+json": {
       "model_id": "acdc9846998449a7adff27be9aefbfb4",
       "version_major": 2,
       "version_minor": 0
      },
      "text/plain": [
       "HBox(children=(HTML(value=''), FloatProgress(value=0.0, max=20.0), HTML(value='')))"
      ]
     },
     "metadata": {},
     "output_type": "display_data"
    },
    {
     "name": "stdout",
     "output_type": "stream",
     "text": [
      "\n"
     ]
    },
    {
     "data": {
      "application/vnd.jupyter.widget-view+json": {
       "model_id": "2f8a9b6437c74c2dba59669655db9c2e",
       "version_major": 2,
       "version_minor": 0
      },
      "text/plain": [
       "HBox(children=(HTML(value=''), FloatProgress(value=0.0, max=20.0), HTML(value='')))"
      ]
     },
     "metadata": {},
     "output_type": "display_data"
    },
    {
     "name": "stdout",
     "output_type": "stream",
     "text": [
      "\n"
     ]
    },
    {
     "data": {
      "application/vnd.jupyter.widget-view+json": {
       "model_id": "096b54e46b2d4614b041b3803215a408",
       "version_major": 2,
       "version_minor": 0
      },
      "text/plain": [
       "HBox(children=(HTML(value=''), FloatProgress(value=0.0, max=20.0), HTML(value='')))"
      ]
     },
     "metadata": {},
     "output_type": "display_data"
    },
    {
     "name": "stdout",
     "output_type": "stream",
     "text": [
      "\n"
     ]
    },
    {
     "data": {
      "application/vnd.jupyter.widget-view+json": {
       "model_id": "f0b9c5b817a847a88bc2e8251401d69b",
       "version_major": 2,
       "version_minor": 0
      },
      "text/plain": [
       "HBox(children=(HTML(value=''), FloatProgress(value=0.0, max=20.0), HTML(value='')))"
      ]
     },
     "metadata": {},
     "output_type": "display_data"
    },
    {
     "name": "stdout",
     "output_type": "stream",
     "text": [
      "\n"
     ]
    },
    {
     "data": {
      "application/vnd.jupyter.widget-view+json": {
       "model_id": "ed019a37b87b42329a8cf04e328cff57",
       "version_major": 2,
       "version_minor": 0
      },
      "text/plain": [
       "HBox(children=(HTML(value=''), FloatProgress(value=0.0, max=20.0), HTML(value='')))"
      ]
     },
     "metadata": {},
     "output_type": "display_data"
    },
    {
     "name": "stdout",
     "output_type": "stream",
     "text": [
      "\n"
     ]
    },
    {
     "data": {
      "application/vnd.jupyter.widget-view+json": {
       "model_id": "b5e8686e896644b6a943200fd5c41229",
       "version_major": 2,
       "version_minor": 0
      },
      "text/plain": [
       "HBox(children=(HTML(value=''), FloatProgress(value=0.0, max=20.0), HTML(value='')))"
      ]
     },
     "metadata": {},
     "output_type": "display_data"
    },
    {
     "name": "stdout",
     "output_type": "stream",
     "text": [
      "\n"
     ]
    },
    {
     "data": {
      "application/vnd.jupyter.widget-view+json": {
       "model_id": "7c21aea67b2547c4bb8daff23e2682fc",
       "version_major": 2,
       "version_minor": 0
      },
      "text/plain": [
       "HBox(children=(HTML(value=''), FloatProgress(value=0.0, max=20.0), HTML(value='')))"
      ]
     },
     "metadata": {},
     "output_type": "display_data"
    },
    {
     "name": "stdout",
     "output_type": "stream",
     "text": [
      "\n",
      "\n"
     ]
    },
    {
     "data": {
      "application/vnd.jupyter.widget-view+json": {
       "model_id": "8ea1f686fc264f4a9153e70af08070af",
       "version_major": 2,
       "version_minor": 0
      },
      "text/plain": [
       "HBox(children=(HTML(value=''), FloatProgress(value=0.0, max=9.0), HTML(value='')))"
      ]
     },
     "metadata": {},
     "output_type": "display_data"
    },
    {
     "data": {
      "application/vnd.jupyter.widget-view+json": {
       "model_id": "ac57bac8a41048fc8862c7d311767681",
       "version_major": 2,
       "version_minor": 0
      },
      "text/plain": [
       "HBox(children=(HTML(value=''), FloatProgress(value=0.0, max=20.0), HTML(value='')))"
      ]
     },
     "metadata": {},
     "output_type": "display_data"
    },
    {
     "name": "stdout",
     "output_type": "stream",
     "text": [
      "\n"
     ]
    },
    {
     "data": {
      "application/vnd.jupyter.widget-view+json": {
       "model_id": "c43ef0854dfa4b75b1109ef887ee7a55",
       "version_major": 2,
       "version_minor": 0
      },
      "text/plain": [
       "HBox(children=(HTML(value=''), FloatProgress(value=0.0, max=20.0), HTML(value='')))"
      ]
     },
     "metadata": {},
     "output_type": "display_data"
    },
    {
     "name": "stdout",
     "output_type": "stream",
     "text": [
      "\n"
     ]
    },
    {
     "data": {
      "application/vnd.jupyter.widget-view+json": {
       "model_id": "7a4e4338db8042cca4dee0a7d1452a5a",
       "version_major": 2,
       "version_minor": 0
      },
      "text/plain": [
       "HBox(children=(HTML(value=''), FloatProgress(value=0.0, max=20.0), HTML(value='')))"
      ]
     },
     "metadata": {},
     "output_type": "display_data"
    },
    {
     "name": "stdout",
     "output_type": "stream",
     "text": [
      "\n"
     ]
    },
    {
     "data": {
      "application/vnd.jupyter.widget-view+json": {
       "model_id": "b2ac230430b044778bd455391e58644c",
       "version_major": 2,
       "version_minor": 0
      },
      "text/plain": [
       "HBox(children=(HTML(value=''), FloatProgress(value=0.0, max=20.0), HTML(value='')))"
      ]
     },
     "metadata": {},
     "output_type": "display_data"
    },
    {
     "name": "stdout",
     "output_type": "stream",
     "text": [
      "\n"
     ]
    },
    {
     "data": {
      "application/vnd.jupyter.widget-view+json": {
       "model_id": "20cda49ce26943fb800dd6cd236265d6",
       "version_major": 2,
       "version_minor": 0
      },
      "text/plain": [
       "HBox(children=(HTML(value=''), FloatProgress(value=0.0, max=20.0), HTML(value='')))"
      ]
     },
     "metadata": {},
     "output_type": "display_data"
    },
    {
     "name": "stdout",
     "output_type": "stream",
     "text": [
      "\n"
     ]
    },
    {
     "data": {
      "application/vnd.jupyter.widget-view+json": {
       "model_id": "0ba41e38694c4ad69c1702b90bc06b89",
       "version_major": 2,
       "version_minor": 0
      },
      "text/plain": [
       "HBox(children=(HTML(value=''), FloatProgress(value=0.0, max=20.0), HTML(value='')))"
      ]
     },
     "metadata": {},
     "output_type": "display_data"
    },
    {
     "name": "stdout",
     "output_type": "stream",
     "text": [
      "\n"
     ]
    },
    {
     "data": {
      "application/vnd.jupyter.widget-view+json": {
       "model_id": "63fcb326e6ab436bb839c9219798d033",
       "version_major": 2,
       "version_minor": 0
      },
      "text/plain": [
       "HBox(children=(HTML(value=''), FloatProgress(value=0.0, max=20.0), HTML(value='')))"
      ]
     },
     "metadata": {},
     "output_type": "display_data"
    },
    {
     "name": "stdout",
     "output_type": "stream",
     "text": [
      "\n"
     ]
    },
    {
     "data": {
      "application/vnd.jupyter.widget-view+json": {
       "model_id": "5c2fd03c230b415abd93339709cec110",
       "version_major": 2,
       "version_minor": 0
      },
      "text/plain": [
       "HBox(children=(HTML(value=''), FloatProgress(value=0.0, max=20.0), HTML(value='')))"
      ]
     },
     "metadata": {},
     "output_type": "display_data"
    },
    {
     "name": "stdout",
     "output_type": "stream",
     "text": [
      "\n",
      "\n"
     ]
    },
    {
     "data": {
      "application/vnd.jupyter.widget-view+json": {
       "model_id": "9a9f4df2abe941e7800263eee5163746",
       "version_major": 2,
       "version_minor": 0
      },
      "text/plain": [
       "HBox(children=(HTML(value=''), FloatProgress(value=0.0, max=9.0), HTML(value='')))"
      ]
     },
     "metadata": {},
     "output_type": "display_data"
    },
    {
     "data": {
      "application/vnd.jupyter.widget-view+json": {
       "model_id": "f457515bb3e04f3cb2ec4c613c23ec18",
       "version_major": 2,
       "version_minor": 0
      },
      "text/plain": [
       "HBox(children=(HTML(value=''), FloatProgress(value=0.0, max=20.0), HTML(value='')))"
      ]
     },
     "metadata": {},
     "output_type": "display_data"
    },
    {
     "name": "stdout",
     "output_type": "stream",
     "text": [
      "\n"
     ]
    },
    {
     "data": {
      "application/vnd.jupyter.widget-view+json": {
       "model_id": "1f1b185fb6414a73ba5fe6175ea9c45f",
       "version_major": 2,
       "version_minor": 0
      },
      "text/plain": [
       "HBox(children=(HTML(value=''), FloatProgress(value=0.0, max=20.0), HTML(value='')))"
      ]
     },
     "metadata": {},
     "output_type": "display_data"
    },
    {
     "name": "stdout",
     "output_type": "stream",
     "text": [
      "\n"
     ]
    },
    {
     "data": {
      "application/vnd.jupyter.widget-view+json": {
       "model_id": "c7c8c945c8e246f2b100b98b6db1cf7e",
       "version_major": 2,
       "version_minor": 0
      },
      "text/plain": [
       "HBox(children=(HTML(value=''), FloatProgress(value=0.0, max=20.0), HTML(value='')))"
      ]
     },
     "metadata": {},
     "output_type": "display_data"
    },
    {
     "name": "stdout",
     "output_type": "stream",
     "text": [
      "\n"
     ]
    },
    {
     "data": {
      "application/vnd.jupyter.widget-view+json": {
       "model_id": "86396c1277fd407c8eb9fef2f552d423",
       "version_major": 2,
       "version_minor": 0
      },
      "text/plain": [
       "HBox(children=(HTML(value=''), FloatProgress(value=0.0, max=20.0), HTML(value='')))"
      ]
     },
     "metadata": {},
     "output_type": "display_data"
    },
    {
     "name": "stdout",
     "output_type": "stream",
     "text": [
      "\n"
     ]
    },
    {
     "data": {
      "application/vnd.jupyter.widget-view+json": {
       "model_id": "5ecaceff69744b4ea5430bec87cd382c",
       "version_major": 2,
       "version_minor": 0
      },
      "text/plain": [
       "HBox(children=(HTML(value=''), FloatProgress(value=0.0, max=20.0), HTML(value='')))"
      ]
     },
     "metadata": {},
     "output_type": "display_data"
    },
    {
     "name": "stdout",
     "output_type": "stream",
     "text": [
      "\n"
     ]
    },
    {
     "data": {
      "application/vnd.jupyter.widget-view+json": {
       "model_id": "72d2188d5a34450cbce55130280ea8aa",
       "version_major": 2,
       "version_minor": 0
      },
      "text/plain": [
       "HBox(children=(HTML(value=''), FloatProgress(value=0.0, max=20.0), HTML(value='')))"
      ]
     },
     "metadata": {},
     "output_type": "display_data"
    },
    {
     "name": "stdout",
     "output_type": "stream",
     "text": [
      "\n"
     ]
    },
    {
     "data": {
      "application/vnd.jupyter.widget-view+json": {
       "model_id": "542b0515c7e748b595c933bd5826944e",
       "version_major": 2,
       "version_minor": 0
      },
      "text/plain": [
       "HBox(children=(HTML(value=''), FloatProgress(value=0.0, max=20.0), HTML(value='')))"
      ]
     },
     "metadata": {},
     "output_type": "display_data"
    },
    {
     "name": "stdout",
     "output_type": "stream",
     "text": [
      "\n"
     ]
    },
    {
     "data": {
      "application/vnd.jupyter.widget-view+json": {
       "model_id": "f7a99ccff2e34e7ebbce527ee882bd3c",
       "version_major": 2,
       "version_minor": 0
      },
      "text/plain": [
       "HBox(children=(HTML(value=''), FloatProgress(value=0.0, max=20.0), HTML(value='')))"
      ]
     },
     "metadata": {},
     "output_type": "display_data"
    },
    {
     "name": "stdout",
     "output_type": "stream",
     "text": [
      "\n",
      "\n"
     ]
    },
    {
     "data": {
      "application/vnd.jupyter.widget-view+json": {
       "model_id": "5eaca8d8be844df5b4c3e80a462fbc36",
       "version_major": 2,
       "version_minor": 0
      },
      "text/plain": [
       "HBox(children=(HTML(value=''), FloatProgress(value=0.0, max=9.0), HTML(value='')))"
      ]
     },
     "metadata": {},
     "output_type": "display_data"
    },
    {
     "data": {
      "application/vnd.jupyter.widget-view+json": {
       "model_id": "586bac289dad46ebb637e51e6b186ca6",
       "version_major": 2,
       "version_minor": 0
      },
      "text/plain": [
       "HBox(children=(HTML(value=''), FloatProgress(value=0.0, max=20.0), HTML(value='')))"
      ]
     },
     "metadata": {},
     "output_type": "display_data"
    },
    {
     "name": "stdout",
     "output_type": "stream",
     "text": [
      "\n"
     ]
    },
    {
     "data": {
      "application/vnd.jupyter.widget-view+json": {
       "model_id": "e74a4a4607474c66bef847c6e96c8bf2",
       "version_major": 2,
       "version_minor": 0
      },
      "text/plain": [
       "HBox(children=(HTML(value=''), FloatProgress(value=0.0, max=20.0), HTML(value='')))"
      ]
     },
     "metadata": {},
     "output_type": "display_data"
    },
    {
     "name": "stdout",
     "output_type": "stream",
     "text": [
      "\n"
     ]
    },
    {
     "data": {
      "application/vnd.jupyter.widget-view+json": {
       "model_id": "b9dbe055b855493b978e6e09c71bd8e6",
       "version_major": 2,
       "version_minor": 0
      },
      "text/plain": [
       "HBox(children=(HTML(value=''), FloatProgress(value=0.0, max=20.0), HTML(value='')))"
      ]
     },
     "metadata": {},
     "output_type": "display_data"
    },
    {
     "name": "stdout",
     "output_type": "stream",
     "text": [
      "\n"
     ]
    },
    {
     "data": {
      "application/vnd.jupyter.widget-view+json": {
       "model_id": "53076878349b449cad866da867efbe60",
       "version_major": 2,
       "version_minor": 0
      },
      "text/plain": [
       "HBox(children=(HTML(value=''), FloatProgress(value=0.0, max=20.0), HTML(value='')))"
      ]
     },
     "metadata": {},
     "output_type": "display_data"
    },
    {
     "name": "stdout",
     "output_type": "stream",
     "text": [
      "\n"
     ]
    },
    {
     "data": {
      "application/vnd.jupyter.widget-view+json": {
       "model_id": "46ce5ba2513f44289c2e655ef79ccc94",
       "version_major": 2,
       "version_minor": 0
      },
      "text/plain": [
       "HBox(children=(HTML(value=''), FloatProgress(value=0.0, max=20.0), HTML(value='')))"
      ]
     },
     "metadata": {},
     "output_type": "display_data"
    },
    {
     "name": "stdout",
     "output_type": "stream",
     "text": [
      "\n"
     ]
    },
    {
     "data": {
      "application/vnd.jupyter.widget-view+json": {
       "model_id": "97fc6fc85a604a9db96a7e69cd913ab4",
       "version_major": 2,
       "version_minor": 0
      },
      "text/plain": [
       "HBox(children=(HTML(value=''), FloatProgress(value=0.0, max=20.0), HTML(value='')))"
      ]
     },
     "metadata": {},
     "output_type": "display_data"
    },
    {
     "name": "stdout",
     "output_type": "stream",
     "text": [
      "\n"
     ]
    },
    {
     "data": {
      "application/vnd.jupyter.widget-view+json": {
       "model_id": "f6a7ff357a094d6a8a53780e47cd5238",
       "version_major": 2,
       "version_minor": 0
      },
      "text/plain": [
       "HBox(children=(HTML(value=''), FloatProgress(value=0.0, max=20.0), HTML(value='')))"
      ]
     },
     "metadata": {},
     "output_type": "display_data"
    },
    {
     "name": "stdout",
     "output_type": "stream",
     "text": [
      "\n"
     ]
    },
    {
     "data": {
      "application/vnd.jupyter.widget-view+json": {
       "model_id": "a3e2e36ef3e54db9b72d2c78f4b39a08",
       "version_major": 2,
       "version_minor": 0
      },
      "text/plain": [
       "HBox(children=(HTML(value=''), FloatProgress(value=0.0, max=20.0), HTML(value='')))"
      ]
     },
     "metadata": {},
     "output_type": "display_data"
    },
    {
     "name": "stdout",
     "output_type": "stream",
     "text": [
      "\n",
      "\n"
     ]
    },
    {
     "data": {
      "application/vnd.jupyter.widget-view+json": {
       "model_id": "f03c07b05e41408c95db5b44617f76b3",
       "version_major": 2,
       "version_minor": 0
      },
      "text/plain": [
       "HBox(children=(HTML(value=''), FloatProgress(value=0.0, max=9.0), HTML(value='')))"
      ]
     },
     "metadata": {},
     "output_type": "display_data"
    },
    {
     "data": {
      "application/vnd.jupyter.widget-view+json": {
       "model_id": "e422af58e61c49ed9bddd0e832265117",
       "version_major": 2,
       "version_minor": 0
      },
      "text/plain": [
       "HBox(children=(HTML(value=''), FloatProgress(value=0.0, max=20.0), HTML(value='')))"
      ]
     },
     "metadata": {},
     "output_type": "display_data"
    },
    {
     "name": "stdout",
     "output_type": "stream",
     "text": [
      "\n"
     ]
    },
    {
     "data": {
      "application/vnd.jupyter.widget-view+json": {
       "model_id": "cc4e5b759f9e421ebdee9baad98f4aa7",
       "version_major": 2,
       "version_minor": 0
      },
      "text/plain": [
       "HBox(children=(HTML(value=''), FloatProgress(value=0.0, max=20.0), HTML(value='')))"
      ]
     },
     "metadata": {},
     "output_type": "display_data"
    },
    {
     "name": "stdout",
     "output_type": "stream",
     "text": [
      "\n"
     ]
    },
    {
     "data": {
      "application/vnd.jupyter.widget-view+json": {
       "model_id": "a070b76f26d94186bd46cab72b515b56",
       "version_major": 2,
       "version_minor": 0
      },
      "text/plain": [
       "HBox(children=(HTML(value=''), FloatProgress(value=0.0, max=20.0), HTML(value='')))"
      ]
     },
     "metadata": {},
     "output_type": "display_data"
    },
    {
     "name": "stdout",
     "output_type": "stream",
     "text": [
      "\n"
     ]
    },
    {
     "data": {
      "application/vnd.jupyter.widget-view+json": {
       "model_id": "b5c790e00c1a45249e3eb95a1974145e",
       "version_major": 2,
       "version_minor": 0
      },
      "text/plain": [
       "HBox(children=(HTML(value=''), FloatProgress(value=0.0, max=20.0), HTML(value='')))"
      ]
     },
     "metadata": {},
     "output_type": "display_data"
    },
    {
     "name": "stdout",
     "output_type": "stream",
     "text": [
      "\n"
     ]
    },
    {
     "data": {
      "application/vnd.jupyter.widget-view+json": {
       "model_id": "ebd21b0c2356436f910fac6778f24ee7",
       "version_major": 2,
       "version_minor": 0
      },
      "text/plain": [
       "HBox(children=(HTML(value=''), FloatProgress(value=0.0, max=20.0), HTML(value='')))"
      ]
     },
     "metadata": {},
     "output_type": "display_data"
    },
    {
     "name": "stdout",
     "output_type": "stream",
     "text": [
      "\n"
     ]
    },
    {
     "data": {
      "application/vnd.jupyter.widget-view+json": {
       "model_id": "141b1883b3344a4bb9dc4e89096e37a6",
       "version_major": 2,
       "version_minor": 0
      },
      "text/plain": [
       "HBox(children=(HTML(value=''), FloatProgress(value=0.0, max=20.0), HTML(value='')))"
      ]
     },
     "metadata": {},
     "output_type": "display_data"
    },
    {
     "name": "stdout",
     "output_type": "stream",
     "text": [
      "\n"
     ]
    },
    {
     "data": {
      "application/vnd.jupyter.widget-view+json": {
       "model_id": "3546eae1be4e4e1dbd37a8f1a9fa499b",
       "version_major": 2,
       "version_minor": 0
      },
      "text/plain": [
       "HBox(children=(HTML(value=''), FloatProgress(value=0.0, max=20.0), HTML(value='')))"
      ]
     },
     "metadata": {},
     "output_type": "display_data"
    },
    {
     "name": "stdout",
     "output_type": "stream",
     "text": [
      "\n"
     ]
    },
    {
     "data": {
      "application/vnd.jupyter.widget-view+json": {
       "model_id": "fd36ea3d082a47f483b76b44b2c0f337",
       "version_major": 2,
       "version_minor": 0
      },
      "text/plain": [
       "HBox(children=(HTML(value=''), FloatProgress(value=0.0, max=20.0), HTML(value='')))"
      ]
     },
     "metadata": {},
     "output_type": "display_data"
    },
    {
     "name": "stdout",
     "output_type": "stream",
     "text": [
      "\n",
      "\n"
     ]
    },
    {
     "data": {
      "application/vnd.jupyter.widget-view+json": {
       "model_id": "142be885499a41c6ae651d55fec3631b",
       "version_major": 2,
       "version_minor": 0
      },
      "text/plain": [
       "HBox(children=(HTML(value=''), FloatProgress(value=0.0, max=9.0), HTML(value='')))"
      ]
     },
     "metadata": {},
     "output_type": "display_data"
    },
    {
     "data": {
      "application/vnd.jupyter.widget-view+json": {
       "model_id": "39048ab99a424006afd16f69e73e6d3f",
       "version_major": 2,
       "version_minor": 0
      },
      "text/plain": [
       "HBox(children=(HTML(value=''), FloatProgress(value=0.0, max=20.0), HTML(value='')))"
      ]
     },
     "metadata": {},
     "output_type": "display_data"
    },
    {
     "name": "stdout",
     "output_type": "stream",
     "text": [
      "\n"
     ]
    },
    {
     "data": {
      "application/vnd.jupyter.widget-view+json": {
       "model_id": "97bbdcc9f74743668c57fc1cab0b75b1",
       "version_major": 2,
       "version_minor": 0
      },
      "text/plain": [
       "HBox(children=(HTML(value=''), FloatProgress(value=0.0, max=20.0), HTML(value='')))"
      ]
     },
     "metadata": {},
     "output_type": "display_data"
    },
    {
     "name": "stdout",
     "output_type": "stream",
     "text": [
      "\n"
     ]
    },
    {
     "data": {
      "application/vnd.jupyter.widget-view+json": {
       "model_id": "7250e2b9d8b04dd49835d9432769965b",
       "version_major": 2,
       "version_minor": 0
      },
      "text/plain": [
       "HBox(children=(HTML(value=''), FloatProgress(value=0.0, max=20.0), HTML(value='')))"
      ]
     },
     "metadata": {},
     "output_type": "display_data"
    },
    {
     "name": "stdout",
     "output_type": "stream",
     "text": [
      "\n"
     ]
    },
    {
     "data": {
      "application/vnd.jupyter.widget-view+json": {
       "model_id": "af29008e77a24fd6b76263f93fb4bdcc",
       "version_major": 2,
       "version_minor": 0
      },
      "text/plain": [
       "HBox(children=(HTML(value=''), FloatProgress(value=0.0, max=20.0), HTML(value='')))"
      ]
     },
     "metadata": {},
     "output_type": "display_data"
    },
    {
     "name": "stdout",
     "output_type": "stream",
     "text": [
      "\n"
     ]
    },
    {
     "data": {
      "application/vnd.jupyter.widget-view+json": {
       "model_id": "cb6e3bf560a7497b8b7d5049b875cd21",
       "version_major": 2,
       "version_minor": 0
      },
      "text/plain": [
       "HBox(children=(HTML(value=''), FloatProgress(value=0.0, max=20.0), HTML(value='')))"
      ]
     },
     "metadata": {},
     "output_type": "display_data"
    },
    {
     "name": "stdout",
     "output_type": "stream",
     "text": [
      "\n"
     ]
    },
    {
     "data": {
      "application/vnd.jupyter.widget-view+json": {
       "model_id": "ed389f474be948b1ac68df52dbeb3ec3",
       "version_major": 2,
       "version_minor": 0
      },
      "text/plain": [
       "HBox(children=(HTML(value=''), FloatProgress(value=0.0, max=20.0), HTML(value='')))"
      ]
     },
     "metadata": {},
     "output_type": "display_data"
    },
    {
     "name": "stdout",
     "output_type": "stream",
     "text": [
      "\n"
     ]
    },
    {
     "data": {
      "application/vnd.jupyter.widget-view+json": {
       "model_id": "930035e830b0413ea18c9267988ce817",
       "version_major": 2,
       "version_minor": 0
      },
      "text/plain": [
       "HBox(children=(HTML(value=''), FloatProgress(value=0.0, max=20.0), HTML(value='')))"
      ]
     },
     "metadata": {},
     "output_type": "display_data"
    },
    {
     "name": "stdout",
     "output_type": "stream",
     "text": [
      "\n"
     ]
    },
    {
     "data": {
      "application/vnd.jupyter.widget-view+json": {
       "model_id": "6b3d97911f6646bd9d791f2f5912f6a3",
       "version_major": 2,
       "version_minor": 0
      },
      "text/plain": [
       "HBox(children=(HTML(value=''), FloatProgress(value=0.0, max=20.0), HTML(value='')))"
      ]
     },
     "metadata": {},
     "output_type": "display_data"
    },
    {
     "name": "stdout",
     "output_type": "stream",
     "text": [
      "\n",
      "\n"
     ]
    },
    {
     "data": {
      "application/vnd.jupyter.widget-view+json": {
       "model_id": "559b8a1afee84bf29c4281780c9e58e5",
       "version_major": 2,
       "version_minor": 0
      },
      "text/plain": [
       "HBox(children=(HTML(value=''), FloatProgress(value=0.0, max=9.0), HTML(value='')))"
      ]
     },
     "metadata": {},
     "output_type": "display_data"
    },
    {
     "data": {
      "application/vnd.jupyter.widget-view+json": {
       "model_id": "cf0e88c18ac14139991526a9eff78f3a",
       "version_major": 2,
       "version_minor": 0
      },
      "text/plain": [
       "HBox(children=(HTML(value=''), FloatProgress(value=0.0, max=20.0), HTML(value='')))"
      ]
     },
     "metadata": {},
     "output_type": "display_data"
    },
    {
     "name": "stdout",
     "output_type": "stream",
     "text": [
      "\n"
     ]
    },
    {
     "data": {
      "application/vnd.jupyter.widget-view+json": {
       "model_id": "c4ea51bc285a481db003f700a2ebcb96",
       "version_major": 2,
       "version_minor": 0
      },
      "text/plain": [
       "HBox(children=(HTML(value=''), FloatProgress(value=0.0, max=20.0), HTML(value='')))"
      ]
     },
     "metadata": {},
     "output_type": "display_data"
    },
    {
     "name": "stdout",
     "output_type": "stream",
     "text": [
      "\n"
     ]
    },
    {
     "data": {
      "application/vnd.jupyter.widget-view+json": {
       "model_id": "0b7bca4209794d4f8026c7a1b886d2f0",
       "version_major": 2,
       "version_minor": 0
      },
      "text/plain": [
       "HBox(children=(HTML(value=''), FloatProgress(value=0.0, max=20.0), HTML(value='')))"
      ]
     },
     "metadata": {},
     "output_type": "display_data"
    },
    {
     "name": "stdout",
     "output_type": "stream",
     "text": [
      "\n"
     ]
    },
    {
     "data": {
      "application/vnd.jupyter.widget-view+json": {
       "model_id": "4b03a0d9ae734c5ba746cfabcb260cf8",
       "version_major": 2,
       "version_minor": 0
      },
      "text/plain": [
       "HBox(children=(HTML(value=''), FloatProgress(value=0.0, max=20.0), HTML(value='')))"
      ]
     },
     "metadata": {},
     "output_type": "display_data"
    },
    {
     "name": "stdout",
     "output_type": "stream",
     "text": [
      "\n"
     ]
    },
    {
     "data": {
      "application/vnd.jupyter.widget-view+json": {
       "model_id": "f7299f78e7154fcab15ca311728d57d5",
       "version_major": 2,
       "version_minor": 0
      },
      "text/plain": [
       "HBox(children=(HTML(value=''), FloatProgress(value=0.0, max=20.0), HTML(value='')))"
      ]
     },
     "metadata": {},
     "output_type": "display_data"
    },
    {
     "name": "stdout",
     "output_type": "stream",
     "text": [
      "\n"
     ]
    },
    {
     "data": {
      "application/vnd.jupyter.widget-view+json": {
       "model_id": "c32972648ebe411abe8444658cd83306",
       "version_major": 2,
       "version_minor": 0
      },
      "text/plain": [
       "HBox(children=(HTML(value=''), FloatProgress(value=0.0, max=20.0), HTML(value='')))"
      ]
     },
     "metadata": {},
     "output_type": "display_data"
    },
    {
     "name": "stdout",
     "output_type": "stream",
     "text": [
      "\n"
     ]
    },
    {
     "data": {
      "application/vnd.jupyter.widget-view+json": {
       "model_id": "3f20640e55d34c2681d2b4fb386aad7a",
       "version_major": 2,
       "version_minor": 0
      },
      "text/plain": [
       "HBox(children=(HTML(value=''), FloatProgress(value=0.0, max=20.0), HTML(value='')))"
      ]
     },
     "metadata": {},
     "output_type": "display_data"
    },
    {
     "name": "stdout",
     "output_type": "stream",
     "text": [
      "\n"
     ]
    },
    {
     "data": {
      "application/vnd.jupyter.widget-view+json": {
       "model_id": "d63f04c891b644e7aeac597051dff9c9",
       "version_major": 2,
       "version_minor": 0
      },
      "text/plain": [
       "HBox(children=(HTML(value=''), FloatProgress(value=0.0, max=20.0), HTML(value='')))"
      ]
     },
     "metadata": {},
     "output_type": "display_data"
    },
    {
     "name": "stdout",
     "output_type": "stream",
     "text": [
      "\n",
      "\n",
      "\n"
     ]
    },
    {
     "data": {
      "application/vnd.jupyter.widget-view+json": {
       "model_id": "a5734c8cbcfd4748adec6e8dca2e9721",
       "version_major": 2,
       "version_minor": 0
      },
      "text/plain": [
       "HBox(children=(HTML(value=''), FloatProgress(value=0.0, max=9.0), HTML(value='')))"
      ]
     },
     "metadata": {},
     "output_type": "display_data"
    },
    {
     "data": {
      "application/vnd.jupyter.widget-view+json": {
       "model_id": "c4185d5b8acf4d41913368ec732fd039",
       "version_major": 2,
       "version_minor": 0
      },
      "text/plain": [
       "HBox(children=(HTML(value=''), FloatProgress(value=0.0, max=9.0), HTML(value='')))"
      ]
     },
     "metadata": {},
     "output_type": "display_data"
    },
    {
     "data": {
      "application/vnd.jupyter.widget-view+json": {
       "model_id": "f24a7a0cc1a34680a76c54bee8371d92",
       "version_major": 2,
       "version_minor": 0
      },
      "text/plain": [
       "HBox(children=(HTML(value=''), FloatProgress(value=0.0, max=20.0), HTML(value='')))"
      ]
     },
     "metadata": {},
     "output_type": "display_data"
    },
    {
     "name": "stdout",
     "output_type": "stream",
     "text": [
      "\n"
     ]
    },
    {
     "data": {
      "application/vnd.jupyter.widget-view+json": {
       "model_id": "08699210a33d45bba035b43b78009423",
       "version_major": 2,
       "version_minor": 0
      },
      "text/plain": [
       "HBox(children=(HTML(value=''), FloatProgress(value=0.0, max=20.0), HTML(value='')))"
      ]
     },
     "metadata": {},
     "output_type": "display_data"
    },
    {
     "name": "stdout",
     "output_type": "stream",
     "text": [
      "\n"
     ]
    },
    {
     "data": {
      "application/vnd.jupyter.widget-view+json": {
       "model_id": "b5eae91c1f454b7cae4b0306bcde4c23",
       "version_major": 2,
       "version_minor": 0
      },
      "text/plain": [
       "HBox(children=(HTML(value=''), FloatProgress(value=0.0, max=20.0), HTML(value='')))"
      ]
     },
     "metadata": {},
     "output_type": "display_data"
    },
    {
     "name": "stdout",
     "output_type": "stream",
     "text": [
      "\n"
     ]
    },
    {
     "data": {
      "application/vnd.jupyter.widget-view+json": {
       "model_id": "8c9626d00196412d9fb9171db4185d29",
       "version_major": 2,
       "version_minor": 0
      },
      "text/plain": [
       "HBox(children=(HTML(value=''), FloatProgress(value=0.0, max=20.0), HTML(value='')))"
      ]
     },
     "metadata": {},
     "output_type": "display_data"
    },
    {
     "name": "stdout",
     "output_type": "stream",
     "text": [
      "\n"
     ]
    },
    {
     "data": {
      "application/vnd.jupyter.widget-view+json": {
       "model_id": "2abcf672d82b4810a6ab6da9135830ed",
       "version_major": 2,
       "version_minor": 0
      },
      "text/plain": [
       "HBox(children=(HTML(value=''), FloatProgress(value=0.0, max=20.0), HTML(value='')))"
      ]
     },
     "metadata": {},
     "output_type": "display_data"
    },
    {
     "name": "stdout",
     "output_type": "stream",
     "text": [
      "\n"
     ]
    },
    {
     "data": {
      "application/vnd.jupyter.widget-view+json": {
       "model_id": "caec494312d440829941f3bcfb26c76e",
       "version_major": 2,
       "version_minor": 0
      },
      "text/plain": [
       "HBox(children=(HTML(value=''), FloatProgress(value=0.0, max=20.0), HTML(value='')))"
      ]
     },
     "metadata": {},
     "output_type": "display_data"
    },
    {
     "name": "stdout",
     "output_type": "stream",
     "text": [
      "\n"
     ]
    },
    {
     "data": {
      "application/vnd.jupyter.widget-view+json": {
       "model_id": "bc155b53b34e45dd83b699352369fbcb",
       "version_major": 2,
       "version_minor": 0
      },
      "text/plain": [
       "HBox(children=(HTML(value=''), FloatProgress(value=0.0, max=20.0), HTML(value='')))"
      ]
     },
     "metadata": {},
     "output_type": "display_data"
    },
    {
     "name": "stdout",
     "output_type": "stream",
     "text": [
      "\n"
     ]
    },
    {
     "data": {
      "application/vnd.jupyter.widget-view+json": {
       "model_id": "849b420990fc400b9c239c49adf59b3a",
       "version_major": 2,
       "version_minor": 0
      },
      "text/plain": [
       "HBox(children=(HTML(value=''), FloatProgress(value=0.0, max=20.0), HTML(value='')))"
      ]
     },
     "metadata": {},
     "output_type": "display_data"
    },
    {
     "name": "stdout",
     "output_type": "stream",
     "text": [
      "\n",
      "\n"
     ]
    },
    {
     "data": {
      "application/vnd.jupyter.widget-view+json": {
       "model_id": "eb7710f4ce5b46808c4e45a13a8d63fc",
       "version_major": 2,
       "version_minor": 0
      },
      "text/plain": [
       "HBox(children=(HTML(value=''), FloatProgress(value=0.0, max=9.0), HTML(value='')))"
      ]
     },
     "metadata": {},
     "output_type": "display_data"
    },
    {
     "data": {
      "application/vnd.jupyter.widget-view+json": {
       "model_id": "b4592ffbd85a425992ff07cf586d40df",
       "version_major": 2,
       "version_minor": 0
      },
      "text/plain": [
       "HBox(children=(HTML(value=''), FloatProgress(value=0.0, max=20.0), HTML(value='')))"
      ]
     },
     "metadata": {},
     "output_type": "display_data"
    },
    {
     "name": "stdout",
     "output_type": "stream",
     "text": [
      "\n"
     ]
    },
    {
     "data": {
      "application/vnd.jupyter.widget-view+json": {
       "model_id": "06675ea451a74e98885cd2306e8b6369",
       "version_major": 2,
       "version_minor": 0
      },
      "text/plain": [
       "HBox(children=(HTML(value=''), FloatProgress(value=0.0, max=20.0), HTML(value='')))"
      ]
     },
     "metadata": {},
     "output_type": "display_data"
    },
    {
     "name": "stdout",
     "output_type": "stream",
     "text": [
      "\n"
     ]
    },
    {
     "data": {
      "application/vnd.jupyter.widget-view+json": {
       "model_id": "79994b1cc22245939618c8e03369bb6e",
       "version_major": 2,
       "version_minor": 0
      },
      "text/plain": [
       "HBox(children=(HTML(value=''), FloatProgress(value=0.0, max=20.0), HTML(value='')))"
      ]
     },
     "metadata": {},
     "output_type": "display_data"
    },
    {
     "name": "stdout",
     "output_type": "stream",
     "text": [
      "\n"
     ]
    },
    {
     "data": {
      "application/vnd.jupyter.widget-view+json": {
       "model_id": "8fc7042092784fb893faaf7825892674",
       "version_major": 2,
       "version_minor": 0
      },
      "text/plain": [
       "HBox(children=(HTML(value=''), FloatProgress(value=0.0, max=20.0), HTML(value='')))"
      ]
     },
     "metadata": {},
     "output_type": "display_data"
    },
    {
     "name": "stdout",
     "output_type": "stream",
     "text": [
      "\n"
     ]
    },
    {
     "data": {
      "application/vnd.jupyter.widget-view+json": {
       "model_id": "6646cf91e7ae4b459db5cd652f2e1a5f",
       "version_major": 2,
       "version_minor": 0
      },
      "text/plain": [
       "HBox(children=(HTML(value=''), FloatProgress(value=0.0, max=20.0), HTML(value='')))"
      ]
     },
     "metadata": {},
     "output_type": "display_data"
    },
    {
     "name": "stdout",
     "output_type": "stream",
     "text": [
      "\n"
     ]
    },
    {
     "data": {
      "application/vnd.jupyter.widget-view+json": {
       "model_id": "baa32a8023e24ecf9aafd932e55d1a14",
       "version_major": 2,
       "version_minor": 0
      },
      "text/plain": [
       "HBox(children=(HTML(value=''), FloatProgress(value=0.0, max=20.0), HTML(value='')))"
      ]
     },
     "metadata": {},
     "output_type": "display_data"
    },
    {
     "name": "stdout",
     "output_type": "stream",
     "text": [
      "\n"
     ]
    },
    {
     "data": {
      "application/vnd.jupyter.widget-view+json": {
       "model_id": "9d77ae28a9ab48e1ab2908045d7476c1",
       "version_major": 2,
       "version_minor": 0
      },
      "text/plain": [
       "HBox(children=(HTML(value=''), FloatProgress(value=0.0, max=20.0), HTML(value='')))"
      ]
     },
     "metadata": {},
     "output_type": "display_data"
    },
    {
     "name": "stdout",
     "output_type": "stream",
     "text": [
      "\n"
     ]
    },
    {
     "data": {
      "application/vnd.jupyter.widget-view+json": {
       "model_id": "1956da92b57a43a7843d5216d0a8c012",
       "version_major": 2,
       "version_minor": 0
      },
      "text/plain": [
       "HBox(children=(HTML(value=''), FloatProgress(value=0.0, max=20.0), HTML(value='')))"
      ]
     },
     "metadata": {},
     "output_type": "display_data"
    },
    {
     "name": "stdout",
     "output_type": "stream",
     "text": [
      "\n",
      "\n"
     ]
    },
    {
     "data": {
      "application/vnd.jupyter.widget-view+json": {
       "model_id": "3f59f2fe802a463eb1e4d9b19bdd0756",
       "version_major": 2,
       "version_minor": 0
      },
      "text/plain": [
       "HBox(children=(HTML(value=''), FloatProgress(value=0.0, max=9.0), HTML(value='')))"
      ]
     },
     "metadata": {},
     "output_type": "display_data"
    },
    {
     "data": {
      "application/vnd.jupyter.widget-view+json": {
       "model_id": "0c7b2e16d14640719cee8aaa97db402a",
       "version_major": 2,
       "version_minor": 0
      },
      "text/plain": [
       "HBox(children=(HTML(value=''), FloatProgress(value=0.0, max=20.0), HTML(value='')))"
      ]
     },
     "metadata": {},
     "output_type": "display_data"
    },
    {
     "name": "stdout",
     "output_type": "stream",
     "text": [
      "\n"
     ]
    },
    {
     "data": {
      "application/vnd.jupyter.widget-view+json": {
       "model_id": "0d66a8d911af44cbba3702f471541e06",
       "version_major": 2,
       "version_minor": 0
      },
      "text/plain": [
       "HBox(children=(HTML(value=''), FloatProgress(value=0.0, max=20.0), HTML(value='')))"
      ]
     },
     "metadata": {},
     "output_type": "display_data"
    },
    {
     "name": "stdout",
     "output_type": "stream",
     "text": [
      "\n"
     ]
    },
    {
     "data": {
      "application/vnd.jupyter.widget-view+json": {
       "model_id": "7caa0e27442a4806bf996337112748ef",
       "version_major": 2,
       "version_minor": 0
      },
      "text/plain": [
       "HBox(children=(HTML(value=''), FloatProgress(value=0.0, max=20.0), HTML(value='')))"
      ]
     },
     "metadata": {},
     "output_type": "display_data"
    },
    {
     "name": "stdout",
     "output_type": "stream",
     "text": [
      "\n"
     ]
    },
    {
     "data": {
      "application/vnd.jupyter.widget-view+json": {
       "model_id": "4ca52b645d6c4532b87976a16a223727",
       "version_major": 2,
       "version_minor": 0
      },
      "text/plain": [
       "HBox(children=(HTML(value=''), FloatProgress(value=0.0, max=20.0), HTML(value='')))"
      ]
     },
     "metadata": {},
     "output_type": "display_data"
    },
    {
     "name": "stdout",
     "output_type": "stream",
     "text": [
      "\n"
     ]
    },
    {
     "data": {
      "application/vnd.jupyter.widget-view+json": {
       "model_id": "1677a0bf032440c6a1328beef8c03cb5",
       "version_major": 2,
       "version_minor": 0
      },
      "text/plain": [
       "HBox(children=(HTML(value=''), FloatProgress(value=0.0, max=20.0), HTML(value='')))"
      ]
     },
     "metadata": {},
     "output_type": "display_data"
    },
    {
     "name": "stdout",
     "output_type": "stream",
     "text": [
      "\n"
     ]
    },
    {
     "data": {
      "application/vnd.jupyter.widget-view+json": {
       "model_id": "4cac269dd0a6440eb28bc6221eb194a4",
       "version_major": 2,
       "version_minor": 0
      },
      "text/plain": [
       "HBox(children=(HTML(value=''), FloatProgress(value=0.0, max=20.0), HTML(value='')))"
      ]
     },
     "metadata": {},
     "output_type": "display_data"
    },
    {
     "name": "stdout",
     "output_type": "stream",
     "text": [
      "\n"
     ]
    },
    {
     "data": {
      "application/vnd.jupyter.widget-view+json": {
       "model_id": "02c6881d18934e548b4f7b47ee846680",
       "version_major": 2,
       "version_minor": 0
      },
      "text/plain": [
       "HBox(children=(HTML(value=''), FloatProgress(value=0.0, max=20.0), HTML(value='')))"
      ]
     },
     "metadata": {},
     "output_type": "display_data"
    },
    {
     "name": "stdout",
     "output_type": "stream",
     "text": [
      "\n"
     ]
    },
    {
     "data": {
      "application/vnd.jupyter.widget-view+json": {
       "model_id": "b36c2f6b0cf249bd81dfa0afb7d3bc22",
       "version_major": 2,
       "version_minor": 0
      },
      "text/plain": [
       "HBox(children=(HTML(value=''), FloatProgress(value=0.0, max=20.0), HTML(value='')))"
      ]
     },
     "metadata": {},
     "output_type": "display_data"
    },
    {
     "name": "stdout",
     "output_type": "stream",
     "text": [
      "\n",
      "\n"
     ]
    },
    {
     "data": {
      "application/vnd.jupyter.widget-view+json": {
       "model_id": "4f14bc56eb8749359118c9f4181dbb54",
       "version_major": 2,
       "version_minor": 0
      },
      "text/plain": [
       "HBox(children=(HTML(value=''), FloatProgress(value=0.0, max=9.0), HTML(value='')))"
      ]
     },
     "metadata": {},
     "output_type": "display_data"
    },
    {
     "data": {
      "application/vnd.jupyter.widget-view+json": {
       "model_id": "51d261113dd347179fb52dc02c234499",
       "version_major": 2,
       "version_minor": 0
      },
      "text/plain": [
       "HBox(children=(HTML(value=''), FloatProgress(value=0.0, max=20.0), HTML(value='')))"
      ]
     },
     "metadata": {},
     "output_type": "display_data"
    },
    {
     "name": "stdout",
     "output_type": "stream",
     "text": [
      "\n"
     ]
    },
    {
     "data": {
      "application/vnd.jupyter.widget-view+json": {
       "model_id": "107db9f7297c440ab147d369f30f6e4d",
       "version_major": 2,
       "version_minor": 0
      },
      "text/plain": [
       "HBox(children=(HTML(value=''), FloatProgress(value=0.0, max=20.0), HTML(value='')))"
      ]
     },
     "metadata": {},
     "output_type": "display_data"
    },
    {
     "name": "stdout",
     "output_type": "stream",
     "text": [
      "\n"
     ]
    },
    {
     "data": {
      "application/vnd.jupyter.widget-view+json": {
       "model_id": "3a6b9f2bacb04c49bcf5c4fbbaf51747",
       "version_major": 2,
       "version_minor": 0
      },
      "text/plain": [
       "HBox(children=(HTML(value=''), FloatProgress(value=0.0, max=20.0), HTML(value='')))"
      ]
     },
     "metadata": {},
     "output_type": "display_data"
    },
    {
     "name": "stdout",
     "output_type": "stream",
     "text": [
      "\n"
     ]
    },
    {
     "data": {
      "application/vnd.jupyter.widget-view+json": {
       "model_id": "db340c376c0540d1b8ef4719935677f1",
       "version_major": 2,
       "version_minor": 0
      },
      "text/plain": [
       "HBox(children=(HTML(value=''), FloatProgress(value=0.0, max=20.0), HTML(value='')))"
      ]
     },
     "metadata": {},
     "output_type": "display_data"
    },
    {
     "name": "stdout",
     "output_type": "stream",
     "text": [
      "\n"
     ]
    },
    {
     "data": {
      "application/vnd.jupyter.widget-view+json": {
       "model_id": "91bc15bb4ee645148cb02225f2016338",
       "version_major": 2,
       "version_minor": 0
      },
      "text/plain": [
       "HBox(children=(HTML(value=''), FloatProgress(value=0.0, max=20.0), HTML(value='')))"
      ]
     },
     "metadata": {},
     "output_type": "display_data"
    },
    {
     "name": "stdout",
     "output_type": "stream",
     "text": [
      "\n"
     ]
    },
    {
     "data": {
      "application/vnd.jupyter.widget-view+json": {
       "model_id": "60dc28870983473cabce99cdace0ab59",
       "version_major": 2,
       "version_minor": 0
      },
      "text/plain": [
       "HBox(children=(HTML(value=''), FloatProgress(value=0.0, max=20.0), HTML(value='')))"
      ]
     },
     "metadata": {},
     "output_type": "display_data"
    },
    {
     "name": "stdout",
     "output_type": "stream",
     "text": [
      "\n"
     ]
    },
    {
     "data": {
      "application/vnd.jupyter.widget-view+json": {
       "model_id": "da00e6d7cfd74fefb7a291dad352b52d",
       "version_major": 2,
       "version_minor": 0
      },
      "text/plain": [
       "HBox(children=(HTML(value=''), FloatProgress(value=0.0, max=20.0), HTML(value='')))"
      ]
     },
     "metadata": {},
     "output_type": "display_data"
    },
    {
     "name": "stdout",
     "output_type": "stream",
     "text": [
      "\n"
     ]
    },
    {
     "data": {
      "application/vnd.jupyter.widget-view+json": {
       "model_id": "f9548d340cbc445297f796116b527141",
       "version_major": 2,
       "version_minor": 0
      },
      "text/plain": [
       "HBox(children=(HTML(value=''), FloatProgress(value=0.0, max=20.0), HTML(value='')))"
      ]
     },
     "metadata": {},
     "output_type": "display_data"
    },
    {
     "name": "stdout",
     "output_type": "stream",
     "text": [
      "\n",
      "\n"
     ]
    },
    {
     "data": {
      "application/vnd.jupyter.widget-view+json": {
       "model_id": "55731db7059046208ac514ee22dc8124",
       "version_major": 2,
       "version_minor": 0
      },
      "text/plain": [
       "HBox(children=(HTML(value=''), FloatProgress(value=0.0, max=9.0), HTML(value='')))"
      ]
     },
     "metadata": {},
     "output_type": "display_data"
    },
    {
     "data": {
      "application/vnd.jupyter.widget-view+json": {
       "model_id": "c2f73f3b24bf40c4a02ffdf95e3c55e2",
       "version_major": 2,
       "version_minor": 0
      },
      "text/plain": [
       "HBox(children=(HTML(value=''), FloatProgress(value=0.0, max=20.0), HTML(value='')))"
      ]
     },
     "metadata": {},
     "output_type": "display_data"
    },
    {
     "name": "stdout",
     "output_type": "stream",
     "text": [
      "\n"
     ]
    },
    {
     "data": {
      "application/vnd.jupyter.widget-view+json": {
       "model_id": "68670f0d7c084d88bbbd8f3ed64852c3",
       "version_major": 2,
       "version_minor": 0
      },
      "text/plain": [
       "HBox(children=(HTML(value=''), FloatProgress(value=0.0, max=20.0), HTML(value='')))"
      ]
     },
     "metadata": {},
     "output_type": "display_data"
    },
    {
     "name": "stdout",
     "output_type": "stream",
     "text": [
      "\n"
     ]
    },
    {
     "data": {
      "application/vnd.jupyter.widget-view+json": {
       "model_id": "2e147c8aa95143359f562375e7c505ce",
       "version_major": 2,
       "version_minor": 0
      },
      "text/plain": [
       "HBox(children=(HTML(value=''), FloatProgress(value=0.0, max=20.0), HTML(value='')))"
      ]
     },
     "metadata": {},
     "output_type": "display_data"
    },
    {
     "name": "stdout",
     "output_type": "stream",
     "text": [
      "\n"
     ]
    },
    {
     "data": {
      "application/vnd.jupyter.widget-view+json": {
       "model_id": "cc2c2859bcf749ec9c87659f91b65b5a",
       "version_major": 2,
       "version_minor": 0
      },
      "text/plain": [
       "HBox(children=(HTML(value=''), FloatProgress(value=0.0, max=20.0), HTML(value='')))"
      ]
     },
     "metadata": {},
     "output_type": "display_data"
    },
    {
     "name": "stdout",
     "output_type": "stream",
     "text": [
      "\n"
     ]
    },
    {
     "data": {
      "application/vnd.jupyter.widget-view+json": {
       "model_id": "ebcd561175954ec4ad0f9a231d9e80da",
       "version_major": 2,
       "version_minor": 0
      },
      "text/plain": [
       "HBox(children=(HTML(value=''), FloatProgress(value=0.0, max=20.0), HTML(value='')))"
      ]
     },
     "metadata": {},
     "output_type": "display_data"
    },
    {
     "name": "stdout",
     "output_type": "stream",
     "text": [
      "\n"
     ]
    },
    {
     "data": {
      "application/vnd.jupyter.widget-view+json": {
       "model_id": "0661d560b44f4d3483e99aa336267e07",
       "version_major": 2,
       "version_minor": 0
      },
      "text/plain": [
       "HBox(children=(HTML(value=''), FloatProgress(value=0.0, max=20.0), HTML(value='')))"
      ]
     },
     "metadata": {},
     "output_type": "display_data"
    },
    {
     "name": "stdout",
     "output_type": "stream",
     "text": [
      "\n"
     ]
    },
    {
     "data": {
      "application/vnd.jupyter.widget-view+json": {
       "model_id": "bd62842d8d044c09ae90e4532acfe5d7",
       "version_major": 2,
       "version_minor": 0
      },
      "text/plain": [
       "HBox(children=(HTML(value=''), FloatProgress(value=0.0, max=20.0), HTML(value='')))"
      ]
     },
     "metadata": {},
     "output_type": "display_data"
    },
    {
     "name": "stdout",
     "output_type": "stream",
     "text": [
      "\n"
     ]
    },
    {
     "data": {
      "application/vnd.jupyter.widget-view+json": {
       "model_id": "2a80597dad934c81a26f9c90205d0449",
       "version_major": 2,
       "version_minor": 0
      },
      "text/plain": [
       "HBox(children=(HTML(value=''), FloatProgress(value=0.0, max=20.0), HTML(value='')))"
      ]
     },
     "metadata": {},
     "output_type": "display_data"
    },
    {
     "name": "stdout",
     "output_type": "stream",
     "text": [
      "\n",
      "\n"
     ]
    },
    {
     "data": {
      "application/vnd.jupyter.widget-view+json": {
       "model_id": "9a6c8c409d434cf084006677d612c26f",
       "version_major": 2,
       "version_minor": 0
      },
      "text/plain": [
       "HBox(children=(HTML(value=''), FloatProgress(value=0.0, max=9.0), HTML(value='')))"
      ]
     },
     "metadata": {},
     "output_type": "display_data"
    },
    {
     "data": {
      "application/vnd.jupyter.widget-view+json": {
       "model_id": "c5f695bb572348debd46dc733af16990",
       "version_major": 2,
       "version_minor": 0
      },
      "text/plain": [
       "HBox(children=(HTML(value=''), FloatProgress(value=0.0, max=20.0), HTML(value='')))"
      ]
     },
     "metadata": {},
     "output_type": "display_data"
    },
    {
     "name": "stdout",
     "output_type": "stream",
     "text": [
      "\n"
     ]
    },
    {
     "data": {
      "application/vnd.jupyter.widget-view+json": {
       "model_id": "9ed83b2426c441edb8542129e7659094",
       "version_major": 2,
       "version_minor": 0
      },
      "text/plain": [
       "HBox(children=(HTML(value=''), FloatProgress(value=0.0, max=20.0), HTML(value='')))"
      ]
     },
     "metadata": {},
     "output_type": "display_data"
    },
    {
     "name": "stdout",
     "output_type": "stream",
     "text": [
      "\n"
     ]
    },
    {
     "data": {
      "application/vnd.jupyter.widget-view+json": {
       "model_id": "87bb78aaacd54900991d4622cc02e0b3",
       "version_major": 2,
       "version_minor": 0
      },
      "text/plain": [
       "HBox(children=(HTML(value=''), FloatProgress(value=0.0, max=20.0), HTML(value='')))"
      ]
     },
     "metadata": {},
     "output_type": "display_data"
    },
    {
     "name": "stdout",
     "output_type": "stream",
     "text": [
      "\n"
     ]
    },
    {
     "data": {
      "application/vnd.jupyter.widget-view+json": {
       "model_id": "21f207713732496ea8a219957ae6bcc8",
       "version_major": 2,
       "version_minor": 0
      },
      "text/plain": [
       "HBox(children=(HTML(value=''), FloatProgress(value=0.0, max=20.0), HTML(value='')))"
      ]
     },
     "metadata": {},
     "output_type": "display_data"
    },
    {
     "name": "stdout",
     "output_type": "stream",
     "text": [
      "\n"
     ]
    },
    {
     "data": {
      "application/vnd.jupyter.widget-view+json": {
       "model_id": "cf721d08c58c4f79b34f6d3fff5cc0fd",
       "version_major": 2,
       "version_minor": 0
      },
      "text/plain": [
       "HBox(children=(HTML(value=''), FloatProgress(value=0.0, max=20.0), HTML(value='')))"
      ]
     },
     "metadata": {},
     "output_type": "display_data"
    },
    {
     "name": "stdout",
     "output_type": "stream",
     "text": [
      "\n"
     ]
    },
    {
     "data": {
      "application/vnd.jupyter.widget-view+json": {
       "model_id": "ce2701f3bea146eebc850a4402e59253",
       "version_major": 2,
       "version_minor": 0
      },
      "text/plain": [
       "HBox(children=(HTML(value=''), FloatProgress(value=0.0, max=20.0), HTML(value='')))"
      ]
     },
     "metadata": {},
     "output_type": "display_data"
    },
    {
     "name": "stdout",
     "output_type": "stream",
     "text": [
      "\n"
     ]
    },
    {
     "data": {
      "application/vnd.jupyter.widget-view+json": {
       "model_id": "81047c780ff042dcb3099091db952b30",
       "version_major": 2,
       "version_minor": 0
      },
      "text/plain": [
       "HBox(children=(HTML(value=''), FloatProgress(value=0.0, max=20.0), HTML(value='')))"
      ]
     },
     "metadata": {},
     "output_type": "display_data"
    },
    {
     "name": "stdout",
     "output_type": "stream",
     "text": [
      "\n"
     ]
    },
    {
     "data": {
      "application/vnd.jupyter.widget-view+json": {
       "model_id": "6f859b9d9df24b7ea10f1a15b7aeae23",
       "version_major": 2,
       "version_minor": 0
      },
      "text/plain": [
       "HBox(children=(HTML(value=''), FloatProgress(value=0.0, max=20.0), HTML(value='')))"
      ]
     },
     "metadata": {},
     "output_type": "display_data"
    },
    {
     "name": "stdout",
     "output_type": "stream",
     "text": [
      "\n",
      "\n"
     ]
    },
    {
     "data": {
      "application/vnd.jupyter.widget-view+json": {
       "model_id": "fd2ba951997a4de88865d995657014a3",
       "version_major": 2,
       "version_minor": 0
      },
      "text/plain": [
       "HBox(children=(HTML(value=''), FloatProgress(value=0.0, max=9.0), HTML(value='')))"
      ]
     },
     "metadata": {},
     "output_type": "display_data"
    },
    {
     "data": {
      "application/vnd.jupyter.widget-view+json": {
       "model_id": "95a0d0c5c1d44c00a7127df4990dbe53",
       "version_major": 2,
       "version_minor": 0
      },
      "text/plain": [
       "HBox(children=(HTML(value=''), FloatProgress(value=0.0, max=20.0), HTML(value='')))"
      ]
     },
     "metadata": {},
     "output_type": "display_data"
    },
    {
     "name": "stdout",
     "output_type": "stream",
     "text": [
      "\n"
     ]
    },
    {
     "data": {
      "application/vnd.jupyter.widget-view+json": {
       "model_id": "bf4215277c424dd9b7720be2c93916ef",
       "version_major": 2,
       "version_minor": 0
      },
      "text/plain": [
       "HBox(children=(HTML(value=''), FloatProgress(value=0.0, max=20.0), HTML(value='')))"
      ]
     },
     "metadata": {},
     "output_type": "display_data"
    },
    {
     "name": "stdout",
     "output_type": "stream",
     "text": [
      "\n"
     ]
    },
    {
     "data": {
      "application/vnd.jupyter.widget-view+json": {
       "model_id": "c8943a8c13e74007bf97172b82901bfe",
       "version_major": 2,
       "version_minor": 0
      },
      "text/plain": [
       "HBox(children=(HTML(value=''), FloatProgress(value=0.0, max=20.0), HTML(value='')))"
      ]
     },
     "metadata": {},
     "output_type": "display_data"
    },
    {
     "name": "stdout",
     "output_type": "stream",
     "text": [
      "\n"
     ]
    },
    {
     "data": {
      "application/vnd.jupyter.widget-view+json": {
       "model_id": "40962b3f605c471b978df3a625b392e7",
       "version_major": 2,
       "version_minor": 0
      },
      "text/plain": [
       "HBox(children=(HTML(value=''), FloatProgress(value=0.0, max=20.0), HTML(value='')))"
      ]
     },
     "metadata": {},
     "output_type": "display_data"
    },
    {
     "name": "stdout",
     "output_type": "stream",
     "text": [
      "\n"
     ]
    },
    {
     "data": {
      "application/vnd.jupyter.widget-view+json": {
       "model_id": "68bc81818c8b4031ae7072c04da881fd",
       "version_major": 2,
       "version_minor": 0
      },
      "text/plain": [
       "HBox(children=(HTML(value=''), FloatProgress(value=0.0, max=20.0), HTML(value='')))"
      ]
     },
     "metadata": {},
     "output_type": "display_data"
    },
    {
     "name": "stdout",
     "output_type": "stream",
     "text": [
      "\n"
     ]
    },
    {
     "data": {
      "application/vnd.jupyter.widget-view+json": {
       "model_id": "b46dc544aefa4e42800e3173b755cf5e",
       "version_major": 2,
       "version_minor": 0
      },
      "text/plain": [
       "HBox(children=(HTML(value=''), FloatProgress(value=0.0, max=20.0), HTML(value='')))"
      ]
     },
     "metadata": {},
     "output_type": "display_data"
    },
    {
     "name": "stdout",
     "output_type": "stream",
     "text": [
      "\n"
     ]
    },
    {
     "data": {
      "application/vnd.jupyter.widget-view+json": {
       "model_id": "f3c13cd99a5a4446a99951fdee4db4b2",
       "version_major": 2,
       "version_minor": 0
      },
      "text/plain": [
       "HBox(children=(HTML(value=''), FloatProgress(value=0.0, max=20.0), HTML(value='')))"
      ]
     },
     "metadata": {},
     "output_type": "display_data"
    },
    {
     "name": "stdout",
     "output_type": "stream",
     "text": [
      "\n"
     ]
    },
    {
     "data": {
      "application/vnd.jupyter.widget-view+json": {
       "model_id": "bc291d00109246f3b739dab4aa6bf5b8",
       "version_major": 2,
       "version_minor": 0
      },
      "text/plain": [
       "HBox(children=(HTML(value=''), FloatProgress(value=0.0, max=20.0), HTML(value='')))"
      ]
     },
     "metadata": {},
     "output_type": "display_data"
    },
    {
     "name": "stdout",
     "output_type": "stream",
     "text": [
      "\n",
      "\n"
     ]
    },
    {
     "data": {
      "application/vnd.jupyter.widget-view+json": {
       "model_id": "06abd3a05c364400b4e7293c652f16f9",
       "version_major": 2,
       "version_minor": 0
      },
      "text/plain": [
       "HBox(children=(HTML(value=''), FloatProgress(value=0.0, max=9.0), HTML(value='')))"
      ]
     },
     "metadata": {},
     "output_type": "display_data"
    },
    {
     "data": {
      "application/vnd.jupyter.widget-view+json": {
       "model_id": "66b66bdb92884351b32dd3c62441d941",
       "version_major": 2,
       "version_minor": 0
      },
      "text/plain": [
       "HBox(children=(HTML(value=''), FloatProgress(value=0.0, max=20.0), HTML(value='')))"
      ]
     },
     "metadata": {},
     "output_type": "display_data"
    },
    {
     "name": "stdout",
     "output_type": "stream",
     "text": [
      "\n"
     ]
    },
    {
     "data": {
      "application/vnd.jupyter.widget-view+json": {
       "model_id": "1605a50cb0764fea94069679c25c36ee",
       "version_major": 2,
       "version_minor": 0
      },
      "text/plain": [
       "HBox(children=(HTML(value=''), FloatProgress(value=0.0, max=20.0), HTML(value='')))"
      ]
     },
     "metadata": {},
     "output_type": "display_data"
    },
    {
     "name": "stdout",
     "output_type": "stream",
     "text": [
      "\n"
     ]
    },
    {
     "data": {
      "application/vnd.jupyter.widget-view+json": {
       "model_id": "0f1452b288894702938f21de6ae3e16b",
       "version_major": 2,
       "version_minor": 0
      },
      "text/plain": [
       "HBox(children=(HTML(value=''), FloatProgress(value=0.0, max=20.0), HTML(value='')))"
      ]
     },
     "metadata": {},
     "output_type": "display_data"
    },
    {
     "name": "stdout",
     "output_type": "stream",
     "text": [
      "\n"
     ]
    },
    {
     "data": {
      "application/vnd.jupyter.widget-view+json": {
       "model_id": "4cbdd6f5304242d1b92b08a74d2405fd",
       "version_major": 2,
       "version_minor": 0
      },
      "text/plain": [
       "HBox(children=(HTML(value=''), FloatProgress(value=0.0, max=20.0), HTML(value='')))"
      ]
     },
     "metadata": {},
     "output_type": "display_data"
    },
    {
     "name": "stdout",
     "output_type": "stream",
     "text": [
      "\n"
     ]
    },
    {
     "data": {
      "application/vnd.jupyter.widget-view+json": {
       "model_id": "5e4475baac704cb78336ba1e5245f89e",
       "version_major": 2,
       "version_minor": 0
      },
      "text/plain": [
       "HBox(children=(HTML(value=''), FloatProgress(value=0.0, max=20.0), HTML(value='')))"
      ]
     },
     "metadata": {},
     "output_type": "display_data"
    },
    {
     "name": "stdout",
     "output_type": "stream",
     "text": [
      "\n"
     ]
    },
    {
     "data": {
      "application/vnd.jupyter.widget-view+json": {
       "model_id": "9b1fc03ded434388a2952951bed65311",
       "version_major": 2,
       "version_minor": 0
      },
      "text/plain": [
       "HBox(children=(HTML(value=''), FloatProgress(value=0.0, max=20.0), HTML(value='')))"
      ]
     },
     "metadata": {},
     "output_type": "display_data"
    },
    {
     "name": "stdout",
     "output_type": "stream",
     "text": [
      "\n"
     ]
    },
    {
     "data": {
      "application/vnd.jupyter.widget-view+json": {
       "model_id": "7b914d5072f1493299e44c2e47dc7c55",
       "version_major": 2,
       "version_minor": 0
      },
      "text/plain": [
       "HBox(children=(HTML(value=''), FloatProgress(value=0.0, max=20.0), HTML(value='')))"
      ]
     },
     "metadata": {},
     "output_type": "display_data"
    },
    {
     "name": "stdout",
     "output_type": "stream",
     "text": [
      "\n"
     ]
    },
    {
     "data": {
      "application/vnd.jupyter.widget-view+json": {
       "model_id": "bb997e02e50047cfb41c0b0f3a8b406f",
       "version_major": 2,
       "version_minor": 0
      },
      "text/plain": [
       "HBox(children=(HTML(value=''), FloatProgress(value=0.0, max=20.0), HTML(value='')))"
      ]
     },
     "metadata": {},
     "output_type": "display_data"
    },
    {
     "name": "stdout",
     "output_type": "stream",
     "text": [
      "\n",
      "\n"
     ]
    },
    {
     "data": {
      "application/vnd.jupyter.widget-view+json": {
       "model_id": "00e9b8eab14b498786c055e81054b1a9",
       "version_major": 2,
       "version_minor": 0
      },
      "text/plain": [
       "HBox(children=(HTML(value=''), FloatProgress(value=0.0, max=9.0), HTML(value='')))"
      ]
     },
     "metadata": {},
     "output_type": "display_data"
    },
    {
     "data": {
      "application/vnd.jupyter.widget-view+json": {
       "model_id": "f6af9432c3a94e4b831ccd2a019ae52d",
       "version_major": 2,
       "version_minor": 0
      },
      "text/plain": [
       "HBox(children=(HTML(value=''), FloatProgress(value=0.0, max=20.0), HTML(value='')))"
      ]
     },
     "metadata": {},
     "output_type": "display_data"
    },
    {
     "name": "stdout",
     "output_type": "stream",
     "text": [
      "\n"
     ]
    },
    {
     "data": {
      "application/vnd.jupyter.widget-view+json": {
       "model_id": "88bf17b3bd0f49269d981555375b1300",
       "version_major": 2,
       "version_minor": 0
      },
      "text/plain": [
       "HBox(children=(HTML(value=''), FloatProgress(value=0.0, max=20.0), HTML(value='')))"
      ]
     },
     "metadata": {},
     "output_type": "display_data"
    },
    {
     "name": "stdout",
     "output_type": "stream",
     "text": [
      "\n"
     ]
    },
    {
     "data": {
      "application/vnd.jupyter.widget-view+json": {
       "model_id": "fcd9d1edc400413bb8539217cefe951a",
       "version_major": 2,
       "version_minor": 0
      },
      "text/plain": [
       "HBox(children=(HTML(value=''), FloatProgress(value=0.0, max=20.0), HTML(value='')))"
      ]
     },
     "metadata": {},
     "output_type": "display_data"
    },
    {
     "name": "stdout",
     "output_type": "stream",
     "text": [
      "\n"
     ]
    },
    {
     "data": {
      "application/vnd.jupyter.widget-view+json": {
       "model_id": "d41c4ba0912e47fcabb134bddfed37f7",
       "version_major": 2,
       "version_minor": 0
      },
      "text/plain": [
       "HBox(children=(HTML(value=''), FloatProgress(value=0.0, max=20.0), HTML(value='')))"
      ]
     },
     "metadata": {},
     "output_type": "display_data"
    },
    {
     "name": "stdout",
     "output_type": "stream",
     "text": [
      "\n"
     ]
    },
    {
     "data": {
      "application/vnd.jupyter.widget-view+json": {
       "model_id": "03b43d1aeea54aeb92e0c1b7d4801cfc",
       "version_major": 2,
       "version_minor": 0
      },
      "text/plain": [
       "HBox(children=(HTML(value=''), FloatProgress(value=0.0, max=20.0), HTML(value='')))"
      ]
     },
     "metadata": {},
     "output_type": "display_data"
    },
    {
     "name": "stdout",
     "output_type": "stream",
     "text": [
      "\n"
     ]
    },
    {
     "data": {
      "application/vnd.jupyter.widget-view+json": {
       "model_id": "52de9114b1c149c4ae7b8b3d142ede13",
       "version_major": 2,
       "version_minor": 0
      },
      "text/plain": [
       "HBox(children=(HTML(value=''), FloatProgress(value=0.0, max=20.0), HTML(value='')))"
      ]
     },
     "metadata": {},
     "output_type": "display_data"
    },
    {
     "name": "stdout",
     "output_type": "stream",
     "text": [
      "\n"
     ]
    },
    {
     "data": {
      "application/vnd.jupyter.widget-view+json": {
       "model_id": "0f6a36fe46c84e7d80a9bedcd021a767",
       "version_major": 2,
       "version_minor": 0
      },
      "text/plain": [
       "HBox(children=(HTML(value=''), FloatProgress(value=0.0, max=20.0), HTML(value='')))"
      ]
     },
     "metadata": {},
     "output_type": "display_data"
    },
    {
     "name": "stdout",
     "output_type": "stream",
     "text": [
      "\n"
     ]
    },
    {
     "data": {
      "application/vnd.jupyter.widget-view+json": {
       "model_id": "15becbf758834c2394aa3be65e2778c5",
       "version_major": 2,
       "version_minor": 0
      },
      "text/plain": [
       "HBox(children=(HTML(value=''), FloatProgress(value=0.0, max=20.0), HTML(value='')))"
      ]
     },
     "metadata": {},
     "output_type": "display_data"
    },
    {
     "name": "stdout",
     "output_type": "stream",
     "text": [
      "\n",
      "\n",
      "\n"
     ]
    },
    {
     "data": {
      "application/vnd.jupyter.widget-view+json": {
       "model_id": "c30d392218f8438784853101a6b64994",
       "version_major": 2,
       "version_minor": 0
      },
      "text/plain": [
       "HBox(children=(HTML(value=''), FloatProgress(value=0.0, max=9.0), HTML(value='')))"
      ]
     },
     "metadata": {},
     "output_type": "display_data"
    },
    {
     "data": {
      "application/vnd.jupyter.widget-view+json": {
       "model_id": "b2ddf6f482bc450fafd1ce81ac587aa1",
       "version_major": 2,
       "version_minor": 0
      },
      "text/plain": [
       "HBox(children=(HTML(value=''), FloatProgress(value=0.0, max=9.0), HTML(value='')))"
      ]
     },
     "metadata": {},
     "output_type": "display_data"
    },
    {
     "data": {
      "application/vnd.jupyter.widget-view+json": {
       "model_id": "27df0ac19f5143238ab9f21208054e06",
       "version_major": 2,
       "version_minor": 0
      },
      "text/plain": [
       "HBox(children=(HTML(value=''), FloatProgress(value=0.0, max=20.0), HTML(value='')))"
      ]
     },
     "metadata": {},
     "output_type": "display_data"
    },
    {
     "name": "stdout",
     "output_type": "stream",
     "text": [
      "\n"
     ]
    },
    {
     "data": {
      "application/vnd.jupyter.widget-view+json": {
       "model_id": "c281e6b8e848492dbd38848d5089d328",
       "version_major": 2,
       "version_minor": 0
      },
      "text/plain": [
       "HBox(children=(HTML(value=''), FloatProgress(value=0.0, max=20.0), HTML(value='')))"
      ]
     },
     "metadata": {},
     "output_type": "display_data"
    },
    {
     "name": "stdout",
     "output_type": "stream",
     "text": [
      "\n"
     ]
    },
    {
     "data": {
      "application/vnd.jupyter.widget-view+json": {
       "model_id": "aea11045e05a4e528699c799577ee86e",
       "version_major": 2,
       "version_minor": 0
      },
      "text/plain": [
       "HBox(children=(HTML(value=''), FloatProgress(value=0.0, max=20.0), HTML(value='')))"
      ]
     },
     "metadata": {},
     "output_type": "display_data"
    },
    {
     "name": "stdout",
     "output_type": "stream",
     "text": [
      "\n"
     ]
    },
    {
     "data": {
      "application/vnd.jupyter.widget-view+json": {
       "model_id": "002e000005264672b0d01b900ad8dabd",
       "version_major": 2,
       "version_minor": 0
      },
      "text/plain": [
       "HBox(children=(HTML(value=''), FloatProgress(value=0.0, max=20.0), HTML(value='')))"
      ]
     },
     "metadata": {},
     "output_type": "display_data"
    },
    {
     "name": "stdout",
     "output_type": "stream",
     "text": [
      "\n"
     ]
    },
    {
     "data": {
      "application/vnd.jupyter.widget-view+json": {
       "model_id": "305fdbdb8b6a44a9b3de2933d4ca5abd",
       "version_major": 2,
       "version_minor": 0
      },
      "text/plain": [
       "HBox(children=(HTML(value=''), FloatProgress(value=0.0, max=20.0), HTML(value='')))"
      ]
     },
     "metadata": {},
     "output_type": "display_data"
    },
    {
     "name": "stdout",
     "output_type": "stream",
     "text": [
      "\n"
     ]
    },
    {
     "data": {
      "application/vnd.jupyter.widget-view+json": {
       "model_id": "e66812ca6dea41d0926d1a138e16ee6c",
       "version_major": 2,
       "version_minor": 0
      },
      "text/plain": [
       "HBox(children=(HTML(value=''), FloatProgress(value=0.0, max=20.0), HTML(value='')))"
      ]
     },
     "metadata": {},
     "output_type": "display_data"
    },
    {
     "name": "stdout",
     "output_type": "stream",
     "text": [
      "\n"
     ]
    },
    {
     "data": {
      "application/vnd.jupyter.widget-view+json": {
       "model_id": "c6c08af5550a4b78bb179d1eddd77af6",
       "version_major": 2,
       "version_minor": 0
      },
      "text/plain": [
       "HBox(children=(HTML(value=''), FloatProgress(value=0.0, max=20.0), HTML(value='')))"
      ]
     },
     "metadata": {},
     "output_type": "display_data"
    },
    {
     "name": "stdout",
     "output_type": "stream",
     "text": [
      "\n",
      "\n",
      "\n",
      "\n"
     ]
    },
    {
     "ename": "KeyboardInterrupt",
     "evalue": "",
     "output_type": "error",
     "traceback": [
      "\u001b[1;31m---------------------------------------------------------------------------\u001b[0m",
      "\u001b[1;31mKeyboardInterrupt\u001b[0m                         Traceback (most recent call last)",
      "\u001b[1;32m<ipython-input-9-742f7e2bd5b8>\u001b[0m in \u001b[0;36m<module>\u001b[1;34m\u001b[0m\n\u001b[0;32m     25\u001b[0m                     \u001b[0mgrid\u001b[0m \u001b[1;33m=\u001b[0m \u001b[0minitialize_grid\u001b[0m\u001b[1;33m(\u001b[0m\u001b[1;33m)\u001b[0m\u001b[1;33m\u001b[0m\u001b[1;33m\u001b[0m\u001b[0m\n\u001b[0;32m     26\u001b[0m                     \u001b[1;32mfor\u001b[0m \u001b[0m_\u001b[0m \u001b[1;32min\u001b[0m \u001b[0mrange\u001b[0m\u001b[1;33m(\u001b[0m\u001b[0mITERATIONS\u001b[0m\u001b[1;33m)\u001b[0m\u001b[1;33m:\u001b[0m\u001b[1;33m\u001b[0m\u001b[1;33m\u001b[0m\u001b[0m\n\u001b[1;32m---> 27\u001b[1;33m                         \u001b[0mgrid\u001b[0m \u001b[1;33m=\u001b[0m \u001b[0mdo_step\u001b[0m\u001b[1;33m(\u001b[0m\u001b[0mgrid\u001b[0m\u001b[1;33m)\u001b[0m\u001b[1;33m\u001b[0m\u001b[1;33m\u001b[0m\u001b[0m\n\u001b[0m\u001b[0;32m     28\u001b[0m                     \u001b[0mgrid\u001b[0m \u001b[1;33m=\u001b[0m \u001b[0madd_border\u001b[0m\u001b[1;33m(\u001b[0m\u001b[0mgrid\u001b[0m\u001b[1;33m)\u001b[0m\u001b[1;33m\u001b[0m\u001b[1;33m\u001b[0m\u001b[0m\n\u001b[0;32m     29\u001b[0m                     \u001b[0mprint\u001b[0m\u001b[1;33m(\u001b[0m\u001b[1;34mf\"SEED -{seed}-\\n STARVATION IF BELOW: {STARVATION}, BIRTH AT {BIRTH}, {ITERATIONS} ITERATIONS\"\u001b[0m\u001b[1;33m,\u001b[0m \u001b[0mfile\u001b[0m\u001b[1;33m=\u001b[0m\u001b[0mf\u001b[0m\u001b[1;33m)\u001b[0m\u001b[1;33m\u001b[0m\u001b[1;33m\u001b[0m\u001b[0m\n",
      "\u001b[1;32m<ipython-input-7-4ad6d8b20269>\u001b[0m in \u001b[0;36mdo_step\u001b[1;34m(board)\u001b[0m\n\u001b[0;32m     17\u001b[0m             \u001b[0mold_element\u001b[0m \u001b[1;33m=\u001b[0m \u001b[0mboard\u001b[0m\u001b[1;33m[\u001b[0m\u001b[0my\u001b[0m\u001b[1;33m]\u001b[0m\u001b[1;33m[\u001b[0m\u001b[0mx\u001b[0m\u001b[1;33m]\u001b[0m\u001b[1;33m\u001b[0m\u001b[1;33m\u001b[0m\u001b[0m\n\u001b[0;32m     18\u001b[0m             \u001b[0malive_neighbors_1\u001b[0m \u001b[1;33m=\u001b[0m \u001b[0mcount_alive_neighbors\u001b[0m\u001b[1;33m(\u001b[0m\u001b[0mboard\u001b[0m\u001b[1;33m,\u001b[0m \u001b[0mx\u001b[0m\u001b[1;33m,\u001b[0m \u001b[0my\u001b[0m\u001b[1;33m,\u001b[0m \u001b[1;36m1\u001b[0m\u001b[1;33m)\u001b[0m\u001b[1;33m\u001b[0m\u001b[1;33m\u001b[0m\u001b[0m\n\u001b[1;32m---> 19\u001b[1;33m             \u001b[0malive_neighbors_2\u001b[0m \u001b[1;33m=\u001b[0m \u001b[0mcount_alive_neighbors\u001b[0m\u001b[1;33m(\u001b[0m\u001b[0mboard\u001b[0m\u001b[1;33m,\u001b[0m \u001b[0mx\u001b[0m\u001b[1;33m,\u001b[0m \u001b[0my\u001b[0m\u001b[1;33m,\u001b[0m \u001b[1;36m2\u001b[0m\u001b[1;33m)\u001b[0m\u001b[1;33m\u001b[0m\u001b[1;33m\u001b[0m\u001b[0m\n\u001b[0m\u001b[0;32m     20\u001b[0m             \u001b[0mnew_board\u001b[0m\u001b[1;33m[\u001b[0m\u001b[0my\u001b[0m\u001b[1;33m]\u001b[0m\u001b[1;33m[\u001b[0m\u001b[0mx\u001b[0m\u001b[1;33m]\u001b[0m \u001b[1;33m=\u001b[0m \u001b[0mcalculate_new_state\u001b[0m\u001b[1;33m(\u001b[0m\u001b[0mold_element\u001b[0m\u001b[1;33m,\u001b[0m \u001b[0malive_neighbors_1\u001b[0m\u001b[1;33m,\u001b[0m \u001b[0malive_neighbors_2\u001b[0m\u001b[1;33m)\u001b[0m\u001b[1;33m\u001b[0m\u001b[1;33m\u001b[0m\u001b[0m\n\u001b[0;32m     21\u001b[0m     \u001b[1;32mreturn\u001b[0m \u001b[0mnew_board\u001b[0m\u001b[1;33m\u001b[0m\u001b[1;33m\u001b[0m\u001b[0m\n",
      "\u001b[1;32m<ipython-input-6-18feee1532fd>\u001b[0m in \u001b[0;36mcount_alive_neighbors\u001b[1;34m(board, x, y, n)\u001b[0m\n\u001b[0;32m      8\u001b[0m     \u001b[0mboard_height\u001b[0m \u001b[1;33m=\u001b[0m \u001b[0mlen\u001b[0m\u001b[1;33m(\u001b[0m\u001b[0mboard\u001b[0m\u001b[1;33m)\u001b[0m\u001b[1;33m\u001b[0m\u001b[1;33m\u001b[0m\u001b[0m\n\u001b[0;32m      9\u001b[0m     \u001b[0mboard_slice\u001b[0m \u001b[1;33m=\u001b[0m \u001b[1;33m[\u001b[0m\u001b[0mrow\u001b[0m\u001b[1;33m[\u001b[0m\u001b[0mmax\u001b[0m\u001b[1;33m(\u001b[0m\u001b[0mx\u001b[0m\u001b[1;33m-\u001b[0m\u001b[0mn\u001b[0m\u001b[1;33m,\u001b[0m \u001b[1;36m0\u001b[0m\u001b[1;33m)\u001b[0m\u001b[1;33m:\u001b[0m\u001b[0mmin\u001b[0m\u001b[1;33m(\u001b[0m\u001b[0mx\u001b[0m\u001b[1;33m+\u001b[0m\u001b[0mn\u001b[0m\u001b[1;33m+\u001b[0m\u001b[1;36m1\u001b[0m\u001b[1;33m,\u001b[0m \u001b[0mboard_width\u001b[0m\u001b[1;33m)\u001b[0m\u001b[1;33m]\u001b[0m \u001b[1;32mfor\u001b[0m \u001b[0mrow\u001b[0m \u001b[1;32min\u001b[0m \u001b[0mboard\u001b[0m\u001b[1;33m[\u001b[0m\u001b[0mmax\u001b[0m\u001b[1;33m(\u001b[0m\u001b[1;36m0\u001b[0m\u001b[1;33m,\u001b[0m \u001b[0my\u001b[0m\u001b[1;33m-\u001b[0m\u001b[0mn\u001b[0m\u001b[1;33m)\u001b[0m\u001b[1;33m:\u001b[0m\u001b[0mmin\u001b[0m\u001b[1;33m(\u001b[0m\u001b[0my\u001b[0m\u001b[1;33m+\u001b[0m\u001b[0mn\u001b[0m\u001b[1;33m+\u001b[0m\u001b[1;36m1\u001b[0m\u001b[1;33m,\u001b[0m \u001b[0mboard_height\u001b[0m\u001b[1;33m)\u001b[0m\u001b[1;33m]\u001b[0m\u001b[1;33m]\u001b[0m\u001b[1;33m\u001b[0m\u001b[1;33m\u001b[0m\u001b[0m\n\u001b[1;32m---> 10\u001b[1;33m     \u001b[1;32mreturn\u001b[0m \u001b[0msum\u001b[0m\u001b[1;33m(\u001b[0m\u001b[0mboard_slice\u001b[0m\u001b[1;33m)\u001b[0m \u001b[1;33m-\u001b[0m \u001b[0mvalue\u001b[0m\u001b[1;33m\u001b[0m\u001b[1;33m\u001b[0m\u001b[0m\n\u001b[0m",
      "\u001b[1;32m<__array_function__ internals>\u001b[0m in \u001b[0;36msum\u001b[1;34m(*args, **kwargs)\u001b[0m\n",
      "\u001b[1;32mc:\\users\\dawid\\appdata\\local\\programs\\python\\python38\\lib\\site-packages\\numpy\\core\\fromnumeric.py\u001b[0m in \u001b[0;36msum\u001b[1;34m(a, axis, dtype, out, keepdims, initial, where)\u001b[0m\n\u001b[0;32m   2239\u001b[0m         \u001b[1;32mreturn\u001b[0m \u001b[0mres\u001b[0m\u001b[1;33m\u001b[0m\u001b[1;33m\u001b[0m\u001b[0m\n\u001b[0;32m   2240\u001b[0m \u001b[1;33m\u001b[0m\u001b[0m\n\u001b[1;32m-> 2241\u001b[1;33m     return _wrapreduction(a, np.add, 'sum', axis, dtype, out, keepdims=keepdims,\n\u001b[0m\u001b[0;32m   2242\u001b[0m                           initial=initial, where=where)\n\u001b[0;32m   2243\u001b[0m \u001b[1;33m\u001b[0m\u001b[0m\n",
      "\u001b[1;32mc:\\users\\dawid\\appdata\\local\\programs\\python\\python38\\lib\\site-packages\\numpy\\core\\fromnumeric.py\u001b[0m in \u001b[0;36m_wrapreduction\u001b[1;34m(obj, ufunc, method, axis, dtype, out, **kwargs)\u001b[0m\n\u001b[0;32m     85\u001b[0m                 \u001b[1;32mreturn\u001b[0m \u001b[0mreduction\u001b[0m\u001b[1;33m(\u001b[0m\u001b[0maxis\u001b[0m\u001b[1;33m=\u001b[0m\u001b[0maxis\u001b[0m\u001b[1;33m,\u001b[0m \u001b[0mout\u001b[0m\u001b[1;33m=\u001b[0m\u001b[0mout\u001b[0m\u001b[1;33m,\u001b[0m \u001b[1;33m**\u001b[0m\u001b[0mpasskwargs\u001b[0m\u001b[1;33m)\u001b[0m\u001b[1;33m\u001b[0m\u001b[1;33m\u001b[0m\u001b[0m\n\u001b[0;32m     86\u001b[0m \u001b[1;33m\u001b[0m\u001b[0m\n\u001b[1;32m---> 87\u001b[1;33m     \u001b[1;32mreturn\u001b[0m \u001b[0mufunc\u001b[0m\u001b[1;33m.\u001b[0m\u001b[0mreduce\u001b[0m\u001b[1;33m(\u001b[0m\u001b[0mobj\u001b[0m\u001b[1;33m,\u001b[0m \u001b[0maxis\u001b[0m\u001b[1;33m,\u001b[0m \u001b[0mdtype\u001b[0m\u001b[1;33m,\u001b[0m \u001b[0mout\u001b[0m\u001b[1;33m,\u001b[0m \u001b[1;33m**\u001b[0m\u001b[0mpasskwargs\u001b[0m\u001b[1;33m)\u001b[0m\u001b[1;33m\u001b[0m\u001b[1;33m\u001b[0m\u001b[0m\n\u001b[0m\u001b[0;32m     88\u001b[0m \u001b[1;33m\u001b[0m\u001b[0m\n\u001b[0;32m     89\u001b[0m \u001b[1;33m\u001b[0m\u001b[0m\n",
      "\u001b[1;31mKeyboardInterrupt\u001b[0m: "
     ]
    }
   ],
   "source": [
    "import statistics\n",
    "\n",
    "MAP_WIDTH = 40\n",
    "MAP_HEIGHT = 40\n",
    "\n",
    "POSSIBILITIES = list(range(9))\n",
    "\n",
    "random.seed(123)\n",
    "SEEDS = [random.randrange(1_000_000) for _ in range(20)]\n",
    "\n",
    "settings_cvgs = {}\n",
    "\n",
    "with open(\"grids_settings_testing.txt\", \"w\", encoding='utf8') as f:\n",
    "    for death in tqdm(POSSIBILITIES):\n",
    "        for birth in tqdm(POSSIBILITIES):\n",
    "            for iterations in tqdm(POSSIBILITIES):\n",
    "                if iterations < 1:\n",
    "                    continue\n",
    "                cvgs = []\n",
    "                STARVATION = death\n",
    "                BIRTH = birth\n",
    "                ITERATIONS = iterations\n",
    "                for seed in tqdm(SEEDS):                    \n",
    "                    random.seed(seed)\n",
    "                    grid = initialize_grid()\n",
    "                    for _ in range(ITERATIONS):\n",
    "                        grid = do_step(grid)\n",
    "                    grid = add_border(grid)\n",
    "                    print(f\"SEED -{seed}-\\n STARVATION IF BELOW: {STARVATION}, BIRTH AT {BIRTH}, {ITERATIONS} ITERATIONS\", file=f)\n",
    "                    cvgs.append(get_coverage(grid))\n",
    "                    print_map(grid, f)\n",
    "                info = {\n",
    "                    \"mean\" : statistics.mean(cvgs),\n",
    "                    \"median\" : statistics.median(cvgs),\n",
    "                    \"quantiles\" : statistics.quantiles(cvgs),\n",
    "                    \"stdev\" : statistics.stdev(cvgs),\n",
    "                    \"variance\" : statistics.variance(cvgs)\n",
    "                }\n",
    "                settings_cvgs[f\"{STARVATION}-{BIRTH}-{ITERATIONS}\"] = info"
   ]
  },
  {
   "cell_type": "code",
   "execution_count": null,
   "id": "b1568b8a",
   "metadata": {},
   "outputs": [],
   "source": [
    "import pandas as pd\n",
    "df = pd.DataFrame.from_dict(settings_cvgs).T\n",
    "df.to_excel(\"coverages.xlsx\")"
   ]
  },
  {
   "cell_type": "code",
   "execution_count": 10,
   "id": "9acfd7bb",
   "metadata": {},
   "outputs": [],
   "source": [
    "STARVATION = 4\n",
    "BIRTH = 1\n",
    "ITERATIONS = 3\n",
    "\n",
    "with open(f\"grids_{STARVATION}_{BIRTH}_{ITERATIONS}_testing.txt\", \"w\", encoding='utf8') as f:\n",
    "    for sd in list(range(50)):\n",
    "        random.seed(sd)\n",
    "        grid = initialize_grid()\n",
    "        for _ in range(ITERATIONS):\n",
    "            grid = do_step(grid)\n",
    "        print(f\"SEED {sd}\", file=f)\n",
    "        print_map(grid, f)"
   ]
  },
  {
   "cell_type": "code",
   "execution_count": 11,
   "id": "40b2cbf2",
   "metadata": {},
   "outputs": [],
   "source": [
    "import json\n",
    "with open(\"mockgrid.json\", \"w\") as j:\n",
    "    json.dump(grid.tolist(), j)"
   ]
  },
  {
   "cell_type": "code",
   "execution_count": 88,
   "id": "e23aade5",
   "metadata": {
    "scrolled": false
   },
   "outputs": [
    {
     "name": "stdout",
     "output_type": "stream",
     "text": [
      "\n",
      "▨▢▢▢▢▨▢▢▢▨▨▢▢▢▢▢▨▢▢▢▨▢▢▢▢▢▢▢▢▢▨▨▨▨▨▨▨▨▨▢▢▢▢▢▢▢▨▨▨▨▢▢▢▢▢▢▢▨▨▨▨▨▨▨▨▨▨▨▢▢▢▢▢▢▢▢▨▨▨▢\n",
      "▨▢▢▢▢▨▢▢▨▨▨▨▢▢▢▢▨▢▢▨▨▨▢▢▢▢▢▢▢▨▨▨▨▨▨▨▨▨▨▨▢▢▢▢▢▨▨▨▨▨▨▢▢▢▢▢▨▨▨▨▨▨▨▨▨▨▨▨▨▢▢▢▢▢▢▨▨▨▨▨\n",
      "▨▢▢▢▢▢▢▢▢▨▨▢▢▢▢▢▢▢▢▨▨▢▢▢▢▢▢▢▢▢▨▨▨▨▨▨▨▨▨▨▢▢▢▢▢▨▨▨▨▨▨▢▢▢▢▢▨▨▨▨▨▢▢▢▢▢▨▨▨▢▢▢▢▢▢▢▨▨▨▨\n",
      "▢▢▢▢▢▢▢▢▢▢▢▢▢▢▢▨▢▢▢▨▨▢▢▢▨▨▢▢▢▢▢▢▢▢▨▨▨▨▨▢▢▢▨▢▢▨▨▨▨▨▢▢▢▨▢▢▨▨▨▨▢▢▢▢▢▢▢▨▨▢▢▢▢▢▢▢▨▨▨▨\n",
      "▢▢▢▢▢▢▢▨▢▢▢▢▢▢▨▨▢▢▢▨▢▢▢▢▢▢▢▢▢▢▢▢▢▢▢▨▨▢▢▢▢▢▢▢▢▨▨▢▢▢▢▢▢▢▢▢▨▨▨▨▢▢▢▢▢▢▢▨▨▢▢▢▢▢▢▢▢▨▨▨\n",
      "▢▢▢▨▢▢▨▨▨▢▢▨▨▨▨▨▢▢▢▢▢▢▢▢▢▢▢▢▢▢▢▢▢▢▢▢▢▢▢▢▢▢▢▢▨▨▢▢▢▢▢▢▢▢▢▢▨▨▨▨▢▢▢▢▢▢▢▨▨▢▢▢▢▢▢▢▢▢▨▨\n",
      "▢▢▢▨▢▢▨▨▨▢▢▢▢▢▢▢▢▢▢▢▢▢▢▢▢▢▢▨▢▢▢▢▢▢▢▢▢▢▢▢▨▢▢▢▢▢▢▢▨▨▢▢▢▨▨▨▨▨▨▨▢▢▢▢▢▢▢▨▨▢▢▨▨▨▢▢▢▢▨▨\n",
      "▢▢▢▨▢▢▢▨▨▢▢▢▢▢▢▢▢▢▨▨▨▢▨▨▨▨▨▨▢▢▢▢▢▢▨▢▢▢▢▢▨▢▢▢▢▢▢▢▨▨▢▢▨▨▨▨▨▨▨▨▢▢▢▢▢▢▢▨▨▢▢▨▨▨▨▨▢▢▨▨\n",
      "▢▢▢▨▢▢▢▨▨▨▨▨▨▨▨▢▢▢▢▢▨▨▨▨▨▢▢▢▢▢▢▢▢▢▨▢▢▢▢▢▨▢▢▢▢▢▢▢▢▨▢▢▢▨▨▨▨▨▨▨▨▢▢▢▢▢▨▨▨▢▢▨▨▢▢▢▢▢▨▨\n",
      "▢▢▢▢▢▢▢▢▨▨▨▨▨▨▨▨▢▢▢▢▨▨▨▨▨▢▢▢▢▢▢▢▢▢▨▢▢▢▢▢▢▢▨▢▢▢▢▢▢▢▢▢▢▨▨▨▨▨▨▨▨▨▨▨▨▨▨▨▨▢▢▢▢▢▢▢▢▢▨▨\n",
      "▢▢▢▢▢▢▢▨▢▨▨▨▨▨▨▨▨▢▢▢▨▨▨▨▨▢▢▢▢▢▨▨▨▨▨▢▢▢▢▢▢▢▢▢▢▢▨▢▢▢▨▢▢▨▨▨▨▨▨▨▨▨▨▨▨▨▨▨▨▢▢▢▢▢▢▨▨▨▨▨\n",
      "▢▢▢▢▢▢▢▢▢▢▢▢▨▨▨▨▨▨▢▢▢▢▢▢▨▢▢▢▢▢▨▢▨▨▨▨▨▨▢▢▢▢▢▢▢▨▨▨▢▢▢▢▢▨▨▨▨▨▨▨▨▨▨▨▨▨▨▨▨▨▨▨▨▨▨▨▨▨▨▢\n",
      "▢▨▨▨▨▨▢▢▢▢▢▢▢▢▨▨▨▨▢▢▢▢▢▢▢▢▢▢▢▢▨▨▨▨▨▨▨▨▢▢▢▢▢▢▨▨▨▨▢▢▢▢▢▢▨▨▨▨▨▨▨▨▨▨▨▨▨▨▨▨▨▨▨▨▢▢▢▢▢▢\n",
      "▨▨▨▨▨▢▢▢▢▢▢▢▢▢▨▨▨▨▨▨▨▢▢▢▢▢▢▢▢▢▢▢▢▢▨▨▨▨▢▢▢▢▢▨▨▨▨▨▨▢▢▢▢▢▢▨▨▨▨▨▨▨▨▨▨▨▨▢▢▢▢▨▨▢▢▢▢▢▢▢\n",
      "▨▨▨▨▢▢▢▨▨▨▨▨▢▢▨▨▨▨▨▨▨▨▢▢▢▢▢▢▢▢▢▢▢▢▨▨▨▨▨▢▢▢▢▢▨▨▨▨▨▢▢▢▢▢▢▨▨▨▨▨▨▨▨▨▨▨▢▢▢▢▢▢▢▢▢▨▨▨▨▨\n",
      "▨▨▨▨▢▢▢▢▢▢▢▢▢▢▨▨▨▨▨▨▨▢▢▢▢▢▢▢▢▢▢▢▢▢▨▨▨▨▨▨▨▢▢▢▢▢▢▢▢▢▢▢▢▢▢▨▨▨▨▨▨▨▨▨▨▨▢▢▢▢▢▢▢▢▢▨▨▨▨▨\n",
      "▨▨▨▢▢▢▢▢▢▢▢▢▢▢▨▨▨▨▨▨▨▢▢▢▨▢▢▢▢▢▢▢▢▢▨▨▨▨▨▨▨▢▢▢▢▢▢▢▢▢▢▢▢▢▢▨▨▨▨▨▨▨▨▨▨▨▢▢▢▢▢▢▢▢▨▨▨▨▨▨\n",
      "▨▨▨▢▢▢▢▢▢▨▨▨▢▢▢▨▨▨▨▨▢▢▢▨▨▢▢▢▢▢▢▢▢▢▢▢▨▨▨▨▨▢▢▢▢▢▢▢▢▢▨▨▨▨▨▨▨▨▨▨▨▨▨▨▨▨▨▢▢▢▢▢▢▢▢▨▨▨▨▨\n",
      "▨▨▨▢▢▢▢▢▨▨▨▨▨▢▢▢▢▢▢▢▢▢▢▢▢▢▢▢▢▢▢▢▢▢▢▢▢▢▢▢▢▢▢▢▢▢▢▢▢▨▨▨▨▨▨▨▨▨▨▨▢▢▢▢▨▨▨▨▨▨▨▨▢▢▢▢▢▨▨▨\n",
      "▨▨▨▢▢▢▢▨▨▨▨▨▨▢▢▢▢▢▢▢▢▢▢▢▢▢▢▢▢▢▢▢▨▢▢▢▢▢▢▢▢▢▢▨▨▢▢▢▢▨▨▨▨▨▢▢▢▢▢▢▢▢▢▢▢▢▨▨▨▨▨▨▨▢▢▢▢▢▢▢\n",
      "▨▨▨▨▨▨▨▨▨▨▨▨▨▢▢▨▨▢▢▢▢▢▢▨▨▢▢▢▢▢▢▢▨▢▢▢▢▨▢▢▢▢▨▨▨▢▢▢▢▨▨▨▨▢▢▢▢▢▢▢▢▢▢▢▢▢▢▨▨▨▨▨▨▨▢▢▢▢▢▢\n",
      "▨▨▨▨▨▨▨▨▨▨▨▨▢▢▢▨▨▢▢▢▢▢▨▨▨▨▢▢▨▢▢▢▢▢▢▢▨▨▢▢▢▢▨▨▢▢▢▢▨▨▨▨▨▢▢▢▢▢▢▢▢▢▢▢▢▢▢▢▨▨▨▨▨▨▢▢▢▢▢▢\n",
      "▢▨▨▨▨▨▨▨▨▨▨▨▢▢▢▢▢▢▢▢▢▢▨▨▨▢▢▢▨▢▢▢▢▢▢▢▨▨▢▢▢▢▢▢▢▢▢▢▨▨▨▨▨▢▢▢▢▢▢▢▢▨▢▢▢▢▢▢▨▨▨▨▨▢▢▢▢▢▢▢\n",
      "▢▢▢▢▨▨▨▨▨▨▨▨▢▢▢▢▢▢▢▢▢▢▢▨▢▢▢▢▢▢▢▢▢▢▢▨▨▢▢▢▢▢▨▢▢▢▢▨▨▨▨▨▨▢▢▢▢▢▢▢▢▨▢▢▨▢▢▢▨▨▨▨▨▢▢▢▢▢▢▢\n",
      "▢▢▢▢▨▨▨▨▨▨▨▨▢▨▨▨▢▢▢▢▢▢▢▢▢▢▢▢▢▢▢▢▨▨▨▨▢▢▢▢▢▨▨▢▢▢▢▨▨▨▨▨▨▢▢▢▢▢▢▢▢▨▢▢▢▢▢▢▢▨▨▨▨▢▢▨▨▢▢▢\n",
      "▢▢▢▢▨▨▨▨▨▨▨▨▨▨▨▨▨▢▢▢▨▢▢▢▢▢▢▢▢▨▨▨▨▨▨▢▢▢▢▢▢▢▢▢▢▢▢▨▨▨▨▨▨▢▢▢▢▢▢▢▢▢▢▢▢▢▢▢▢▢▨▨▢▢▢▨▨▢▢▢\n",
      "▢▨▨▨▨▨▨▨▨▢▢▨▨▨▨▨▨▨▢▢▨▨▨▨▨▨▢▢▨▨▨▨▨▨▨▢▢▢▢▢▢▢▢▢▢▢▢▢▨▨▨▨▢▨▨▢▢▢▢▢▢▢▢▢▢▢▢▢▢▢▢▢▢▢▢▨▨▢▢▢\n",
      "▨▨▨▨▨▨▨▢▢▢▢▨▨▨▨▨▨▢▢▢▢▢▢▨▨▨▢▢▢▨▨▨▨▨▢▢▢▢▢▨▨▢▢▢▨▢▢▢▢▨▨▨▨▨▨▨▢▢▢▢▢▢▢▨▨▨▨▨▢▢▢▢▢▢▢▢▢▢▢▢\n",
      "▨▨▨▨▨▨▢▢▢▢▢▨▨▨▢▢▢▢▢▢▢▢▢▢▨▨▢▢▢▨▨▨▢▢▢▢▢▢▢▨▢▢▢▢▨▢▢▢▢▨▨▨▨▨▨▨▢▢▢▢▢▢▢▨▨▨▨▨▢▢▢▢▢▢▢▢▢▢▢▢\n",
      "▨▨▨▨▨▢▢▢▢▢▢▨▨▨▢▢▢▢▢▢▨▢▢▢▢▨▢▢▢▨▨▢▢▢▢▢▢▢▢▢▢▢▢▢▢▢▢▢▢▢▨▨▨▨▨▨▢▢▢▢▢▢▢▨▨▨▨▨▢▢▢▢▢▢▢▢▢▢▢▢\n",
      "▨▨▨▨▢▢▢▢▢▢▢▨▨▢▢▢▨▢▢▨▨▨▢▢▢▨▢▢▢▨▨▢▢▢▨▨▢▢▢▢▢▢▢▢▢▢▢▢▢▢▨▨▨▨▨▨▢▢▢▢▢▢▢▢▢▢▨▨▢▢▢▢▢▢▢▢▢▢▨▨\n",
      "▨▨▨▨▢▢▢▢▢▢▢▢▨▢▢▢▢▢▢▨▨▨▨▢▢▨▢▢▢▨▨▢▢▢▢▨▨▨▢▢▢▢▢▢▢▨▢▢▢▢▢▢▨▨▨▢▢▢▨▨▢▢▢▢▢▢▢▢▢▢▢▢▢▢▢▢▢▨▨▨\n",
      "▢▨▨▢▢▢▢▢▢▢▢▢▢▢▢▢▢▢▢▨▨▨▨▢▢▢▢▢▨▨▨▢▢▢▢▨▢▢▢▢▢▢▢▢▢▨▨▨▢▢▢▢▢▨▢▢▢▨▨▨▢▢▢▨▢▢▢▢▢▨▨▨▢▢▢▢▨▨▨▨\n",
      "▢▢▢▢▢▢▢▢▢▢▢▢▢▢▢▨▢▢▨▨▨▨▨▨▢▢▢▢▨▨▨▨▢▢▢▨▢▢▢▨▨▢▢▢▢▢▨▢▢▢▢▢▢▢▢▢▢▨▨▨▢▢▨▨▨▨▨▨▨▨▨▨▨▨▨▨▨▨▨▨\n",
      "▢▢▢▢▢▢▢▢▢▢▢▢▢▢▢▨▢▢▨▨▨▨▨▨▨▨▨▨▨▨▨▨▢▢▢▨▢▢▢▨▨▨▢▢▢▢▢▢▢▢▨▢▢▢▢▢▢▢▨▨▢▢▢▨▨▨▨▨▨▨▨▨▨▨▨▨▨▨▨▨\n",
      "▨▨▨▨▢▢▢▨▨▨▢▢▢▢▨▨▢▢▢▨▨▨▨▨▨▨▨▨▨▨▨▨▨▢▢▨▢▢▨▨▨▨▨▢▢▢▢▢▢▢▨▢▢▢▢▢▢▢▨▨▢▢▢▨▨▨▨▨▨▨▨▨▨▨▨▨▨▨▨▨\n",
      "▨▨▨▨▢▢▨▨▨▨▨▢▢▢▢▢▢▢▢▢▢▢▨▨▨▨▨▨▨▨▨▨▨▢▢▢▢▢▢▨▨▨▨▨▢▢▢▨▨▨▨▨▢▢▢▢▢▢▢▢▢▢▢▢▨▨▨▨▨▨▨▨▨▨▨▨▨▨▨▨\n",
      "▨▨▨▨▢▢▢▨▨▨▨▨▢▢▢▢▢▢▢▢▢▢▨▨▨▨▨▨▨▨▨▨▨▢▢▢▢▢▢▢▢▢▢▨▢▢▢▨▨▨▨▨▨▨▢▢▢▢▢▢▢▢▢▢▢▢▢▨▨▨▨▨▨▨▨▨▨▨▨▨\n",
      "▢▢▢▨▢▢▢▢▨▨▨▨▨▨▨▢▢▢▨▨▢▢▨▨▨▨▨▨▨▨▨▨▨▨▨▢▢▢▢▢▢▢▢▢▢▢▢▨▨▨▨▨▨▨▢▢▢▢▢▢▢▢▢▢▢▢▢▢▢▨▨▨▨▨▨▨▨▨▨▨\n",
      "▢▢▢▢▢▢▢▢▢▢▢▢▨▨▨▨▢▢▨▨▢▢▨▨▨▨▨▨▨▨▨▨▨▨▨▨▨▢▢▢▨▨▢▢▢▢▢▨▨▨▨▨▨▨▨▨▨▢▢▢▢▢▢▢▢▢▢▢▢▢▨▨▨▨▨▨▨▨▨▨\n",
      "▢▢▢▢▢▢▢▢▢▢▢▢▨▨▨▨▢▢▨▨▢▢▢▨▢▢▢▢▢▢▢▢▢▢▨▨▨▨▢▢▨▨▢▢▢▢▢▨▨▨▨▨▨▨▨▨▢▢▢▢▢▢▢▢▢▢▢▢▢▢▢▨▨▨▨▨▨▨▨▨\n",
      "▨▨▢▢▢▢▢▢▢▢▢▢▨▨▨▨▢▢▨▨▢▢▢▢▢▢▢▢▢▢▢▢▢▢▨▨▨▨▢▢▢▨▢▢▢▢▢▨▢▢▢▢▨▨▨▨▨▢▢▢▢▢▨▢▢▢▢▢▢▢▢▢▢▨▨▨▨▨▨▢\n",
      "▨▨▨▨▨▨▨▨▢▢▢▢▨▨▨▨▢▢▢▢▢▢▢▢▢▢▨▨▨▨▨▨▢▢▢▨▨▨▢▢▢▨▢▢▢▢▢▨▢▢▢▢▢▢▢▢▢▢▢▢▢▢▢▢▢▢▢▢▢▢▢▢▢▨▨▢▢▢▢▢\n",
      "▨▨▨▨▨▨▨▨▢▢▢▢▨▨▨▨▨▢▢▢▢▢▢▨▨▨▨▨▨▨▢▢▢▢▢▨▨▨▨▢▢▨▢▢▢▢▢▨▢▢▢▢▢▢▢▢▢▢▢▢▢▢▢▢▢▢▢▢▢▢▢▢▢▢▢▢▢▢▢▢\n",
      "▨▨▨▨▨▨▨▨▨▨▨▨▨▨▨▨▨▨▨▨▢▢▢▨▨▨▨▨▢▢▢▢▢▢▨▨▨▨▨▢▢▨▢▢▢▢▢▨▢▢▢▢▢▢▨▢▢▢▢▢▢▢▢▢▢▢▢▢▢▢▢▢▢▢▢▢▢▨▨▨\n",
      "▢▨▨▨▨▨▨▨▨▨▨▨▨▨▨▨▨▨▨▨▨▢▢▨▨▨▨▢▢▢▢▢▨▨▨▨▢▨▨▢▢▢▢▢▢▢▢▨▢▢▢▢▢▨▨▢▢▢▢▢▢▢▢▢▢▢▢▢▢▢▨▢▢▢▢▢▢▢▨▨\n",
      "▢▢▢▢▢▢▢▨▨▨▨▨▨▨▨▨▨▨▨▨▢▢▢▨▨▨▨▢▢▢▨▨▨▨▨▨▨▨▨▢▢▢▨▨▨▨▨▨▨▨▨▢▢▢▨▢▢▢▢▢▢▢▢▢▢▢▢▢▨▨▨▨▢▢▨▢▨▨▨▨\n",
      "▢▢▢▢▢▢▢▢▨▨▨▨▨▨▨▨▨▢▢▢▢▢▢▨▨▨▢▢▢▢▨▨▨▨▨▨▨▨▨▨▢▢▨▨▨▨▨▨▨▨▨▢▢▢▢▢▢▢▨▢▢▢▢▢▢▢▢▨▨▨▨▨▢▢▨▨▨▢▢▢\n",
      "▢▢▢▢▢▢▢▢▢▨▨▨▨▨▨▨▨▢▢▢▢▢▨▨▨▨▢▢▢▢▢▨▨▨▨▨▨▨▨▨▢▢▨▨▢▢▢▢▨▨▨▢▢▢▢▢▢▨▨▢▢▢▢▢▢▢▨▨▨▨▨▨▢▢▢▨▨▢▢▢\n",
      "▢▢▢▢▢▢▢▢▢▨▨▨▨▨▨▨▨▢▢▨▨▨▨▨▨▨▢▢▢▢▢▨▨▨▨▨▨▨▨▢▢▢▨▢▢▢▢▢▢▢▢▢▢▢▢▢▢▢▢▢▢▢▢▨▨▨▨▨▨▨▨▨▢▢▢▢▢▢▢▢\n",
      "▢▨▢▢▢▢▢▢▢▢▢▢▨▨▨▨▨▢▢▨▨▨▨▢▢▢▢▢▢▢▢▢▨▨▨▨▨▨▨▢▢▢▨▢▢▢▢▢▢▢▢▢▨▨▢▢▢▢▢▢▢▢▨▨▨▨▨▨▨▨▨▨▨▢▢▢▢▢▢▢\n",
      "▨▨▢▢▢▢▢▢▢▢▢▢▢▨▨▨▨▢▢▢▨▨▢▢▢▢▢▢▢▢▢▢▨▨▨▨▨▨▢▢▢▢▢▢▢▢▨▨▢▢▢▢▨▨▨▢▢▢▢▢▢▢▨▨▨▨▨▨▨▨▨▨▨▨▨▢▢▢▢▢\n",
      "▨▨▨▢▢▢▢▢▢▢▢▢▢▨▨▨▨▢▢▢▨▢▢▢▢▢▢▢▢▢▢▢▨▨▨▨▨▢▢▢▢▢▢▢▢▢▨▨▨▢▢▢▢▢▨▨▨▨▨▨▨▨▢▢▢▨▨▨▨▨▨▨▨▨▨▨▢▢▢▢\n",
      "▨▨▨▢▢▨▢▨▨▨▢▢▢▨▨▨▨▨▢▢▨▢▢▢▨▨▢▢▢▢▢▢▨▨▨▨▢▢▢▢▢▢▢▢▢▢▢▢▢▢▢▢▢▢▢▨▨▨▨▨▨▨▢▢▢▢▨▨▨▨▨▨▨▨▨▨▨▨▨▢\n",
      "▢▨▢▢▢▨▨▨▨▨▢▢▨▨▨▨▨▢▢▢▢▢▢▢▨▨▢▢▢▢▢▨▨▨▨▢▢▢▢▢▢▢▢▢▢▢▢▢▢▢▨▨▢▢▢▢▨▨▨▨▨▢▢▢▢▢▢▢▢▢▢▢▨▨▨▨▨▨▨▨\n",
      "▢▢▢▢▢▨▨▨▨▨▢▢▨▨▨▨▨▢▢▢▢▢▢▢▢▢▢▢▢▢▨▨▨▨▨▢▢▢▢▢▢▢▢▢▢▢▢▢▢▢▨▨▨▨▢▢▢▨▨▨▢▢▢▢▢▢▢▢▢▢▢▢▢▨▨▨▨▨▨▨\n",
      "▢▢▢▢▨▨▨▨▨▨▢▢▨▨▨▨▨▢▢▢▨▨▨▢▢▢▢▢▢▢▨▨▨▨▨▢▢▢▢▢▢▢▢▢▢▢▢▢▢▢▨▨▨▨▨▢▢▢▨▢▢▢▢▢▨▨▢▢▢▢▢▢▢▢▨▨▨▨▨▨\n",
      "▨▨▨▨▨▨▨▨▨▢▢▢▨▨▨▨▢▢▢▢▨▨▨▢▢▢▨▢▢▨▨▨▨▨▨▢▢▢▢▢▢▨▨▨▨▢▢▢▢▢▢▢▢▢▢▢▢▢▢▢▢▢▢▢▨▨▢▢▢▢▢▢▢▢▢▢▢▨▨▨\n",
      "▢▢▢▨▨▨▢▢▢▢▢▢▨▨▨▨▢▢▢▢▢▨▨▢▢▢▢▢▢▨▨▨▨▨▨▢▢▢▢▢▢▨▨▨▨▨▨▨▢▢▢▢▢▢▢▢▢▢▨▢▢▢▢▢▨▨▢▢▢▢▢▢▢▢▢▢▢▢▨▨\n",
      "▢▢▢▨▨▨▢▢▢▢▢▢▨▨▨▨▢▢▢▢▢▢▢▢▢▢▢▢▢▨▨▨▨▨▨▨▢▢▢▢▢▢▢▨▨▨▨▨▢▢▢▢▢▢▨▢▢▨▨▢▢▢▢▢▨▨▢▢▢▢▢▢▨▨▨▨▢▢▨▨\n",
      "▢▢▢▨▨▨▢▢▢▢▢▢▢▨▨▨▢▢▨▢▢▢▢▢▨▢▢▢▨▨▨▨▨▨▨▨▢▢▢▢▢▢▢▨▨▨▨▨▢▢▢▨▨▨▨▢▢▨▨▨▢▢▢▢▢▨▢▢▢▢▢▢▢▨▨▨▢▢▢▢\n",
      "▢▢▢▢▢▢▢▢▢▢▢▢▢▢▨▢▢▢▨▨▨▨▨▨▨▢▢▨▨▨▨▢▢▢▢▢▢▢▢▢▢▢▢▢▢▢▢▢▢▢▢▢▢▢▢▢▢▢▨▨▨▢▢▢▢▨▢▢▢▢▢▢▢▨▨▨▢▢▢▢\n",
      "▢▨▢▢▢▢▢▢▨▨▢▢▢▢▢▢▢▢▨▨▨▨▨▨▨▢▢▨▨▨▨▢▢▢▢▢▢▢▢▢▢▢▢▢▢▢▢▢▢▢▢▢▢▢▢▢▢▢▢▨▨▨▢▢▢▨▢▢▢▢▢▢▢▨▨▢▢▢▨▢\n",
      "▨▨▨▨▨▢▢▢▨▨▨▨▢▢▢▢▢▢▨▨▨▨▢▢▢▢▢▨▨▨▨▢▢▨▨▨▨▨▢▢▢▢▢▢▢▢▢▢▢▢▢▢▢▢▢▢▢▢▢▨▨▨▨▢▢▨▢▢▢▨▢▢▢▨▨▢▢▢▨▨\n",
      "▢▨▨▨▨▨▢▢▨▨▢▢▢▢▢▢▢▢▨▨▨▢▢▢▢▢▨▨▨▨▨▢▢▨▨▨▨▨▨▢▢▢▢▢▨▨▨▢▢▢▢▢▢▢▢▢▢▢▢▢▨▨▢▢▢▢▢▢▨▨▢▢▢▨▨▢▢▢▨▨\n",
      "▢▢▢▢▢▢▢▢▢▢▢▢▢▢▨▢▢▢▢▨▨▢▢▢▨▨▨▨▨▨▨▢▢▨▨▨▨▨▨▢▢▢▨▨▨▨▨▨▢▢▢▢▢▢▢▢▢▢▢▢▢▢▢▢▢▢▢▢▨▨▢▢▨▨▨▢▢▢▨▢\n",
      "▢▢▢▢▢▢▢▢▢▢▢▢▨▨▨▨▢▢▢▢▢▢▢▨▨▨▨▨▨▨▨▢▢▨▨▨▨▨▢▢▢▨▨▨▨▨▨▨▢▢▢▢▢▢▢▢▢▢▢▢▢▢▢▢▨▨▨▨▨▨▢▢▨▨▨▨▢▢▢▢\n",
      "▨▨▨▢▢▢▢▨▨▨▨▨▨▨▨▨▨▢▢▢▢▢▢▢▨▨▨▨▨▨▨▢▢▨▨▨▢▢▢▢▢▢▨▨▨▨▨▨▢▢▨▨▨▨▨▨▨▢▢▢▢▢▢▨▨▨▨▨▨▨▢▢▨▨▨▨▢▢▢▢\n",
      "▨▨▨▨▢▢▢▨▨▨▨▨▨▨▨▨▨▨▨▨▢▢▢▢▢▢▢▨▨▨▨▢▢▨▨▨▢▢▢▢▢▢▢▨▨▨▨▨▢▢▨▨▨▨▨▨▨▢▢▢▢▢▢▨▨▨▨▨▨▨▢▢▨▨▨▢▢▢▨▨\n",
      "▨▨▨▨▢▢▢▢▢▢▢▢▢▨▨▨▨▨▨▨▨▢▢▢▢▢▢▢▨▨▨▢▢▨▨▨▢▢▢▢▢▢▢▨▨▨▨▨▢▢▢▢▢▢▨▨▢▢▢▢▢▢▢▨▨▨▨▨▨▨▢▢▨▨▨▢▢▢▨▨\n",
      "▢▢▢▨▢▢▢▢▢▢▢▢▢▢▨▨▨▨▨▨▨▢▢▢▢▢▢▢▢▨▢▢▢▨▨▨▢▢▢▢▢▢▢▨▨▨▨▢▢▢▢▢▢▢▢▢▢▢▢▨▨▨▨▨▨▨▨▨▨▨▢▢▨▨▨▢▢▨▨▨\n",
      "▢▢▢▨▨▨▨▨▢▢▢▢▢▢▨▨▨▨▨▨▨▢▢▢▢▢▢▢▢▢▢▢▢▨▨▨▨▢▢▢▢▢▢▨▨▢▢▢▢▢▢▨▢▢▢▢▢▢▨▨▨▨▨▨▨▨▨▨▨▨▢▢▨▨▨▢▢▨▨▨\n",
      "▢▢▢▨▢▨▨▨▢▢▢▢▢▢▨▨▨▨▨▨▢▢▢▢▢▨▨▢▢▢▢▢▢▨▨▨▨▨▨▨▢▢▢▨▨▢▢▢▢▢▢▨▢▢▢▢▢▢▨▨▨▨▨▨▨▨▨▨▨▢▢▢▨▨▨▢▢▨▨▨\n",
      "▢▢▢▨▨▢▢▨▢▢▢▢▢▢▨▨▨▨▢▢▢▢▢▢▢▢▢▢▢▢▢▢▢▨▨▨▨▨▨▨▢▢▢▨▨▢▢▨▢▢▢▢▢▢▢▢▢▢▢▨▨▨▨▨▨▨▨▨▨▢▢▢▨▨▢▢▢▨▨▨\n",
      "▢▢▢▢▢▢▢▢▢▢▢▢▢▢▨▨▨▢▢▢▢▢▨▢▢▢▢▢▢▢▢▢▢▢▢▢▨▨▨▢▢▢▨▨▨▢▢▢▢▢▢▢▢▢▢▢▢▢▢▨▨▨▨▨▨▨▨▨▢▢▢▨▨▢▢▢▢▨▨▨\n",
      "▢▢▢▢▢▢▢▢▢▢▢▢▢▢▢▨▨▢▢▨▨▨▨▢▢▢▢▢▢▢▢▢▢▢▢▢▢▨▨▨▢▢▨▨▨▢▢▢▢▢▢▨▨▨▨▨▨▢▢▨▨▨▨▨▨▨▢▢▢▢▢▨▨▢▢▢▨▨▨▨\n",
      "▢▨▢▢▢▢▨▢▢▢▨▢▢▢▢▨▨▢▢▢▢▨▨▢▢▢▢▢▢▨▨▨▨▨▢▢▢▨▢▢▢▢▨▨▨▨▢▢▢▢▢▢▨▨▨▨▢▢▢▨▨▨▨▨▨▢▢▢▢▢▨▨▨▢▢▨▨▨▨▨\n",
      "▨▨▨▢▢▨▨▨▢▢▨▢▢▢▢▨▢▢▢▢▢▢▨▢▢▢▨▨▨▨▨▨▨▨▨▢▢▨▢▢▢▢▨▨▨▨▨▢▨▢▢▢▢▢▢▢▢▢▢▨▨▨▨▨▨▢▢▨▨▢▢▢▢▢▢▨▨▨▨▨\n",
      "▨▨▨▨▨▨▨▨▢▢▨▢▢▢▨▢▨▢▢▢▢▢▨▢▢▢▨▨▨▨▨▨▨▨▨▢▢▨▢▢▢▨▨▨▨▨▨▨▨▨▢▢▢▢▢▢▢▢▨▨▨▨▨▨▨▢▢▨▨▢▢▢▢▢▨▨▨▨▨▢\n",
      "▢▨▨▨▨▨▨▢▢▢▨▢▢▢▢▢▢▢▢▢▢▢▨▢▢▢▢▢▨▨▨▨▨▨▢▢▢▨▢▢▢▨▨▨▨▨▨▨▨▨▢▢▢▢▢▢▢▢▨▨▨▨▨▨▢▢▢▨▨▢▢▢▢▢▢▨▨▨▢▢\n"
     ]
    }
   ],
   "source": [
    "MAP_WIDTH = 80\n",
    "MAP_HEIGHT = 80\n",
    "\n",
    "STARVATION = 4\n",
    "BIRTH = 1\n",
    "ITERATIONS = 3\n",
    "\n",
    "random.seed(1234)\n",
    "\n",
    "grid_for_processing = initialize_grid()\n",
    "for _ in range(ITERATIONS):\n",
    "    grid_for_processing = do_step(grid_for_processing)\n",
    "print_map(grid_for_processing)"
   ]
  },
  {
   "cell_type": "markdown",
   "id": "901046b1",
   "metadata": {},
   "source": [
    "### Looking for a way to add treasure and spawn points\n",
    "- I'll use a flood fill algoritm to find all accessible regions and at the same time find suitable areas for treasure placement:\n",
    "    - places surrounded by walls from all but 1-2 sides make for good treasure hiding spots,\n",
    "    - more open spaces would be good for enemies spawn points"
   ]
  },
  {
   "cell_type": "code",
   "execution_count": 89,
   "id": "aa82f39e",
   "metadata": {
    "scrolled": false
   },
   "outputs": [
    {
     "name": "stdout",
     "output_type": "stream",
     "text": [
      "48\n",
      "27\n",
      "351\n",
      "45\n",
      "0.560625\n",
      "\n",
      "▩▩▩▩▩▩▩▩▩▩▩▩▩▩▩▩▩▩▩▩▩▩▩▩▩▩▩▩▩▩▩▩▩▩▩▩▩▩▩▩▩▩▩▩▩▩▩▩▩▩▩▩▩▩▩▩▩▩▩▩▩▩▩▩▩▩▩▩▩▩▩▩▩▩▩▩▩▩▩▩\n",
      "▩▢▢▢▢▨▢▢▨▨▨▨▢▢▢▢▨▢▢▨▨▨▢▢▢▢▢▢▢▨▨▨▨▨▨▨▨▨▨▨▢▢◎▢▢▨▨▨▨▨▨▢▢◎▢▢▨▨▨▨▨▨▨▨▨▨▨▨▨▨▨▨▨▨▨▨▨▨▨▩\n",
      "▩▢▢▢▢▢▢▢▢▨▨▢▢▢▢▢▢▢▢▨▨▢▢▢▢▢▢▢▢▢▨▨▨▨▨▨▨▨▨▨▢▢▢▢▢▨▨▨▨▨▨▢▢▢▢▢▨▨▨▨▨▨▨▨▨▨▨▨▨▨▨▨▨▨▨▨▨▨▨▩\n",
      "▩▢▢▢▢▢▢▢▢▢▢▢▢▢▢▨▢▢▢▨▨▢▢▢▨▨▢▢▢▢▢▢▢▢▨▨▨▨▨▢▢▢▨▢▢▨▨▨▨▨▢▢▢▨▢▢▨▨▨▨▨▨▨▨▨▨▨▨▨▨▨▨▨▨▨▨▨▨▨▩\n",
      "▩▢▢▢▢▢▢▨▢▢▢▢▢▢▨▨▢▢▢▨▢▢▢▢▢▢▢▢▢▢▢▢▢▢▢▨▨▢▢▢▢▢▢▢▢▨▨▢▢▢▢▢▢▢▢▢▨▨▨▨▨▨▨▨▨▨▨▨▨▨▨▨▨▨▨▨▨▨▨▩\n",
      "▩▢▢▨▢▢▨▨▨▢▢▨▨▨▨▨▢▢▢▢▢▢▢▢▢▢▢▢▢▢▢▢▢▢▢▢▢▢▢▢▢▢▢▢▨▨▢▢▢▢▢▢▢▢▢◈▨▨▨▨▨▨▨▨▨▨▨▨▨▨▨▨▨▨▨▨▨▨▨▩\n",
      "▩▢▢▨▢▢▨▨▨▢▢▢▢▢▢▢▢▢▢▢▢▢▢▢▢▢▢▨▢▢◎▢▢▢▢▢▢▢▢▢▨▢▢▢▢▢▢▢▨▨▢▢▢▨▨▨▨▨▨▨▨▨▨▨▨▨▨▨▨▨▨▨▨▨▨▨▨▨▨▩\n",
      "▩▢▢▨▢▢▢▨▨▢▢▢▢▢▢▢▢▢▨▨▨◈▨▨▨▨▨▨▢▢▢▢▢▢▨▢▢◎▢▢▨▢▢▢▢▢▢▢▨▨▢▢▨▨▨▨▨▨▨▨▨▨▨▨▨▨▨▨▨▨▨▨▨▨▨▨▨▨▨▩\n",
      "▩▢▢▨▢▢▢▨▨▨▨▨▨▨▨▢▢▢▢◈▨▨▨▨▨◈▢▢▢▢▢▢▢▢▨▢▢▢▢▢▨▢▢◎▢◎▢▢▢▨▢▢▢▨▨▨▨▨▨▨▨▨▨▨▨▨▨▨▨▨▨▨▨▨▨▨▨▨▨▩\n",
      "▩▢▢▢▢▢▢▢▨▨▨▨▨▨▨▨▢▢▢▢▨▨▨▨▨▢▢▢▢▢▢▢▢◈▨▢▢▢▢▢▢▢▨▢▢▢▢▢▢▢▢▢▢▨▨▨▨▨▨▨▨▨▨▨▨▨▨▨▨▨▨▨▨▨▨▨▨▨▨▩\n",
      "▩▢▢▢▢▢▢▨▢▨▨▨▨▨▨▨▨▢▢▢▨▨▨▨▨▢▢▢▢▢▨▨▨▨▨◈▢▢▢▢▢▢▢▢▢▢▨▢▢▢▨▢▢▨▨▨▨▨▨▨▨▨▨▨▨▨▨▨▨▨▨▨▨▨▨▨▨▨▨▩\n",
      "▩▢▢▢▢▢▢▢▢▢▢▢▨▨▨▨▨▨▢▢▢▢▢▢▨▢▢▢▢▢▨▨▨▨▨▨▨▨▢▢◎▢▢▢▢▨▨▨▢▢▢▢▢▨▨▨▨▨▨▨▨▨▨▨▨▨▨▨▨▨▨▨▨▨▨▨▨▨▨▩\n",
      "▩▨▨▨▨▨▢▢▢▢▢▢▢▢▨▨▨▨◈▢▢▢▢▢▢▢▢▢▢▢▨▨▨▨▨▨▨▨▢▢▢▢▢▢▨▨▨▨▢▢▢▢▢▢▨▨▨▨▨▨▨▨▨▨▨▨▨▨▨▨▨▨▨▨▢▢▢▢▢▩\n",
      "▩▨▨▨▨▢▢▢▢▢▢▢▢▢▨▨▨▨▨▨▨▢▢▢▢▢▢▢▢▢▢▢▢▢▨▨▨▨▢▢▢▢▢▨▨▨▨▨▨▢▢◎▢▢▢▨▨▨▨▨▨▨▨▨▨▨▨▢▢▢▢▨▨▢▢▢▢▢▢▩\n",
      "▩▨▨▨▢▢▢▨▨▨▨▨▢▢▨▨▨▨▨▨▨▨▢▢▢▢▢▢▢▢▢▢▢▢▨▨▨▨▨▢▢▢▢▢▨▨▨▨▨▢▢▢▢▢▢▨▨▨▨▨▨▨▨▨▨▨▢▢▢▢▢▢▢▢▢▨▨▨▨▩\n",
      "▩▨▨▨▢▢▢▢▢▢▢▢▢▢▨▨▨▨▨▨▨▢▢▢▢▢▢◎▢▢▢▢▢▢▨▨▨▨▨▨▨▢▢▢▢▢▢▢▢▢▢▢▢▢▢▨▨▨▨▨▨▨▨▨▨▨▢▢▢◎▢▢▢▢▢▨▨▨▨▩\n",
      "▩▨▨▢▢▢▢▢▢▢▢▢▢▢▨▨▨▨▨▨▨▢▢▢▨▢▢▢▢▢▢▢▢▢▨▨▨▨▨▨▨▢▢▢▢▢▢▢▢▢▢▢▢▢◈▨▨▨▨▨▨▨▨▨▨▨▢▢▢▢▢▢▢▢▨▨▨▨▨▩\n",
      "▩▨▨▢▢▢▢▢▢▨▨▨▢▢▢▨▨▨▨▨▢▢▢▨▨▢▢▢▢▢▢▢▢▢▢▢▨▨▨▨▨▢▢▢▢▢◎▢▢▢▨▨▨▨▨▨▨▨▨▨▨▨▨▨▨▨▨▢▢▢▢▢▢▢▢▨▨▨▨▩\n",
      "▩▨▨▢▢▢▢▢▨▨▨▨▨▢▢▢▢▢▢▢▢▢▢▢▢▢▢▢▢▢▢▢▢▢▢▢▢▢▢▢▢▢▢▢▢▢▢▢▢▨▨▨▨▨▨▨▨▨▨▨▢▢▢▢▨▨▨▨▨▨▨▨▢▢▢▢▢▨▨▩\n",
      "▩▨▨◈▢▢▢▨▨▨▨▨▨▢▢▢▢▢▢▢▢▢▢▢▢▢▢▢▢▢▢▢▨▢▢▢▢▢▢▢▢▢▢▨▨▢▢▢▢▨▨▨▨▨▢▢▢▢▢▢▢▢▢▢▢▢▨▨▨▨▨▨▨▢▢▢▢▢▢▩\n",
      "▩▨▨▨▨▨▨▨▨▨▨▨▨▢▢▨▨▢▢▢▢▢▢▨▨▢▢▢▢▢▢▢▨▢▢▢▢▨▢▢▢▢▨▨▨▢▢▢▢▨▨▨▨▢▢▢▢▢▢▢▢▢▢▢▢▢▢▨▨▨▨▨▨▨▢▢▢▢▢▩\n",
      "▩▨▨▨▨▨▨▨▨▨▨▨▢▢▢▨▨▢▢◎▢▢▨▨▨▨▢▢▨▢▢▢▢▢▢▢▨▨▢▢▢▢▨▨▢▢▢▢▨▨▨▨▨▢▢▢▢▢▢▢▢▢▢▢▢▢▢▢▨▨▨▨▨▨▢▢▢▢▢▩\n",
      "▩▨▨▨▨▨▨▨▨▨▨▨▢▢▢▢▢▢▢▢▢▢▨▨▨▢▢▢▨▢▢▢▢▢▢▢▨▨▢▢▢▢▢▢▢▢▢▢▨▨▨▨▨▢▢▢▢▢▢▢▢▨▢▢▢▢▢▢▨▨▨▨▨▢▢▢▢▢▢▩\n",
      "▩▨▨▨▨▨▨▨▨▨▨▨▢▢▢▢▢▢▢▢▢▢▢▨▢▢▢▢▢▢▢▢▢▢▢▨▨▢▢▢▢▢▨▢▢▢▢▨▨▨▨▨▨▢▢▢▢▢▢▢▢▨▢▢▨▢▢▢▨▨▨▨▨▢▢▢▢▢◎▩\n",
      "▩▨▨▨▨▨▨▨▨▨▨▨◈▨▨▨▢▢▢▢▢▢▢▢▢▢▢▢▢▢▢▢▨▨▨▨▢▢▢▢▢▨▨▢▢▢▢▨▨▨▨▨▨▢▢▢▢◎▢▢▢▨▢▢▢▢▢▢▢▨▨▨▨▢▢▨▨▢▢▩\n",
      "▩▨▨▨▨▨▨▨▨▨▨▨▨▨▨▨▨▢▢▢▨▢▢▢▢▢▢▢▢▨▨▨▨▨▨▢▢▢▢▢▢▢▢▢▢▢▢▨▨▨▨▨▨▢▢▢▢▢▢▢▢▢▢▢▢▢▢▢▢▢▨▨▢▢▢▨▨▢▢▩\n",
      "▩▨▨▨▨▨▨▨▨▢◈▨▨▨▨▨▨▨▢▢▨▨▨▨▨▨▢▢▨▨▨▨▨▨▨▢▢▢▢▢▢▢▢▢▢▢▢▢▨▨▨▨▨▨▨▢▢▢▢▢▢▢▢▢▢▢▢▢▢▢▢▢▢▢▢▨▨▢▢▩\n",
      "▩▨▨▨▨▨▨▢▢▢▢▨▨▨▨▨▨▢▢▢▢▢▢▨▨▨▢▢▢▨▨▨▨▨▢▢▢▢▢▨▨▢▢▢▨▢▢▢▢▨▨▨▨▨▨▨▢▢▢▢▢▢▢▨▨▨▨▨▢▢▢▢▢▢▢▢▢▢▢▩\n",
      "▩▨▨▨▨▨▢▢▢▢▢▨▨▨▢▢▢▢▢▢▢▢▢▢▨▨▢▢▢▨▨▨▢▢▢▢▢▢▢▨▢▢▢▢▨▢▢▢▢▨▨▨▨▨▨▨▢▢▢▢▢▢▢▨▨▨▨▨▢▢▢▢◎▢▢▢▢▢▢▩\n",
      "▩▨▨▨▨▢▢▢▢▢▢▨▨▨▢▢▢▢▢▢▨▢▢▢▢▨▢▢▢▨▨▢▢▢▢▢▢▢▢▢▢▢▢▢▢▢▢▢▢▢▨▨▨▨▨▨▢▢▢▢▢▢▢▨▨▨▨▨▢▢▢▢▢▢▢▢▢▢▢▩\n",
      "▩▨▨▨▢▢▢▢▢▢▢▨▨▢▢▢▨▢▢▨▨▨▢▢▢▨▢▢▢▨▨▢▢▢▨▨▢▢▢▢▢◎▢▢▢▢▢▢▢▢▨▨▨▨▨▨▢▢▢▢▢▢▢▢▢▢▨▨▢▢▢▢▢▢▢▢▢▢▨▩\n",
      "▩▨▨▨▢▢▢◎▢▢▢▢▨▢▢▢▢▢▢▨▨▨▨▢▢▨▢▢▢▨▨▢▢▢▢▨▨▨▢▢▢▢▢▢▢▨▢▢▢▢▢▢▨▨▨▢▢▢▨▨▢▢▢▢▢▢▢▢▢▢▢▢▢▢▢▢▢▨▨▩\n",
      "▩▨▨▢▢▢▢▢▢▢▢▢▢▢▢▢▢▢▢▨▨▨▨▢▢▢▢▢▨▨▨▢▢▢▢▨◈▢▢▢▢▢▢▢▢▨▨▨▢▢▢▢▢▨▢▢▢▨▨▨▢▢▢▨▢▢▢▢▢▨▨▨▢▢▢▢▨▨▨▩\n",
      "▩▢▢▢▢▢▢▢▢▢▢▢▢▢▢▨▢▢▨▨▨▨▨▨▢▢▢▢▨▨▨▨▢▢▢▨▢▢▢▨▨▢▢▢▢▢▨▢▢▢▢▢▢▢▢▢▢▨▨▨▢▢▨▨▨▨▨▨▨▨▨▨▨▨▨▨▨▨▨▩\n",
      "▩▢▢▢▢▢▢▢▢▢▢▢▢▢▢▨▢▢▨▨▨▨▨▨▨▨▨▨▨▨▨▨▢▢▢▨▢▢▢▨▨▨▢▢▢▢▢▢▢▢▨▢▢▢◎▢▢▢▨▨▢▢▢▨▨▨▨▨▨▨▨▨▨▨▨▨▨▨▨▩\n",
      "▩▨▨▨▢▢▢▨▨▨▢▢▢▢▨▨▢▢▢▨▨▨▨▨▨▨▨▨▨▨▨▨▨▢▢▨▢▢▨▨▨▨▨▢▢▢▢▢▢◈▨▢▢▢▢▢▢▢▨▨▢▢▢▨▨▨▨▨▨▨▨▨▨▨▨▨▨▨▨▩\n",
      "▩▨▨▨▢▢▨▨▨▨▨▢▢▢▢▢▢▢▢▢▢▢▨▨▨▨▨▨▨▨▨▨▨▢▢▢▢▢▢▨▨▨▨▨▢▢▢▨▨▨▨▨▢▢▢▢▢▢▢▢▢▢▢▢▨▨▨▨▨▨▨▨▨▨▨▨▨▨▨▩\n",
      "▩▨▨▨▢▢▢▨▨▨▨▨▢▢▢▢▢▢▢▢▢▢▨▨▨▨▨▨▨▨▨▨▨▢▢▢▢▢▢▢▢▢▢▨▢▢▢▨▨▨▨▨▨▨▢▢▢▢▢▢▢▢▢▢▢▢▢▨▨▨▨▨▨▨▨▨▨▨▨▩\n",
      "▩▢▢▨▢▢▢▢▨▨▨▨▨▨▨▢▢▢▨▨▢▢▨▨▨▨▨▨▨▨▨▨▨▨▨▢▢▢▢▢▢▢▢▢▢▢▢▨▨▨▨▨▨▨◈▢▢▢▢▢▢▢▢▢▢▢▢▢▢▨▨▨▨▨▨▨▨▨▨▩\n",
      "▩▢▢▢▢▢▢▢▢▢▢◈▨▨▨▨▢▢▨▨▢▢▨▨▨▨▨▨▨▨▨▨▨▨▨▨▨▢▢▢▨▨▢▢▢▢▢▨▨▨▨▨▨▨▨▨▨▢▢▢▢▢▢▢▢▢▢▢▢▢▨▨▨▨▨▨▨▨▨▩\n",
      "▩▢▢▢▢▢▢▢▢▢▢▢▨▨▨▨▢▢▨▨▢▢▢▨▢▢▢▢▢▢▢▢▢◈▨▨▨▨▢▢▨▨▢▢▢▢▢▨▨▨▨▨▨▨▨▨▢▢▢▢▢▢▢▢▢▢▢▢▢▢▢▨▨▨▨▨▨▨▨▩\n",
      "▩▨▢▢▢▢▢▢▢▢▢▢▨▨▨▨▢▢▨▨▢▢▢▢▢▢▢▢▢▢▢▢▢▢▨▨▨▨▢▢▢▨▢▢◎▢▢▨◈▢▢▢▨▨▨▨▨▢▢▢▢▢▨▢▢▢▢▢▢▢▢▢◈▨▨▨▨▨▨▩\n",
      "▩▨▨▨▨▨▨▨▢▢▢▢▨▨▨▨▢▢▢▢▢▢▢▢▢▢▨▨▨▨▨▨▢▢▢▨▨▨▢▢▢▨▢▢▢▢▢▨▢▢▢▢▢▢▢▢▢▢▢▢▢▢◎▢▢▢▢▢▢▢▢▢▢▨▨▢▢▢▢▩\n",
      "▩▨▨▨▨▨▨▨▢▢▢◈▨▨▨▨▨▢▢▢▢▢▢▨▨▨▨▨▨▨▢▢▢▢▢▨▨▨▨▢▢▨▢▢▢▢▢▨▢▢◎▢▢▢▢▢▢▢▢▢▢▢▢▢▢▢▢▢▢▢▢▢▢▢▢▢▢▢▢▩\n",
      "▩▨▨▨▨▨▨▨▨▨▨▨▨▨▨▨▨▨▨▨▢▢▢▨▨▨▨▨▢▢▢▢▢▢▨▨▨▨▨▢▢▨▢▢▢▢▢▨▢▢▢▢▢▢▨▢▢▢▢▢▢▢▢▢▢▢▢▢▢▢▢▢▢▢▢▢▢▨▨▩\n",
      "▩▨▨▨▨▨▨▨▨▨▨▨▨▨▨▨▨▨▨▨▨▢▢▨▨▨▨▢▢▢▢▢▨▨▨▨▨▨▨▢▢▢▢▢▢▢▢▨▢▢▢▢▢▨▨▢▢▢▢▢▢▢▢▢▢▢▢▢▢▢▨▢▢▢▢▢▢▢▨▩\n",
      "▩▢▢▢▢▢▢▨▨▨▨▨▨▨▨▨▨▨▨▨▢▢▢▨▨▨▨▢▢▢▨▨▨▨▨▨▨▨▨▢▢▢▨▨▨▨▨▨▨▨▨▢▢▢▨▢▢▢▢▢▢▢▢▢▢▢▢▢▨▨▨▨▢▢▨◈▨▨▨▩\n",
      "▩▢▢▢▢▢▢▢▨▨▨▨▨▨▨▨▨◈▢▢▢▢▢▨▨▨▢▢▢▢▨▨▨▨▨▨▨▨▨▨▢▢▨▨▨▨▨▨▨▨▨▢▢▢▢▢▢▢▨▢▢▢▢▢▢▢▢▨▨▨▨▨▢▢▨▨▨▢▢▩\n",
      "▩▢▢◎▢▢▢▢▢▨▨▨▨▨▨▨▨▢▢▢▢▢▨▨▨▨▢▢▢▢▢▨▨▨▨▨▨▨▨▨▢▢▨▨▢▢▢▢▨▨▨▢▢▢▢▢▢▨▨▢▢▢▢▢▢▢▨▨▨▨▨▨▢▢▢▨▨▢▢▩\n",
      "▩▢▢▢▢▢▢▢▢▨▨▨▨▨▨▨▨▢▢▨▨▨▨▨▨▨▢▢▢▢▢▨▨▨▨▨▨▨▨▢▢▢▨▢▢▢▢▢▢▢▢▢▢▢▢▢▢▢▢▢▢▢▢▨▨▨▨▨▨▨▨▨▢▢▢▢▢▢◎▩\n",
      "▩▨▢▢▢▢▢▢▢▢▢▢▨▨▨▨▨▢▢▨▨▨▨▢▢▢▢▢▢▢▢▢▨▨▨▨▨▨▨▢▢▢▨▢▢▢▢▢▢▢▢▢▨▨▢▢▢▢▢▢▢▢▨▨▨▨▨▨▨▨▨▨▨▢▢▢▢▢▢▩\n",
      "▩▨▢▢▢▢▢▢▢▢▢▢▢▨▨▨▨▢▢▢▨▨▢▢▢▢▢▢◎▢▢▢▨▨▨▨▨▨▢▢▢▢▢▢▢▢▨▨▢▢▢▢▨▨▨▢▢▢▢▢▢▢▨▨▨▨▨▨▨▨▨▨▨▨▨▢▢▢▢▩\n",
      "▩▨▨▢▢▢▢▢▢▢▢▢▢▨▨▨▨▢▢▢▨▢▢▢▢▢▢▢▢▢▢▢▨▨▨▨▨▢▢▢▢▢▢▢▢▢▨▨▨▢▢▢▢▢▨▨▨▨▨▨▨▨▢▢▢▨▨▨▨▨▨▨▨▨▨▨▢▢▢▩\n",
      "▩▨▨▢▢▨◈▨▨▨▢▢▢▨▨▨▨▨▢▢▨▢▢▢▨▨▢▢▢▢▢▢▨▨▨▨▢▢▢▢▢▢▢▢▢▢▢▢▢▢▢▢▢▢▢▨▨▨▨▨▨▨▢▢▢▢▨▨▨▨▨▨▨▨▨▨▨▨▨▩\n",
      "▩▨▢▢▢▨▨▨▨▨▢▢▨▨▨▨▨▢▢▢▢▢▢▢▨▨▢▢▢▢▢▨▨▨▨▢▢▢▢▢▢▢▢▢▢▢▢▢▢▢▨▨▢▢▢▢▨▨▨▨▨▢▢▢▢▢▢▢▢▢▢▢▨▨▨▨▨▨▨▩\n",
      "▩▢▢▢▢▨▨▨▨▨▢▢▨▨▨▨▨▢▢▢▢▢▢▢▢▢▢▢▢▢▨▨▨▨▨▢▢▢▢◎▢▢▢▢▢▢◎▢▢▢▨▨▨▨▢▢▢▨▨▨▢▢▢▢▢▢▢▢▢▢▢▢▢▨▨▨▨▨▨▩\n",
      "▩▢▢▢▨▨▨▨▨▨▢▢▨▨▨▨▨▢▢▢▨▨▨▢▢▢▢▢▢▢▨▨▨▨▨▢▢▢▢▢▢▢▢▢▢▢▢▢▢▢▨▨▨▨▨▢▢▢▨▢▢▢▢▢▨▨▢▢▢▢▢▢▢▢▨▨▨▨▨▩\n",
      "▩▨▨▨▨▨▨▨▨▢▢▢▨▨▨▨▢▢▢▢▨▨▨▢▢◎▨▢▢▨▨▨▨▨▨▢▢▢▢▢▢▨▨▨▨▢▢▢▢▢▢▢▢▢▢▢▢▢▢▢▢◎▢▢▨▨▢▢▢▢▢▢▢▢▢▢▢▨▨▩\n",
      "▩▢▢▨▨▨◈▢▢▢▢▢▨▨▨▨▢▢▢▢▢▨▨▢▢▢▢▢▢▨▨▨▨▨▨▢▢▢▢▢▢▨▨▨▨▨▨▨▢▢▢▢▢▢▢▢▢▢▨▢▢▢▢▢▨▨▢▢◎▢▢▢▢▢▢▢▢▢▨▩\n",
      "▩▢▢▨▨▨▢▢▢▢▢▢▨▨▨▨▢▢▢▢▢▢▢▢▢▢▢▢▢▨▨▨▨▨▨▨▢▢▢▢▢▢▢▨▨▨▨▨▢▢▢▢▢▢▨▢▢▨▨▢▢▢▢▢▨▨▢▢▢▢▢▢▨▨▨▨▢▢▨▩\n",
      "▩▢▢▨▨▨▢▢▢▢▢▢▢▨▨▨▢▢▨▢▢▢▢▢▨▢▢▢▨▨▨▨▨▨▨▨▢▢▢▢▢▢▢▨▨▨▨▨▢▢▢▨▨▨▨▢▢▨▨▨▢▢▢▢▢▨▢▢▢▢▢▢▢▨▨▨▢▢▢▩\n",
      "▩▢▢▢▢▢▢▢▢▢▢▢▢▢▨▢▢▢▨▨▨▨▨▨▨▢▢▨▨▨▨▢▢▢▢▢▢▢▢▢▢▢▢▢▢▢▢▢▢▢▢▢▢▢▢▢▢▢▨▨▨▢▢▢▢▨▢▢▢▢▢▢▢▨▨▨▢▢▢▩\n",
      "▩▨▢▢▢▢▢▢▨▨▢▢▢▢▢▢▢▢▨▨▨▨▨▨▨▢▢▨▨▨▨▢▢▢▢▢▢▢▢▢▢▢▢▢▢▢▢▢▢▢▢▢▢▢▢▢▢▢▢▨▨▨▢▢▢▨▢▢▢▢▢▢▢▨▨▢▢▢▨▩\n",
      "▩▨▨▨▨▢▢▢▨▨▨▨▢▢▢▢▢▢▨▨▨▨▢▢▢▢▢▨▨▨▨▢▢▨▨▨▨▨▢▢▢▢▢▢▢▢▢▢▢▢▢▢◎▢▢▢▢▢▢▨▨▨▨▢▢▨▢▢▢▨▢▢▢▨▨▢▢▢▨▩\n",
      "▩▨▨▨▨▨▢▢▨▨▢▢▢▢▢▢▢▢▨▨▨▢▢▢▢▢▨▨▨▨▨▢▢▨▨▨▨▨▨▢▢▢▢▢▨▨▨▢▢▢▢▢▢▢▢▢▢▢▢▢▨▨▢▢▢▢▢▢▨▨▢▢▢▨▨▢▢▢▨▩\n",
      "▩▢▢▢▢▢▢▢▢▢▢▢▢▢▨▢▢▢▢▨▨▢▢▢▨▨▨▨▨▨▨▢▢▨▨▨▨▨▨▢▢▢▨▨▨▨▨▨▢▢▢▢▢▢▢▢▢▢▢▢▢▢▢▢▢▢▢▢▨▨▢▢▨▨▨▢▢▢▨▩\n",
      "▩▢▢▢▢▢▢▢▢▢▢▢▨▨▨▨▢▢▢▢▢▢▢▨▨▨▨▨▨▨▨▢▢▨▨▨▨▨▢▢▢▨▨▨▨▨▨▨▢▢▢▢▢▢▢▢▢▢▢▢▢▢▢▢▨▨▨▨▨▨▢▢▨▨▨▨▢▢▢▩\n",
      "▩▨▨▢▢▢▢▨▨▨▨▨▨▨▨▨▨▢▢▢▢▢▢▢▨▨▨▨▨▨▨▢▢▨▨▨◈▢▢▢▢▢▨▨▨▨▨▨▢▢▨▨▨▨▨▨▨▢▢◎▢▢▢▨▨▨▨▨▨▨▢▢▨▨▨▨▢▢▢▩\n",
      "▩▨▨▨▢▢▢▨▨▨▨▨▨▨▨▨▨▨▨▨▢▢▢▢▢▢▢▨▨▨▨▢▢▨▨▨▢▢▢▢▢▢▢▨▨▨▨▨▢▢▨▨▨▨▨▨▨▢▢▢▢▢▢▨▨▨▨▨▨▨▢▢▨▨▨▢▢▢▨▩\n",
      "▩▨▨▨▢▢▢▢▢▢▢▢▢▨▨▨▨▨▨▨▨▢▢▢▢▢▢▢▨▨▨▢▢▨▨▨▢▢▢◎▢▢▢▨▨▨▨▨▢▢▢▢▢▢▨▨▢▢▢▢▢▢▢▨▨▨▨▨▨▨▢▢▨▨▨▢▢▢▨▩\n",
      "▩▢◈▨▢▢▢▢▢▢▢▢▢▢▨▨▨▨▨▨▨▢▢◎▢▢▢▢▢▨▢▢▢▨▨▨▢▢▢▢▢▢▢▨▨▨▨▢▢▢▢▢▢▢▢▢▢▢▢▨▨▨▨▨▨▨▨▨▨▨▢▢▨▨▨▢▢▨▨▩\n",
      "▩▢▢▨▨▨▨▨▢▢▢▢▢▢▨▨▨▨▨▨▨▢▢▢▢▢▢▢▢▢▢▢▢▨▨▨▨▢▢▢▢▢▢▨▨▢▢▢▢▢▢▨▢▢▢▢▢▢▨▨▨▨▨▨▨▨▨▨▨▨▢▢▨▨▨▢▢▨▨▩\n",
      "▩▢▢▨▨▨▨▨▢▢◎▢▢▢▨▨▨▨▨▨▢▢▢▢▢▨▨▢▢◎▢▢▢▨▨▨▨▨▨▨▢▢▢▨▨▢▢▢▢▢▢▨▢▢◎▢▢▢▨▨▨▨▨▨▨▨▨▨▨▢▢▢▨▨▨▢▢▨▨▩\n",
      "▩▢▢▨▨▢▢▨▢▢▢▢▢▢▨▨▨▨▢▢▢▢▢▢▢▢▢▢▢▢▢▢▢▨▨▨▨▨▨▨▢▢▢▨▨▢▢▨◎▢▢▢▢▢▢▢▢▢▢▨▨▨▨▨▨▨▨▨▨▢▢▢▨▨▢▢▢▨▨▩\n",
      "▩▢▢▢▢▢▢▢▢▢▢▢▢▢▨▨▨▢▢▢▢▢▨▢▢▢▢▢▢▢▢▢▢▢▢▢▨▨▨▢▢▢▨▨▨▢▢▢▢▢▢▢▢▢▢▢▢▢▢▨▨▨▨▨▨▨▨▨▢▢▢▨▨▢▢▢▢▨▨▩\n",
      "▩▢▢▢▢▢▢▢▢▢▢▢▢▢▢▨▨▢▢▨▨▨▨▢▢▢▢▢▢▢▢▢▢▢▢▢▢▨▨▨▢▢▨▨▨▢▢▢▢▢▢▨▨▨▨▨▨▢▢▨▨▨▨▨▨▨▢▢▢▢▢▨▨▢▢▢▨▨▨▩\n",
      "▩▨▢▢▢▢▨▢▢▢▨▢▢▢▢▨▨▢▢▢▢▨▨▢▢▢▢▢▢▨▨▨▨▨▢▢▢▨◈▢▢▢▨▨▨▨▢▢▢▢▢▢▨▨▨▨▢▢▢▨▨▨▨▨▨▢▢▢▢▢▨▨▨▢▢▨▨▨▨▩\n",
      "▩▨▨▢▢▨▨▨▢▢▨▢▢▢▢▨▢▢▢▢▢▢▨▢▢▢▨▨▨▨▨▨▨▨▨▢▢▨▢▢▢▢▨▨▨▨▨◈▨▢▢▢▢▢▢▢▢▢▢▨▨▨▨▨▨▢▢▨▨▢▢▢▢▢▢▨▨▨▨▩\n",
      "▩▨▨▨▨▨▨▨▢▢▨▢▢▢▨▢▨▢◎▢▢▢▨▢▢▢▨▨▨▨▨▨▨▨▨▢▢▨▢▢▢▨▨▨▨▨▨▨▨▨▢▢▢▢▢▢▢▢▨▨▨▨▨▨▨▢▢▨▨▢▢▢▢▢▨▨▨▨▨▩\n",
      "▩▩▩▩▩▩▩▩▩▩▩▩▩▩▩▩▩▩▩▩▩▩▩▩▩▩▩▩▩▩▩▩▩▩▩▩▩▩▩▩▩▩▩▩▩▩▩▩▩▩▩▩▩▩▩▩▩▩▩▩▩▩▩▩▩▩▩▩▩▩▩▩▩▩▩▩▩▩▩▩\n"
     ]
    }
   ],
   "source": [
    "# let's start by finding an empty spot somewhere in the middle of the map\n",
    "\n",
    "def find_starting_spot_for_flood_fill(grid):\n",
    "    x = random.randrange(int(0.3*MAP_WIDTH), int(0.7*MAP_WIDTH))\n",
    "    y = random.randrange(int(0.3*MAP_WIDTH), int(0.7*MAP_WIDTH))\n",
    "    while grid[y][x] != 0:\n",
    "        x = random.randrange(int(0.3*MAP_WIDTH), int(0.7*MAP_WIDTH))\n",
    "        y = random.randrange(int(0.3*MAP_WIDTH), int(0.7*MAP_WIDTH))\n",
    "    return x, y\n",
    "\n",
    "def flood_fill(x, y, grid, real_grid, treasure_locations, spawn_points):\n",
    "    if grid[y][x] == 0:\n",
    "        if count_alive_neighbors(real_grid, x, y, 1) > 4:\n",
    "            treasure_locations.append((x, y))\n",
    "        elif count_alive_neighbors(real_grid, x, y, 2) < 2:\n",
    "            spawn_points.append((x, y))\n",
    "        grid[y][x] = 99\n",
    "        global filled_space\n",
    "        filled_space += 1\n",
    "        if x > 0:\n",
    "            flood_fill(x-1, y, grid, real_grid, treasure_locations, spawn_points)\n",
    "        if x < len(grid[0]) - 1:\n",
    "            flood_fill(x+1, y, grid, real_grid, treasure_locations, spawn_points)\n",
    "        if y > 0:\n",
    "            flood_fill(x, y-1, grid, real_grid, treasure_locations, spawn_points)\n",
    "        if y < len(grid) - 1:\n",
    "            flood_fill(x, y+1, grid, real_grid, treasure_locations, spawn_points)\n",
    "\n",
    "def fill_not_accessible_areas(grid, flood_filled_grid):\n",
    "    for y, row in enumerate(grid):\n",
    "        for x, _ in enumerate(row):\n",
    "            if grid[y][x] == 0 and grid[y][x] == flood_filled_grid[y][x]:\n",
    "                grid[y][x] = 1\n",
    "                continue\n",
    "    return grid\n",
    "\n",
    "def filter_treasure_locations(treasure_locations):\n",
    "    # I think a 70% chance for each one to be present on the map will be enough for now\n",
    "    treasure_locations = [loc for loc in treasure_locations if random.choices([True, False], weights=[0.7, 0.3])[0]]\n",
    "    return treasure_locations\n",
    "    \n",
    "def filter_spawn_points(spawn_points, grid):\n",
    "    tmp_grid = array(grid, copy=True)\n",
    "    add_spawn_points(tmp_grid, spawn_points)\n",
    "    # I'd like to add all the ones that are separate from the other ones and remove them from the overall group\n",
    "    # because of how they are initially selected, I can just use the count alive neighbors function\n",
    "    # the \"alone\" spawn points will have 0 or 1 \"alive neighbors\" (a spawn point counts as 4)\n",
    "    selected_spawn_points = [pt for pt in spawn_points if count_alive_neighbors(tmp_grid, *pt, 1) < 2]\n",
    "    spawn_points = [pt for pt in spawn_points if not pt in selected_spawn_points]\n",
    "    # the remaining spawn points create distinct groups, so I thought I'd use some simple clustering method\n",
    "    # and then take the cluster's centroids as spawn points\n",
    "    import scipy.cluster.hierarchy as hcluster\n",
    "    clusters = hcluster.fclusterdata(spawn_points, 1.5, criterion=\"distance\")\n",
    "    spawn_points = [mean([spawn_points[i] for i, cl_no in enumerate(clusters) if cl_no == cl], axis=0) for cl in set(clusters)]\n",
    "    # round coordinates and omit ones that land on a wall\n",
    "    spawn_points = [(int(x), int(y)) for x, y in spawn_points if grid[int(y)][int(x)] == 0]\n",
    "    selected_spawn_points.extend(spawn_points)\n",
    "    return selected_spawn_points\n",
    "\n",
    "def add_treasure_locations(grid, treasure_locations):\n",
    "    for x, y in treasure_locations:\n",
    "        grid[y][x] = 3\n",
    "        \n",
    "def add_spawn_points(grid, spawn_spots):\n",
    "    for x, y in spawn_spots:\n",
    "        grid[y][x] = 4\n",
    "        \n",
    "filled_space = 0\n",
    "new_grid = array(grid_for_processing, copy=True)\n",
    "\n",
    "potential_treasure_locations = []\n",
    "potential_spawn_spots = []        \n",
    "x, y = find_starting_spot_for_flood_fill(new_grid)\n",
    "flood_fill(x, y, new_grid, grid_for_processing, potential_treasure_locations, potential_spawn_spots)                \n",
    "grid_for_processing = fill_not_accessible_areas(grid_for_processing, new_grid)\n",
    "print(len(potential_treasure_locations))\n",
    "potential_treasure_locations = filter_treasure_locations(potential_treasure_locations)\n",
    "print(len(potential_treasure_locations))\n",
    "add_treasure_locations(grid_for_processing, potential_treasure_locations)\n",
    "print(len(potential_spawn_spots))\n",
    "potential_spawn_spots = filter_spawn_points(potential_spawn_spots, grid_for_processing)\n",
    "print(len(potential_spawn_spots))\n",
    "add_spawn_points(grid_for_processing, potential_spawn_spots)\n",
    "add_border(grid_for_processing)\n",
    "\n",
    "print(filled_space/(MAP_WIDTH*MAP_HEIGHT))\n",
    "print_map(grid_for_processing)"
   ]
  },
  {
   "cell_type": "code",
   "execution_count": null,
   "id": "213c31cf",
   "metadata": {},
   "outputs": [],
   "source": [
    "import json\n",
    "with open(\"mockgrid_big.json\", \"w\") as j:\n",
    "    json.dump(grid.tolist(), j)"
   ]
  },
  {
   "cell_type": "code",
   "execution_count": null,
   "id": "9220a70a",
   "metadata": {},
   "outputs": [],
   "source": []
  }
 ],
 "metadata": {
  "interpreter": {
   "hash": "e97ca983e3af110a7d01cf7056cb0003bb1889bfbe2259eee324d02462c77d23"
  },
  "kernelspec": {
   "display_name": "Python 3",
   "language": "python",
   "name": "python3"
  },
  "language_info": {
   "codemirror_mode": {
    "name": "ipython",
    "version": 3
   },
   "file_extension": ".py",
   "mimetype": "text/x-python",
   "name": "python",
   "nbconvert_exporter": "python",
   "pygments_lexer": "ipython3",
   "version": "3.8.6"
  }
 },
 "nbformat": 4,
 "nbformat_minor": 5
}
